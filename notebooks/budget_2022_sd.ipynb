{
 "cells": [
  {
   "cell_type": "markdown",
   "id": "250a5e22-9768-4f92-8b00-9197d2a8c4b3",
   "metadata": {},
   "source": [
    "https://www.riksdagen.se/sv/dokument-lagar/dokument/motion/nu-ar-det-dags-for-sverige--sverigedemokraternas_H9023938"
   ]
  },
  {
   "cell_type": "code",
   "execution_count": 1,
   "id": "867f8a98-1988-4703-adcb-7c7e36be1e38",
   "metadata": {},
   "outputs": [],
   "source": [
    "import pandas as pd"
   ]
  },
  {
   "cell_type": "code",
   "execution_count": 2,
   "id": "8b817f22-695b-4490-83b3-a49d8da2e3f0",
   "metadata": {},
   "outputs": [],
   "source": [
    "html_url = 'https://www.riksdagen.se/sv/dokument-lagar/dokument/motion/nu-ar-det-dags-for-sverige--sverigedemokraternas_H9023938/html'"
   ]
  },
  {
   "cell_type": "code",
   "execution_count": 3,
   "id": "4afddf3f-2a0c-4710-b49e-cca2428849c0",
   "metadata": {},
   "outputs": [],
   "source": [
    "tables = pd.read_html(html_url)"
   ]
  },
  {
   "cell_type": "code",
   "execution_count": 4,
   "id": "9aa06f1a-ce1e-4734-a661-a679a991e779",
   "metadata": {},
   "outputs": [
    {
     "data": {
      "text/plain": [
       "57"
      ]
     },
     "execution_count": 4,
     "metadata": {},
     "output_type": "execute_result"
    }
   ],
   "source": [
    "len(tables)"
   ]
  },
  {
   "cell_type": "code",
   "execution_count": 12,
   "id": "2d846d84-5925-4ccd-8ebd-a433321205e4",
   "metadata": {},
   "outputs": [],
   "source": [
    "tables = tables[20:47]"
   ]
  },
  {
   "cell_type": "code",
   "execution_count": 16,
   "id": "677f7ab6-862f-4936-aed0-e15bf1400757",
   "metadata": {},
   "outputs": [],
   "source": [
    "for table in tables:\n",
    "    table.columns = ['Kod', 'Namn', 'Regeringens förslag', 'Avvikelse från regeringen']\n",
    "    table.drop([0], inplace=True)"
   ]
  },
  {
   "cell_type": "code",
   "execution_count": 17,
   "id": "32400eb4-2e40-435e-bc75-bd449492c764",
   "metadata": {},
   "outputs": [],
   "source": [
    "df = pd.concat(tables, sort=False)"
   ]
  },
  {
   "cell_type": "code",
   "execution_count": 18,
   "id": "806e1a6d-f222-4965-bfec-91649f9b0454",
   "metadata": {},
   "outputs": [],
   "source": [
    "df = df.dropna(how='all')"
   ]
  },
  {
   "cell_type": "code",
   "execution_count": 19,
   "id": "47862d6f-5ad1-4f66-b8d0-60b105c9e3b1",
   "metadata": {},
   "outputs": [],
   "source": [
    "df = df[df.Kod != 'Summa']"
   ]
  },
  {
   "cell_type": "code",
   "execution_count": 20,
   "id": "7324f2c1-3b49-4dfd-9e2c-4b2b4c1de42e",
   "metadata": {},
   "outputs": [],
   "source": [
    "df = df[~df.Kod.str.startswith('Ramanslag')]"
   ]
  },
  {
   "cell_type": "code",
   "execution_count": 21,
   "id": "76943c14-9929-4fd6-86b3-bf23016bd8a7",
   "metadata": {},
   "outputs": [],
   "source": [
    "df = df.replace('±0', '0')"
   ]
  },
  {
   "cell_type": "code",
   "execution_count": 23,
   "id": "27a40c25-4c12-4892-a665-da989d26e9f2",
   "metadata": {},
   "outputs": [],
   "source": [
    "df.to_csv('sverigedemokraterna-budgetmotion-2022.csv', index=False)"
   ]
  },
  {
   "cell_type": "code",
   "execution_count": null,
   "id": "cf5dec4c-077f-447d-9fe7-94beac2223c5",
   "metadata": {},
   "outputs": [],
   "source": []
  }
 ],
 "metadata": {
  "kernelspec": {
   "display_name": "Python 3",
   "language": "python",
   "name": "python3"
  },
  "language_info": {
   "codemirror_mode": {
    "name": "ipython",
    "version": 3
   },
   "file_extension": ".py",
   "mimetype": "text/x-python",
   "name": "python",
   "nbconvert_exporter": "python",
   "pygments_lexer": "ipython3",
   "version": "3.7.9"
  }
 },
 "nbformat": 4,
 "nbformat_minor": 5
}
