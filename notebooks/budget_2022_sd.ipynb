{
 "cells": [
  {
   "cell_type": "markdown",
   "id": "250a5e22-9768-4f92-8b00-9197d2a8c4b3",
   "metadata": {},
   "source": [
    "https://www.riksdagen.se/sv/dokument-lagar/dokument/motion/nu-ar-det-dags-for-sverige--sverigedemokraternas_H9023938"
   ]
  },
  {
   "cell_type": "code",
   "execution_count": 174,
   "id": "867f8a98-1988-4703-adcb-7c7e36be1e38",
   "metadata": {},
   "outputs": [],
   "source": [
    "import re\n",
    "from io import StringIO\n",
    "import pandas as pd\n",
    "import requests\n",
    "from bs4 import BeautifulSoup"
   ]
  },
  {
   "cell_type": "code",
   "execution_count": 175,
   "id": "d2731682-ee13-4c66-91f1-6f79ffc77be4",
   "metadata": {},
   "outputs": [],
   "source": [
    "multiplier = 1_000"
   ]
  },
  {
   "cell_type": "code",
   "execution_count": 192,
   "id": "0de35fd1-c34c-4f93-a04f-7d8ee85b3384",
   "metadata": {},
   "outputs": [],
   "source": [
    "search_url = 'https://data.riksdagen.se/dokumentlista/'\n",
    "params = {\n",
    "    'sok': 'utgiftsområde',\n",
    "    'doktyp': 'mot',\n",
    "    'rm': '2021/22',\n",
    "    'parti': 'SD',\n",
    "    'sort': 'rel',\n",
    "    'sortorder': 'desc',\n",
    "    'utformat': 'json',\n",
    "    'a': 's'}\n",
    "\n",
    "resp = requests.get(search_url, params=params)\n",
    "data = resp.json()\n",
    "docs = pd.DataFrame(data['dokumentlista']['dokument'])\n",
    "docs = docs[['titel', 'undertitel', 'rm', 'dokument_url_html']]"
   ]
  },
  {
   "cell_type": "code",
   "execution_count": 193,
   "id": "2934bd37-f392-4d40-abc0-d28127767647",
   "metadata": {},
   "outputs": [],
   "source": [
    "docs['Utgiftsområde'] = docs.titel.str.extract('Utgiftsområde (\\d+)')\n",
    "docs['Utgiftsområde'] = docs['Utgiftsområde'].astype(int)\n",
    "docs = docs.sort_values('Utgiftsområde').reset_index(drop=True)"
   ]
  },
  {
   "cell_type": "code",
   "execution_count": 194,
   "id": "66110d41-c296-4628-8473-6d0e3f3f59b2",
   "metadata": {},
   "outputs": [],
   "source": [
    "def collect_tables(url):\n",
    "    resp = requests.get(url)\n",
    "    text = resp.text\n",
    "    soup = BeautifulSoup(text)\n",
    "    h3s = soup.select('table~h3')\n",
    "    tables = soup.select('h3+table')\n",
    "    frames = []\n",
    "\n",
    "    for h3, table in zip(h3s, tables):\n",
    "        headline = h3.text.strip()\n",
    "        if not re.match('\\d+:\\d+', headline):\n",
    "            continue\n",
    "        frame = pd.read_html(StringIO(str(table)), header=0, thousands=' ')[0]\n",
    "        frame['Anslag'] = headline\n",
    "        # Misspelled header\n",
    "        frame = frame.rename(columns={'Beräknat 2023.1': 'Beräknat 2024'})\n",
    "        # Other misspelled header\n",
    "        if 'Förslag 2021' in frame:\n",
    "            frame = frame.rename(columns={'Beräknat 2023': 'Beräknat 2024',\n",
    "                                          'Beräknat 2022': 'Beräknat 2023',\n",
    "                                          'Förslag 2021': 'Förslag 2022'})\n",
    "        frames.append(frame)\n",
    "    \n",
    "    try:\n",
    "        df = pd.concat(frames)\n",
    "    except ValueError:\n",
    "        df = None\n",
    "    return df"
   ]
  },
  {
   "cell_type": "code",
   "execution_count": 195,
   "id": "65a0cbea-f8d9-4745-be39-98a27ebd35ce",
   "metadata": {},
   "outputs": [
    {
     "name": "stdout",
     "output_type": "stream",
     "text": [
      "2\n",
      "5\n"
     ]
    }
   ],
   "source": [
    "frames = []\n",
    "\n",
    "for _, doc in docs.iterrows():\n",
    "    frame = collect_tables(f'http:{doc.dokument_url_html}')\n",
    "    if frame is None:\n",
    "        print(doc.Utgiftsområde)\n",
    "        continue\n",
    "    frame['Utgiftsområde'] = doc.Utgiftsområde\n",
    "    frames.append(frame)"
   ]
  },
  {
   "cell_type": "code",
   "execution_count": 196,
   "id": "5674f7ec-caa2-4126-af07-16cf8be58767",
   "metadata": {},
   "outputs": [],
   "source": [
    "df = pd.concat(frames)"
   ]
  },
  {
   "cell_type": "code",
   "execution_count": 199,
   "id": "ce75867f-7288-433d-b93d-3b05d2707dc8",
   "metadata": {},
   "outputs": [],
   "source": [
    "# Fix error\n",
    "df['Beräknat 2024'] = df['Beräknat 2024'].fillna(df['Beräknat 2024 4'])\n",
    "df = df.drop('Beräknat 2024 4', axis=1)"
   ]
  },
  {
   "cell_type": "code",
   "execution_count": 200,
   "id": "b8dbd0ec-3035-426f-a286-832b3b2f6577",
   "metadata": {},
   "outputs": [],
   "source": [
    "# Special case for utgiftsområde 2\n",
    "# https://riksdagen.se/sv/dokument-lagar/dokument/motion/utgiftsomrade-2-samhallsekonomi-och_H9023906\n",
    "\n",
    "df = df.append([{\n",
    "    'Anslag': '1:11 Finansinspektionen',\n",
    "    'Förslag 2022': '5000',\n",
    "    'Beräknat 2023': '5000',\n",
    "    'Beräknat 2024': '5000',\n",
    "    'Utgiftsområde': 2,\n",
    "}])"
   ]
  },
  {
   "cell_type": "code",
   "execution_count": 201,
   "id": "7361a4d9-2d9f-4d45-bc36-cc198223f28f",
   "metadata": {},
   "outputs": [],
   "source": [
    "# Special case for utgiftsområde 5\n",
    "# https://riksdagen.se/sv/dokument-lagar/dokument/motion/utgiftsomrade-2-samhallsekonomi-och_H9023906\n",
    "\n",
    "df = df.append([\n",
    "    {\n",
    "        'Anslag': '1:3 Nordiskt samarbete',\n",
    "        'Förslag 2022': '10000',\n",
    "        'Beräknat 2023': '10000',\n",
    "        'Beräknat 2024': '10000',\n",
    "        'Utgiftsområde': 5\n",
    "    },\n",
    "    {\n",
    "        'Anslag': '1:5 Inspektionen för strategiska produkter',\n",
    "        'Förslag 2022': '1000',\n",
    "        'Beräknat 2023': '1000',\n",
    "        'Beräknat 2024': '1000',\n",
    "        'Utgiftsområde': 5\n",
    "    },\n",
    "    {\n",
    "        'Anslag': '1:9 Svenska institutet',\n",
    "        'Förslag 2022': '10000',\n",
    "        'Beräknat 2023': '10000',\n",
    "        'Beräknat 2024': '10000',\n",
    "        'Utgiftsområde': 5\n",
    "    },])"
   ]
  },
  {
   "cell_type": "code",
   "execution_count": 202,
   "id": "fe409a19-7d14-47fa-a6af-cf45769de4ea",
   "metadata": {},
   "outputs": [],
   "source": [
    "# Hack to sum up too detailed rows\n",
    "df = df.drop(['Avvikelse från regeringen', 'Unnamed: 0'], axis=1)\n",
    "df.columns = [x.replace('Förslag ', '').replace('Beräknat ', '') for x in df.columns]\n",
    "for col in ['2022', '2023', '2024']:\n",
    "    df[col] = df[col].fillna(0).astype(str)\n",
    "    df[col] = df[col].str.split('.', expand=True)[0]\n",
    "    df[col] = df[col].str.replace('±0', '0', regex=False)\n",
    "    df[col] = df[col].str.replace('\\s+', '', regex=True)\n",
    "    df[col] = df[col].str.replace('−', '-')\n",
    "    df[col] = df[col].str.replace('–', '-')\n",
    "    df[col] = df[col].astype(int) * multiplier\n",
    "\n",
    "df = df.reset_index(drop=True)\n",
    "_map = df[['Anslag', 'Utgiftsområde']].drop_duplicates().set_index('Anslag')['Utgiftsområde'].to_dict()\n",
    "df = df.groupby('Anslag', as_index=False).sum().drop('Utgiftsområde', axis=1)\n",
    "df['Utgiftsområde'] = df.Anslag.map(_map)\n",
    "df = df.sort_values('Utgiftsområde')"
   ]
  },
  {
   "cell_type": "code",
   "execution_count": 203,
   "id": "f41d709a-bffa-4a5e-a32c-02f55c4d3d23",
   "metadata": {},
   "outputs": [],
   "source": [
    "df['Namn'] = df.Anslag.str.split('\\d+:\\d+', expand=True)[1].str.strip()\n",
    "df['Anslag'] = df.Anslag.str.extract('^(\\d+:\\d+) ')"
   ]
  },
  {
   "cell_type": "code",
   "execution_count": 208,
   "id": "27a40c25-4c12-4892-a665-da989d26e9f2",
   "metadata": {},
   "outputs": [],
   "source": [
    "df.to_csv('../data/budgetmotion-2022-sd.csv', index=False)"
   ]
  },
  {
   "cell_type": "code",
   "execution_count": null,
   "id": "cf5dec4c-077f-447d-9fe7-94beac2223c5",
   "metadata": {},
   "outputs": [],
   "source": []
  }
 ],
 "metadata": {
  "kernelspec": {
   "display_name": "Python 3 (ipykernel)",
   "language": "python",
   "name": "python3"
  },
  "language_info": {
   "codemirror_mode": {
    "name": "ipython",
    "version": 3
   },
   "file_extension": ".py",
   "mimetype": "text/x-python",
   "name": "python",
   "nbconvert_exporter": "python",
   "pygments_lexer": "ipython3",
   "version": "3.9.0"
  }
 },
 "nbformat": 4,
 "nbformat_minor": 5
}
