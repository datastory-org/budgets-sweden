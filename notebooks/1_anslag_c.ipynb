{
 "cells": [
  {
   "cell_type": "markdown",
   "id": "250a5e22-9768-4f92-8b00-9197d2a8c4b3",
   "metadata": {},
   "source": [
    "# Centerpartiets budgetmotion 2022\n",
    "\n",
    "https://www.riksdagen.se/sv/dokument-lagar/dokument/motion/centerpartiets-budgetmotion-2022_H9024121"
   ]
  },
  {
   "cell_type": "code",
   "execution_count": 1,
   "id": "867f8a98-1988-4703-adcb-7c7e36be1e38",
   "metadata": {},
   "outputs": [],
   "source": [
    "import pandas as pd\n",
    "import requests\n",
    "\n",
    "pd.options.mode.chained_assignment = None"
   ]
  },
  {
   "cell_type": "code",
   "execution_count": 2,
   "id": "7064bbd6-7789-4cdb-9707-a638211e5d00",
   "metadata": {},
   "outputs": [],
   "source": [
    "multiplier = 1_000_000"
   ]
  },
  {
   "cell_type": "code",
   "execution_count": 35,
   "id": "4ebd30f2-10e3-4b0d-b306-dc164734f3f8",
   "metadata": {},
   "outputs": [],
   "source": [
    "docs = [\n",
    "    {'utgiftsområde': 1, 'dok_id': 'H9024141'},\n",
    "    {'utgiftsområde': 2, 'dok_id': 'H9024140'},\n",
    "    {'utgiftsområde': 3, 'dok_id': 'H9024142'},\n",
    "    {'utgiftsområde': 4, 'dok_id': 'H9024143'},\n",
    "    {'utgiftsområde': 5, 'dok_id': 'H9024144'},\n",
    "    {'utgiftsområde': 6, 'dok_id': 'H9024145'},\n",
    "    {'utgiftsområde': 7, 'dok_id': 'H9024146'},\n",
    "    {'utgiftsområde': 8, 'dok_id': 'H9024147'},\n",
    "    {'utgiftsområde': 9, 'dok_id': 'H9024128'},\n",
    "    {'utgiftsområde': 10, 'dok_id': 'H9024148'},\n",
    "    {'utgiftsområde': 11, 'dok_id': 'H9024149'},\n",
    "    {'utgiftsområde': 12, 'dok_id': 'H9024150'},\n",
    "    {'utgiftsområde': 13, 'dok_id': 'H9024127'},\n",
    "    {'utgiftsområde': 14, 'dok_id': 'H9024129'},\n",
    "    {'utgiftsområde': 15, 'dok_id': 'H9024125'},\n",
    "    {'utgiftsområde': 16, 'dok_id': 'H9024126'},\n",
    "    {'utgiftsområde': 17, 'dok_id': 'H9024130'},\n",
    "    {'utgiftsområde': 18, 'dok_id': 'H9024122'},\n",
    "    {'utgiftsområde': 19, 'dok_id': 'H9024123'},\n",
    "    {'utgiftsområde': 20, 'dok_id': 'H9024124'},\n",
    "    {'utgiftsområde': 21, 'dok_id': 'H9024136'},\n",
    "    {'utgiftsområde': 22, 'dok_id': 'H9024135'},\n",
    "    {'utgiftsområde': 23, 'dok_id': 'H9024134'},\n",
    "    {'utgiftsområde': 24, 'dok_id': 'H9024133'},\n",
    "    {'utgiftsområde': 25, 'dok_id': 'H9024132'}]"
   ]
  },
  {
   "cell_type": "code",
   "execution_count": 36,
   "id": "74d71d0f-849d-48c3-9741-6adaeee9645c",
   "metadata": {},
   "outputs": [],
   "source": [
    "def find_matching_table(tables, loc=None):\n",
    "    if loc:\n",
    "        return tables[loc]\n",
    "    for table in tables:\n",
    "        if table.columns.shape == (5,):\n",
    "            break\n",
    "    return table"
   ]
  },
  {
   "cell_type": "code",
   "execution_count": 37,
   "id": "635ea1e5-e7f6-477f-9009-128dbae3264c",
   "metadata": {},
   "outputs": [],
   "source": [
    "def fetch_table(url, area):\n",
    "    tables = pd.read_html(url, encoding='utf8', header=2)\n",
    "    cols = ['Anslag', 'Namn', '2022', '2023', '2024']\n",
    "    loc = 3 if area in [14, 24] else None\n",
    "    df = find_matching_table(tables, loc)\n",
    "    df.columns = cols\n",
    "    df = df.dropna(how='all')\n",
    "    df = df[~df.Anslag.str.startswith('Summa', na=False)]\n",
    "    df['Utgiftsområde'] = area\n",
    "    return df"
   ]
  },
  {
   "cell_type": "code",
   "execution_count": 43,
   "id": "e86be06d-eb05-45ab-9840-8a6babd29c45",
   "metadata": {},
   "outputs": [],
   "source": [
    "tables = []\n",
    "\n",
    "for doc in docs:\n",
    "    url = f'http://data.riksdagen.se/dokument/{doc[\"dok_id\"]}.html'\n",
    "    table = fetch_table(url, area=doc['utgiftsområde'])\n",
    "    tables.append(table)"
   ]
  },
  {
   "cell_type": "code",
   "execution_count": 44,
   "id": "32400eb4-2e40-435e-bc75-bd449492c764",
   "metadata": {},
   "outputs": [],
   "source": [
    "df = pd.concat(tables, sort=False)"
   ]
  },
  {
   "cell_type": "code",
   "execution_count": 45,
   "id": "806e1a6d-f222-4965-bfec-91649f9b0454",
   "metadata": {},
   "outputs": [],
   "source": [
    "df = df.dropna(how='all')"
   ]
  },
  {
   "cell_type": "code",
   "execution_count": 47,
   "id": "1be8cb99-c430-44df-87d0-ea9c7aa2efe1",
   "metadata": {},
   "outputs": [],
   "source": [
    "for col in ['2022', '2023', '2024']:\n",
    "    df[col] = df[col].astype(str)\n",
    "    df[col] = df[col].str.split('.', expand=True)[0]\n",
    "    df[col] = df[col].str.replace('±0', '0', regex=False)\n",
    "    df[col] = df[col].str.replace('\\s+', '', regex=True)\n",
    "    df[col] = df[col].str.replace('−', '-')\n",
    "    df[col] = df[col].astype(int) * multiplier"
   ]
  },
  {
   "cell_type": "code",
   "execution_count": 49,
   "id": "27a40c25-4c12-4892-a665-da989d26e9f2",
   "metadata": {},
   "outputs": [],
   "source": [
    "df.to_csv('../data/budgetmotion-2022-c.csv', index=False)"
   ]
  },
  {
   "cell_type": "code",
   "execution_count": null,
   "id": "6e440b7c-f1bf-47a8-b54f-a0c84a285f17",
   "metadata": {},
   "outputs": [],
   "source": []
  }
 ],
 "metadata": {
  "kernelspec": {
   "display_name": "Python 3 (ipykernel)",
   "language": "python",
   "name": "python3"
  },
  "language_info": {
   "codemirror_mode": {
    "name": "ipython",
    "version": 3
   },
   "file_extension": ".py",
   "mimetype": "text/x-python",
   "name": "python",
   "nbconvert_exporter": "python",
   "pygments_lexer": "ipython3",
   "version": "3.9.0"
  }
 },
 "nbformat": 4,
 "nbformat_minor": 5
}
