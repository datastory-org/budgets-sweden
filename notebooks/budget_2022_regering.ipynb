{
 "cells": [
  {
   "cell_type": "markdown",
   "id": "15268ba1-3959-4078-942a-3271f69af579",
   "metadata": {},
   "source": [
    "https://www.regeringen.se/rattsliga-dokument/proposition/2021/09/prop.-2021221/"
   ]
  },
  {
   "cell_type": "code",
   "execution_count": 2,
   "id": "dae02135-1657-4ae8-b43b-168f94d106b2",
   "metadata": {},
   "outputs": [],
   "source": [
    "import pandas as pd"
   ]
  },
  {
   "cell_type": "code",
   "execution_count": 18,
   "id": "0521cc3b-3bf4-4966-92d8-d633e0e0c62f",
   "metadata": {},
   "outputs": [],
   "source": [
    "multiplier = 1_000"
   ]
  },
  {
   "cell_type": "code",
   "execution_count": 13,
   "id": "730223f3-e22b-4ec9-a169-233b48015bed",
   "metadata": {},
   "outputs": [],
   "source": [
    "path = '../data/specifikation-av-budgetens-inkomster-och-utgifter-2022.xlsx'\n",
    "df = pd.read_excel(path, sheet_name='Utgifter', skiprows=4)"
   ]
  },
  {
   "cell_type": "code",
   "execution_count": 14,
   "id": "ecebe6eb-a2a2-412a-a0f9-072ff5e7bb27",
   "metadata": {},
   "outputs": [],
   "source": [
    "df = df[df.columns[1:]]"
   ]
  },
  {
   "cell_type": "code",
   "execution_count": 15,
   "id": "5d85273b-394e-42c1-82ac-8bc8697d4c3b",
   "metadata": {},
   "outputs": [],
   "source": [
    "df.columns = ['Kod', 'Namn', 'Kronor']"
   ]
  },
  {
   "cell_type": "code",
   "execution_count": 17,
   "id": "dcd7200f-7d60-432e-9578-51757ef531bb",
   "metadata": {},
   "outputs": [],
   "source": [
    "df.Kronor = df.Kronor.astype(int)"
   ]
  },
  {
   "cell_type": "code",
   "execution_count": 19,
   "id": "de6ebf1d-cd8e-4eaf-ad8c-2dab3cf5f719",
   "metadata": {},
   "outputs": [],
   "source": [
    "df.Kronor = df.Kronor * multiplier"
   ]
  },
  {
   "cell_type": "code",
   "execution_count": 20,
   "id": "d1807381-171d-4439-9b6c-ddf6e6097f3d",
   "metadata": {},
   "outputs": [
    {
     "data": {
      "text/html": [
       "<div>\n",
       "<style scoped>\n",
       "    .dataframe tbody tr th:only-of-type {\n",
       "        vertical-align: middle;\n",
       "    }\n",
       "\n",
       "    .dataframe tbody tr th {\n",
       "        vertical-align: top;\n",
       "    }\n",
       "\n",
       "    .dataframe thead th {\n",
       "        text-align: right;\n",
       "    }\n",
       "</style>\n",
       "<table border=\"1\" class=\"dataframe\">\n",
       "  <thead>\n",
       "    <tr style=\"text-align: right;\">\n",
       "      <th></th>\n",
       "      <th>Kod</th>\n",
       "      <th>Namn</th>\n",
       "      <th>Kronor</th>\n",
       "    </tr>\n",
       "  </thead>\n",
       "  <tbody>\n",
       "    <tr>\n",
       "      <th>0</th>\n",
       "      <td>1.0</td>\n",
       "      <td>Rikets styrelse</td>\n",
       "      <td>17268338000</td>\n",
       "    </tr>\n",
       "    <tr>\n",
       "      <th>1</th>\n",
       "      <td>NaN</td>\n",
       "      <td>1 Statschefen</td>\n",
       "      <td>149157000</td>\n",
       "    </tr>\n",
       "    <tr>\n",
       "      <th>2</th>\n",
       "      <td>NaN</td>\n",
       "      <td>1 Kungliga hov- och slottsstaten</td>\n",
       "      <td>149157000</td>\n",
       "    </tr>\n",
       "    <tr>\n",
       "      <th>3</th>\n",
       "      <td>NaN</td>\n",
       "      <td>2 Riksdagen och dess myndigheter</td>\n",
       "      <td>2565279000</td>\n",
       "    </tr>\n",
       "    <tr>\n",
       "      <th>4</th>\n",
       "      <td>NaN</td>\n",
       "      <td>1 Riksdagens ledamöter och partier m.m.</td>\n",
       "      <td>981205000</td>\n",
       "    </tr>\n",
       "    <tr>\n",
       "      <th>...</th>\n",
       "      <td>...</td>\n",
       "      <td>...</td>\n",
       "      <td>...</td>\n",
       "    </tr>\n",
       "    <tr>\n",
       "      <th>577</th>\n",
       "      <td>NaN</td>\n",
       "      <td>2 Oförutsedda utgifter</td>\n",
       "      <td>10000000</td>\n",
       "    </tr>\n",
       "    <tr>\n",
       "      <th>578</th>\n",
       "      <td>NaN</td>\n",
       "      <td>3 Riksgäldskontorets provisionsutgifter</td>\n",
       "      <td>145200000</td>\n",
       "    </tr>\n",
       "    <tr>\n",
       "      <th>579</th>\n",
       "      <td>27.0</td>\n",
       "      <td>Avgiften till Europeiska unionen</td>\n",
       "      <td>47836848000</td>\n",
       "    </tr>\n",
       "    <tr>\n",
       "      <th>580</th>\n",
       "      <td>NaN</td>\n",
       "      <td>1 Avgiften till Europeiska unionen</td>\n",
       "      <td>47836848000</td>\n",
       "    </tr>\n",
       "    <tr>\n",
       "      <th>581</th>\n",
       "      <td>NaN</td>\n",
       "      <td>Summa anslag</td>\n",
       "      <td>1204219603000</td>\n",
       "    </tr>\n",
       "  </tbody>\n",
       "</table>\n",
       "<p>582 rows × 3 columns</p>\n",
       "</div>"
      ],
      "text/plain": [
       "      Kod                                     Namn         Kronor\n",
       "0     1.0                          Rikets styrelse    17268338000\n",
       "1     NaN                            1 Statschefen      149157000\n",
       "2     NaN         1 Kungliga hov- och slottsstaten      149157000\n",
       "3     NaN         2 Riksdagen och dess myndigheter     2565279000\n",
       "4     NaN  1 Riksdagens ledamöter och partier m.m.      981205000\n",
       "..    ...                                      ...            ...\n",
       "577   NaN                   2 Oförutsedda utgifter       10000000\n",
       "578   NaN  3 Riksgäldskontorets provisionsutgifter      145200000\n",
       "579  27.0         Avgiften till Europeiska unionen    47836848000\n",
       "580   NaN       1 Avgiften till Europeiska unionen    47836848000\n",
       "581   NaN                             Summa anslag  1204219603000\n",
       "\n",
       "[582 rows x 3 columns]"
      ]
     },
     "execution_count": 20,
     "metadata": {},
     "output_type": "execute_result"
    }
   ],
   "source": [
    "df.to_csv('../data/budget')"
   ]
  }
 ],
 "metadata": {
  "kernelspec": {
   "display_name": "Python 3 (ipykernel)",
   "language": "python",
   "name": "python3"
  },
  "language_info": {
   "codemirror_mode": {
    "name": "ipython",
    "version": 3
   },
   "file_extension": ".py",
   "mimetype": "text/x-python",
   "name": "python",
   "nbconvert_exporter": "python",
   "pygments_lexer": "ipython3",
   "version": "3.9.0"
  }
 },
 "nbformat": 4,
 "nbformat_minor": 5
}
