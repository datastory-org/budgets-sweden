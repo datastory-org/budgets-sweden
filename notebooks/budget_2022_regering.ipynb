{
 "cells": [
  {
   "cell_type": "markdown",
   "id": "15268ba1-3959-4078-942a-3271f69af579",
   "metadata": {},
   "source": [
    "https://www.regeringen.se/rattsliga-dokument/proposition/2021/09/prop.-2021221/"
   ]
  },
  {
   "cell_type": "code",
   "execution_count": 1,
   "id": "dae02135-1657-4ae8-b43b-168f94d106b2",
   "metadata": {},
   "outputs": [],
   "source": [
    "import pandas as pd\n",
    "import numpy as np"
   ]
  },
  {
   "cell_type": "code",
   "execution_count": 2,
   "id": "0521cc3b-3bf4-4966-92d8-d633e0e0c62f",
   "metadata": {},
   "outputs": [],
   "source": [
    "multiplier = 1_000"
   ]
  },
  {
   "cell_type": "code",
   "execution_count": 3,
   "id": "730223f3-e22b-4ec9-a169-233b48015bed",
   "metadata": {},
   "outputs": [],
   "source": [
    "path = '../data/specifikation-av-budgetens-inkomster-och-utgifter-2022-annoterad.xlsx'\n",
    "df = pd.read_excel(path, sheet_name='Utgifter', skiprows=4, dtype=str, header=1)"
   ]
  },
  {
   "cell_type": "code",
   "execution_count": 4,
   "id": "ecebe6eb-a2a2-412a-a0f9-072ff5e7bb27",
   "metadata": {},
   "outputs": [],
   "source": [
    "df = df[df.columns[1:]]"
   ]
  },
  {
   "cell_type": "code",
   "execution_count": 5,
   "id": "90e3313e-f42e-4a03-8021-cef270f3d379",
   "metadata": {},
   "outputs": [],
   "source": [
    "df.Summa = df.Summa.astype(float)\n",
    "df.Summa = df.Summa * multiplier"
   ]
  },
  {
   "cell_type": "code",
   "execution_count": 6,
   "id": "c81d9076-93a5-4eb1-af85-0da4e3818975",
   "metadata": {},
   "outputs": [],
   "source": [
    "df['Är utgiftsområde'] = df.Utgiftsområde.notna()"
   ]
  },
  {
   "cell_type": "code",
   "execution_count": 7,
   "id": "9e8de808-516d-40bd-9082-9430782c0ec0",
   "metadata": {},
   "outputs": [],
   "source": [
    "df.Utgiftsområde = df.Utgiftsområde.fillna(method='ffill').astype(float)\n",
    "df.Underområde = df.Underområde.fillna(method='ffill').astype(float)"
   ]
  },
  {
   "cell_type": "code",
   "execution_count": 8,
   "id": "a7b976b7-6f69-4655-bdbf-d92f1fb4d360",
   "metadata": {},
   "outputs": [],
   "source": [
    "df = df.dropna(subset=['Summa'])"
   ]
  },
  {
   "cell_type": "code",
   "execution_count": 9,
   "id": "f945a3ed-0c62-4227-8280-50bca9989160",
   "metadata": {},
   "outputs": [],
   "source": [
    "df.Summa = df.Summa.astype(int)"
   ]
  },
  {
   "cell_type": "code",
   "execution_count": 10,
   "id": "8c5f01d5-65ac-4837-ab4b-fade3e5dbdbe",
   "metadata": {},
   "outputs": [],
   "source": [
    "df.Namn = df.Namn.str.replace('^(\\d+)', '', regex=True).str.strip()"
   ]
  },
  {
   "cell_type": "code",
   "execution_count": 11,
   "id": "9cb2c3d4-4880-4502-af52-ac89d5a7e376",
   "metadata": {},
   "outputs": [],
   "source": [
    "df.Underområde = df.apply(lambda x: np.nan if x['Är utgiftsområde'] else x['Underområde'], axis=1)"
   ]
  },
  {
   "cell_type": "code",
   "execution_count": 12,
   "id": "20dc8702-cae3-4db5-b9c5-77f03523d8e3",
   "metadata": {},
   "outputs": [],
   "source": [
    "df.Utgiftsområde = df.Utgiftsområde.astype('Int64')\n",
    "df.Underområde = df.Underområde.astype('Int64')"
   ]
  },
  {
   "cell_type": "code",
   "execution_count": 13,
   "id": "c22d43c1-f374-4e21-b898-20906f968000",
   "metadata": {},
   "outputs": [],
   "source": [
    "df = df.drop(['Är utgiftsområde'], axis=1)"
   ]
  },
  {
   "cell_type": "code",
   "execution_count": 15,
   "id": "2fc2b636-3267-4a6f-af9a-87fa287b5f50",
   "metadata": {},
   "outputs": [],
   "source": [
    "df = df.rename(columns={'Summa': '2022'})"
   ]
  },
  {
   "cell_type": "code",
   "execution_count": 16,
   "id": "d1807381-171d-4439-9b6c-ddf6e6097f3d",
   "metadata": {},
   "outputs": [],
   "source": [
    "df.to_csv('../data/budgetproposition-2022-regering.csv', index=False)"
   ]
  },
  {
   "cell_type": "code",
   "execution_count": null,
   "id": "aa0d92c8-607a-4545-9310-cdb105ff45f3",
   "metadata": {},
   "outputs": [],
   "source": []
  }
 ],
 "metadata": {
  "kernelspec": {
   "display_name": "Python 3 (ipykernel)",
   "language": "python",
   "name": "python3"
  },
  "language_info": {
   "codemirror_mode": {
    "name": "ipython",
    "version": 3
   },
   "file_extension": ".py",
   "mimetype": "text/x-python",
   "name": "python",
   "nbconvert_exporter": "python",
   "pygments_lexer": "ipython3",
   "version": "3.9.0"
  }
 },
 "nbformat": 4,
 "nbformat_minor": 5
}
