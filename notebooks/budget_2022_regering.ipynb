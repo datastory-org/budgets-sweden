{
 "cells": [
  {
   "cell_type": "markdown",
   "id": "15268ba1-3959-4078-942a-3271f69af579",
   "metadata": {},
   "source": [
    "https://www.regeringen.se/rattsliga-dokument/proposition/2021/09/prop.-2021221/"
   ]
  },
  {
   "cell_type": "code",
   "execution_count": 1,
   "id": "dae02135-1657-4ae8-b43b-168f94d106b2",
   "metadata": {},
   "outputs": [],
   "source": [
    "import pandas as pd\n",
    "import numpy as np"
   ]
  },
  {
   "cell_type": "code",
   "execution_count": 2,
   "id": "0521cc3b-3bf4-4966-92d8-d633e0e0c62f",
   "metadata": {},
   "outputs": [],
   "source": [
    "multiplier = 1_000"
   ]
  },
  {
   "cell_type": "code",
   "execution_count": 3,
   "id": "730223f3-e22b-4ec9-a169-233b48015bed",
   "metadata": {},
   "outputs": [],
   "source": [
    "path = '../data/specifikation-av-budgetens-inkomster-och-utgifter-2022-annoterad.xlsx'\n",
    "df = pd.read_excel(path, sheet_name='Utgifter', skiprows=4, dtype=str, header=1)"
   ]
  },
  {
   "cell_type": "code",
   "execution_count": 4,
   "id": "ecebe6eb-a2a2-412a-a0f9-072ff5e7bb27",
   "metadata": {},
   "outputs": [],
   "source": [
    "df = df[df.columns[1:]]"
   ]
  },
  {
   "cell_type": "code",
   "execution_count": 5,
   "id": "90e3313e-f42e-4a03-8021-cef270f3d379",
   "metadata": {},
   "outputs": [],
   "source": [
    "df.Summa = df.Summa.astype(float)\n",
    "df.Summa = df.Summa * multiplier"
   ]
  },
  {
   "cell_type": "code",
   "execution_count": 6,
   "id": "c81d9076-93a5-4eb1-af85-0da4e3818975",
   "metadata": {},
   "outputs": [],
   "source": [
    "df['Är utgiftsområde'] = df.Utgiftsområde.notna()"
   ]
  },
  {
   "cell_type": "code",
   "execution_count": 7,
   "id": "9e8de808-516d-40bd-9082-9430782c0ec0",
   "metadata": {},
   "outputs": [],
   "source": [
    "df.Utgiftsområde = df.Utgiftsområde.fillna(method='ffill').astype(float)\n",
    "df.Underområde = df.Underområde.fillna(method='ffill').astype(float)"
   ]
  },
  {
   "cell_type": "code",
   "execution_count": 8,
   "id": "a7b976b7-6f69-4655-bdbf-d92f1fb4d360",
   "metadata": {},
   "outputs": [],
   "source": [
    "df = df.dropna(subset=['Summa'])"
   ]
  },
  {
   "cell_type": "code",
   "execution_count": 9,
   "id": "f945a3ed-0c62-4227-8280-50bca9989160",
   "metadata": {},
   "outputs": [],
   "source": [
    "df.Summa = df.Summa.astype(int)"
   ]
  },
  {
   "cell_type": "code",
   "execution_count": 10,
   "id": "8c5f01d5-65ac-4837-ab4b-fade3e5dbdbe",
   "metadata": {},
   "outputs": [],
   "source": [
    "df.Namn = df.Namn.str.replace('^(\\d+)', '', regex=True).str.strip()"
   ]
  },
  {
   "cell_type": "code",
   "execution_count": 11,
   "id": "9cb2c3d4-4880-4502-af52-ac89d5a7e376",
   "metadata": {},
   "outputs": [],
   "source": [
    "df.Underområde = df.apply(lambda x: np.nan if x['Är utgiftsområde'] else x['Underområde'], axis=1)"
   ]
  },
  {
   "cell_type": "code",
   "execution_count": 12,
   "id": "20dc8702-cae3-4db5-b9c5-77f03523d8e3",
   "metadata": {},
   "outputs": [],
   "source": [
    "df.Utgiftsområde = df.Utgiftsområde.astype('Int64')\n",
    "df.Underområde = df.Underområde.astype('Int64')"
   ]
  },
  {
   "cell_type": "code",
   "execution_count": 13,
   "id": "c22d43c1-f374-4e21-b898-20906f968000",
   "metadata": {},
   "outputs": [],
   "source": [
    "df = df.drop(['Är utgiftsområde'], axis=1)"
   ]
  },
  {
   "cell_type": "code",
   "execution_count": 14,
   "id": "2fc2b636-3267-4a6f-af9a-87fa287b5f50",
   "metadata": {},
   "outputs": [
    {
     "data": {
      "text/html": [
       "<div>\n",
       "<style scoped>\n",
       "    .dataframe tbody tr th:only-of-type {\n",
       "        vertical-align: middle;\n",
       "    }\n",
       "\n",
       "    .dataframe tbody tr th {\n",
       "        vertical-align: top;\n",
       "    }\n",
       "\n",
       "    .dataframe thead th {\n",
       "        text-align: right;\n",
       "    }\n",
       "</style>\n",
       "<table border=\"1\" class=\"dataframe\">\n",
       "  <thead>\n",
       "    <tr style=\"text-align: right;\">\n",
       "      <th></th>\n",
       "      <th>Utgiftsområde</th>\n",
       "      <th>Underområde</th>\n",
       "      <th>Anslag</th>\n",
       "      <th>Namn</th>\n",
       "      <th>Summa</th>\n",
       "    </tr>\n",
       "  </thead>\n",
       "  <tbody>\n",
       "    <tr>\n",
       "      <th>0</th>\n",
       "      <td>1</td>\n",
       "      <td>&lt;NA&gt;</td>\n",
       "      <td>NaN</td>\n",
       "      <td>Rikets styrelse</td>\n",
       "      <td>17268338000</td>\n",
       "    </tr>\n",
       "    <tr>\n",
       "      <th>1</th>\n",
       "      <td>1</td>\n",
       "      <td>1</td>\n",
       "      <td>NaN</td>\n",
       "      <td>Statschefen</td>\n",
       "      <td>149157000</td>\n",
       "    </tr>\n",
       "    <tr>\n",
       "      <th>2</th>\n",
       "      <td>1</td>\n",
       "      <td>1</td>\n",
       "      <td>1</td>\n",
       "      <td>Kungliga hov- och slottsstaten</td>\n",
       "      <td>149157000</td>\n",
       "    </tr>\n",
       "    <tr>\n",
       "      <th>3</th>\n",
       "      <td>1</td>\n",
       "      <td>2</td>\n",
       "      <td>NaN</td>\n",
       "      <td>Riksdagen och dess myndigheter</td>\n",
       "      <td>2565279000</td>\n",
       "    </tr>\n",
       "    <tr>\n",
       "      <th>4</th>\n",
       "      <td>1</td>\n",
       "      <td>2</td>\n",
       "      <td>1</td>\n",
       "      <td>Riksdagens ledamöter och partier m.m.</td>\n",
       "      <td>981205000</td>\n",
       "    </tr>\n",
       "    <tr>\n",
       "      <th>...</th>\n",
       "      <td>...</td>\n",
       "      <td>...</td>\n",
       "      <td>...</td>\n",
       "      <td>...</td>\n",
       "      <td>...</td>\n",
       "    </tr>\n",
       "    <tr>\n",
       "      <th>589</th>\n",
       "      <td>26</td>\n",
       "      <td>1</td>\n",
       "      <td>2</td>\n",
       "      <td>Oförutsedda utgifter</td>\n",
       "      <td>10000000</td>\n",
       "    </tr>\n",
       "    <tr>\n",
       "      <th>590</th>\n",
       "      <td>26</td>\n",
       "      <td>1</td>\n",
       "      <td>3</td>\n",
       "      <td>Riksgäldskontorets provisionsutgifter</td>\n",
       "      <td>145200000</td>\n",
       "    </tr>\n",
       "    <tr>\n",
       "      <th>591</th>\n",
       "      <td>27</td>\n",
       "      <td>&lt;NA&gt;</td>\n",
       "      <td>NaN</td>\n",
       "      <td>Avgiften till Europeiska unionen</td>\n",
       "      <td>47836848000</td>\n",
       "    </tr>\n",
       "    <tr>\n",
       "      <th>593</th>\n",
       "      <td>27</td>\n",
       "      <td>1</td>\n",
       "      <td>1</td>\n",
       "      <td>Avgiften till Europeiska unionen</td>\n",
       "      <td>47836848000</td>\n",
       "    </tr>\n",
       "    <tr>\n",
       "      <th>594</th>\n",
       "      <td>27</td>\n",
       "      <td>1</td>\n",
       "      <td>NaN</td>\n",
       "      <td>Summa anslag</td>\n",
       "      <td>1204219603000</td>\n",
       "    </tr>\n",
       "  </tbody>\n",
       "</table>\n",
       "<p>582 rows × 5 columns</p>\n",
       "</div>"
      ],
      "text/plain": [
       "     Utgiftsområde  Underområde Anslag                                   Namn  \\\n",
       "0                1         <NA>    NaN                        Rikets styrelse   \n",
       "1                1            1    NaN                            Statschefen   \n",
       "2                1            1      1         Kungliga hov- och slottsstaten   \n",
       "3                1            2    NaN         Riksdagen och dess myndigheter   \n",
       "4                1            2      1  Riksdagens ledamöter och partier m.m.   \n",
       "..             ...          ...    ...                                    ...   \n",
       "589             26            1      2                   Oförutsedda utgifter   \n",
       "590             26            1      3  Riksgäldskontorets provisionsutgifter   \n",
       "591             27         <NA>    NaN       Avgiften till Europeiska unionen   \n",
       "593             27            1      1       Avgiften till Europeiska unionen   \n",
       "594             27            1    NaN                           Summa anslag   \n",
       "\n",
       "             Summa  \n",
       "0      17268338000  \n",
       "1        149157000  \n",
       "2        149157000  \n",
       "3       2565279000  \n",
       "4        981205000  \n",
       "..             ...  \n",
       "589       10000000  \n",
       "590      145200000  \n",
       "591    47836848000  \n",
       "593    47836848000  \n",
       "594  1204219603000  \n",
       "\n",
       "[582 rows x 5 columns]"
      ]
     },
     "execution_count": 14,
     "metadata": {},
     "output_type": "execute_result"
    }
   ],
   "source": [
    "df"
   ]
  },
  {
   "cell_type": "code",
   "execution_count": 229,
   "id": "d1807381-171d-4439-9b6c-ddf6e6097f3d",
   "metadata": {},
   "outputs": [],
   "source": [
    "df.to_csv('../data/budgetproposition-2022-regering.csv', index=False)"
   ]
  },
  {
   "cell_type": "code",
   "execution_count": null,
   "id": "aa0d92c8-607a-4545-9310-cdb105ff45f3",
   "metadata": {},
   "outputs": [],
   "source": []
  }
 ],
 "metadata": {
  "kernelspec": {
   "display_name": "Python 3 (ipykernel)",
   "language": "python",
   "name": "python3"
  },
  "language_info": {
   "codemirror_mode": {
    "name": "ipython",
    "version": 3
   },
   "file_extension": ".py",
   "mimetype": "text/x-python",
   "name": "python",
   "nbconvert_exporter": "python",
   "pygments_lexer": "ipython3",
   "version": "3.9.0"
  }
 },
 "nbformat": 4,
 "nbformat_minor": 5
}
