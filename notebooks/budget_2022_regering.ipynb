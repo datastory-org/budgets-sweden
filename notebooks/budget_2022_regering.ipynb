{
 "cells": [
  {
   "cell_type": "markdown",
   "id": "15268ba1-3959-4078-942a-3271f69af579",
   "metadata": {},
   "source": [
    "https://www.regeringen.se/rattsliga-dokument/proposition/2021/09/prop.-2021221/"
   ]
  },
  {
   "cell_type": "code",
   "execution_count": 2,
   "id": "dae02135-1657-4ae8-b43b-168f94d106b2",
   "metadata": {},
   "outputs": [],
   "source": [
    "import pandas as pd"
   ]
  },
  {
   "cell_type": "code",
   "execution_count": 18,
   "id": "0521cc3b-3bf4-4966-92d8-d633e0e0c62f",
   "metadata": {},
   "outputs": [],
   "source": [
    "multiplier = 1_000"
   ]
  },
  {
   "cell_type": "code",
   "execution_count": 13,
   "id": "730223f3-e22b-4ec9-a169-233b48015bed",
   "metadata": {},
   "outputs": [],
   "source": [
    "path = '../data/specifikation-av-budgetens-inkomster-och-utgifter-2022.xlsx'\n",
    "df = pd.read_excel(path, sheet_name='Utgifter', skiprows=4)"
   ]
  },
  {
   "cell_type": "code",
   "execution_count": 14,
   "id": "ecebe6eb-a2a2-412a-a0f9-072ff5e7bb27",
   "metadata": {},
   "outputs": [],
   "source": [
    "df = df[df.columns[1:]]"
   ]
  },
  {
   "cell_type": "code",
   "execution_count": 15,
   "id": "5d85273b-394e-42c1-82ac-8bc8697d4c3b",
   "metadata": {},
   "outputs": [],
   "source": [
    "df.columns = ['Kod', 'Namn', 'Kronor']"
   ]
  },
  {
   "cell_type": "code",
   "execution_count": 17,
   "id": "dcd7200f-7d60-432e-9578-51757ef531bb",
   "metadata": {},
   "outputs": [],
   "source": [
    "df.Kronor = df.Kronor.astype(int)"
   ]
  },
  {
   "cell_type": "code",
   "execution_count": 19,
   "id": "de6ebf1d-cd8e-4eaf-ad8c-2dab3cf5f719",
   "metadata": {},
   "outputs": [],
   "source": [
    "df.Kronor = df.Kronor * multiplier"
   ]
  },
  {
   "cell_type": "code",
   "execution_count": 21,
   "id": "d1807381-171d-4439-9b6c-ddf6e6097f3d",
   "metadata": {},
   "outputs": [],
   "source": [
    "df.to_csv('../data/budgetproposition-2022-regering.csv', index=False)"
   ]
  }
 ],
 "metadata": {
  "kernelspec": {
   "display_name": "Python 3 (ipykernel)",
   "language": "python",
   "name": "python3"
  },
  "language_info": {
   "codemirror_mode": {
    "name": "ipython",
    "version": 3
   },
   "file_extension": ".py",
   "mimetype": "text/x-python",
   "name": "python",
   "nbconvert_exporter": "python",
   "pygments_lexer": "ipython3",
   "version": "3.9.0"
  }
 },
 "nbformat": 4,
 "nbformat_minor": 5
}
