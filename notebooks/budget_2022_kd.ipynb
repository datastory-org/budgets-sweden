{
 "cells": [
  {
   "cell_type": "markdown",
   "id": "250a5e22-9768-4f92-8b00-9197d2a8c4b3",
   "metadata": {},
   "source": [
    "https://www.riksdagen.se/sv/dokument-lagar/dokument/motion/hela-sverige-ska-fungera--kristdemokraternas_H9024221"
   ]
  },
  {
   "cell_type": "code",
   "execution_count": 5,
   "id": "867f8a98-1988-4703-adcb-7c7e36be1e38",
   "metadata": {},
   "outputs": [],
   "source": [
    "import pandas as pd\n",
    "import requests"
   ]
  },
  {
   "cell_type": "code",
   "execution_count": 6,
   "id": "274b4756-c0b1-4d09-8b54-6f3764b44f2e",
   "metadata": {},
   "outputs": [],
   "source": [
    "# currency multiplier used in this budget\n",
    "multiplier = 1_000"
   ]
  },
  {
   "cell_type": "code",
   "execution_count": 7,
   "id": "6ad48a68-14af-4be3-836f-36707412caa0",
   "metadata": {},
   "outputs": [],
   "source": [
    "search_url = 'https://data.riksdagen.se/dokumentlista/'\n",
    "params = {\n",
    "    'sok': 'utgiftsområde',\n",
    "    'doktyp': 'mot',\n",
    "    'rm': '2021/22',\n",
    "    'parti': 'KD',\n",
    "    'sort': 'rel',\n",
    "    'sortorder': 'desc',\n",
    "    'utformat': 'json',\n",
    "    'a': 's'}\n",
    "\n",
    "resp = requests.get(search_url, params=params)\n",
    "data = resp.json()\n",
    "docs = pd.DataFrame(data['dokumentlista']['dokument'])\n",
    "docs = docs[['titel', 'undertitel', 'rm', 'dokument_url_html']]"
   ]
  },
  {
   "cell_type": "code",
   "execution_count": 8,
   "id": "7097978a-9018-4df2-8a16-60e967690ef2",
   "metadata": {},
   "outputs": [],
   "source": [
    "docs['Utgiftsområde'] = docs.titel.str.extract('Utgiftsområde (\\d+)')\n",
    "docs['Utgiftsområde'] = docs['Utgiftsområde'].astype(int)\n",
    "docs = docs.sort_values('Utgiftsområde').reset_index(drop=True)"
   ]
  },
  {
   "cell_type": "code",
   "execution_count": 9,
   "id": "aafcede7-eb19-4edc-a24f-3e6ab14e6885",
   "metadata": {},
   "outputs": [],
   "source": [
    "def find_matching_table(tables):\n",
    "    cols = ['Anslag', 'Namn', 'Regeringens förslag', 'Avvikelse från regeringen']\n",
    "    for table in tables:\n",
    "        if table.columns.shape == (4,) and 'Avvikelse från regeringen' in table.columns:\n",
    "            break\n",
    "    return table"
   ]
  },
  {
   "cell_type": "code",
   "execution_count": 10,
   "id": "7f2254ec-a325-4552-8893-48e5c451dba8",
   "metadata": {},
   "outputs": [],
   "source": [
    "def fetch_table(url, area):\n",
    "    url = f'http:{url}'\n",
    "    tables = pd.read_html(url, encoding='utf8', header=0)\n",
    "    cols = ['Anslag', 'Namn', 'Regeringens förslag', 'Avvikelse från regeringen']\n",
    "    df = find_matching_table(tables)\n",
    "    df.columns = cols\n",
    "    df = df.dropna(how='all')\n",
    "    df = df[~df.Anslag.str.startswith('Summa')]\n",
    "    df['Utgiftsområde'] = area\n",
    "    return df"
   ]
  },
  {
   "cell_type": "code",
   "execution_count": 11,
   "id": "ba2b1db2-93f0-4319-a2dd-02d83f962050",
   "metadata": {},
   "outputs": [],
   "source": [
    "tables = []\n",
    "\n",
    "for _, row in docs.iterrows():\n",
    "    try:\n",
    "        table = fetch_table(row.dokument_url_html, area=row.Utgiftsområde)\n",
    "        tables.append(table)\n",
    "    except ValueError:  # missing images...\n",
    "        continue"
   ]
  },
  {
   "cell_type": "code",
   "execution_count": 18,
   "id": "72650126-d712-4ecd-a309-9a1237cb6cd3",
   "metadata": {},
   "outputs": [],
   "source": [
    "df = pd.concat(tables, sort=False)"
   ]
  },
  {
   "cell_type": "code",
   "execution_count": 19,
   "id": "3cb94d8e-102e-4db8-9b32-17fcbbb09325",
   "metadata": {},
   "outputs": [],
   "source": [
    "df = df.dropna(how='all')"
   ]
  },
  {
   "cell_type": "code",
   "execution_count": 20,
   "id": "0614a7b3-9f0b-4838-a898-8569667e529e",
   "metadata": {},
   "outputs": [],
   "source": [
    "df = df.drop('Regeringens förslag', axis=1)"
   ]
  },
  {
   "cell_type": "code",
   "execution_count": 21,
   "id": "4077c50b-b724-4d67-9ee3-55481f49f54c",
   "metadata": {},
   "outputs": [],
   "source": [
    "df = df.replace('±0', '0')\n",
    "df = df.rename(columns={'Avvikelse från regeringen': '2022'})\n",
    "df['2022'] = df['2022'].str.replace('\\s+', '', regex=True)\n",
    "df['2022'] = df['2022'].str.replace('−', '-')"
   ]
  },
  {
   "cell_type": "code",
   "execution_count": 22,
   "id": "98120d7e-4499-4c16-92eb-32b66a44f6c5",
   "metadata": {},
   "outputs": [],
   "source": [
    "df['2022'] = df['2022'].astype(int) * multiplier"
   ]
  },
  {
   "cell_type": "code",
   "execution_count": 26,
   "id": "27a40c25-4c12-4892-a665-da989d26e9f2",
   "metadata": {},
   "outputs": [],
   "source": [
    "df.to_csv('../data/budgetmotion-2022-kd.csv', index=False)"
   ]
  },
  {
   "cell_type": "code",
   "execution_count": null,
   "id": "0f401772-4e8e-4be8-abd3-834ec71f7321",
   "metadata": {},
   "outputs": [],
   "source": []
  }
 ],
 "metadata": {
  "kernelspec": {
   "display_name": "Python 3 (ipykernel)",
   "language": "python",
   "name": "python3"
  },
  "language_info": {
   "codemirror_mode": {
    "name": "ipython",
    "version": 3
   },
   "file_extension": ".py",
   "mimetype": "text/x-python",
   "name": "python",
   "nbconvert_exporter": "python",
   "pygments_lexer": "ipython3",
   "version": "3.9.0"
  }
 },
 "nbformat": 4,
 "nbformat_minor": 5
}
