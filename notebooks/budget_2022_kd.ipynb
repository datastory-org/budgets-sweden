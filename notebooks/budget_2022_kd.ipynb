{
 "cells": [
  {
   "cell_type": "markdown",
   "id": "250a5e22-9768-4f92-8b00-9197d2a8c4b3",
   "metadata": {},
   "source": [
    "https://www.riksdagen.se/sv/dokument-lagar/dokument/motion/hela-sverige-ska-fungera--kristdemokraternas_H9024221"
   ]
  },
  {
   "cell_type": "code",
   "execution_count": 4,
   "id": "867f8a98-1988-4703-adcb-7c7e36be1e38",
   "metadata": {},
   "outputs": [],
   "source": [
    "import pandas as pd"
   ]
  },
  {
   "cell_type": "code",
   "execution_count": 1,
   "id": "8b817f22-695b-4490-83b3-a49d8da2e3f0",
   "metadata": {},
   "outputs": [],
   "source": [
    "html_url = 'https://www.riksdagen.se/sv/dokument-lagar/dokument/motion/hela-sverige-ska-fungera--kristdemokraternas_H9024221/html#_Toc84341143'"
   ]
  },
  {
   "cell_type": "code",
   "execution_count": 5,
   "id": "4afddf3f-2a0c-4710-b49e-cca2428849c0",
   "metadata": {},
   "outputs": [],
   "source": [
    "tables = pd.read_html(html_url)"
   ]
  },
  {
   "cell_type": "code",
   "execution_count": 6,
   "id": "9aa06f1a-ce1e-4734-a661-a679a991e779",
   "metadata": {},
   "outputs": [
    {
     "data": {
      "text/plain": [
       "15"
      ]
     },
     "execution_count": 6,
     "metadata": {},
     "output_type": "execute_result"
    }
   ],
   "source": [
    "len(tables)"
   ]
  },
  {
   "cell_type": "code",
   "execution_count": 8,
   "id": "cf5ac12a-1c6b-4106-9cf7-a7b58b8a1112",
   "metadata": {},
   "outputs": [],
   "source": [
    "df = tables[10]"
   ]
  },
  {
   "cell_type": "code",
   "execution_count": 10,
   "id": "76943c14-9929-4fd6-86b3-bf23016bd8a7",
   "metadata": {},
   "outputs": [],
   "source": [
    "df.columns = df.iloc[0]\n",
    "df = df.iloc[1:]"
   ]
  },
  {
   "cell_type": "code",
   "execution_count": 12,
   "id": "c87a0d39-4739-44dd-ae82-a83d5417693d",
   "metadata": {},
   "outputs": [],
   "source": [
    "df = df.replace('±0', '0')"
   ]
  },
  {
   "cell_type": "code",
   "execution_count": 14,
   "id": "27a40c25-4c12-4892-a665-da989d26e9f2",
   "metadata": {},
   "outputs": [],
   "source": [
    "df.to_csv('kristdemokraterna-budgetmotion-2022.csv', index=False)"
   ]
  },
  {
   "cell_type": "code",
   "execution_count": null,
   "id": "cf5dec4c-077f-447d-9fe7-94beac2223c5",
   "metadata": {},
   "outputs": [],
   "source": []
  }
 ],
 "metadata": {
  "kernelspec": {
   "display_name": "Python 3",
   "language": "python",
   "name": "python3"
  },
  "language_info": {
   "codemirror_mode": {
    "name": "ipython",
    "version": 3
   },
   "file_extension": ".py",
   "mimetype": "text/x-python",
   "name": "python",
   "nbconvert_exporter": "python",
   "pygments_lexer": "ipython3",
   "version": "3.7.9"
  }
 },
 "nbformat": 4,
 "nbformat_minor": 5
}
