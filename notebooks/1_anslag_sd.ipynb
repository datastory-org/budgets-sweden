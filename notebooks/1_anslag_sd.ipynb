{
 "cells": [
  {
   "cell_type": "markdown",
   "id": "250a5e22-9768-4f92-8b00-9197d2a8c4b3",
   "metadata": {},
   "source": [
    "# Sverigedemokraternas budgetmotion 2022\n",
    "\n",
    "https://www.riksdagen.se/sv/dokument-lagar/dokument/motion/nu-ar-det-dags-for-sverige--sverigedemokraternas_H9023938"
   ]
  },
  {
   "cell_type": "code",
   "execution_count": 1,
   "id": "867f8a98-1988-4703-adcb-7c7e36be1e38",
   "metadata": {},
   "outputs": [],
   "source": [
    "import re\n",
    "from io import StringIO\n",
    "import pandas as pd\n",
    "import requests\n",
    "from bs4 import BeautifulSoup"
   ]
  },
  {
   "cell_type": "code",
   "execution_count": 2,
   "id": "d2731682-ee13-4c66-91f1-6f79ffc77be4",
   "metadata": {},
   "outputs": [],
   "source": [
    "multiplier = 1_000"
   ]
  },
  {
   "cell_type": "code",
   "execution_count": 3,
   "id": "f9b61394-0c90-4e5d-8285-2325ec2b1978",
   "metadata": {},
   "outputs": [],
   "source": [
    "docs = [\n",
    "    {'utgiftsområde': 1, 'dok_id': 'H9023907'},\n",
    "    {'utgiftsområde': 2, 'dok_id': 'H9023906'},\n",
    "    {'utgiftsområde': 3, 'dok_id': 'H9023905'},\n",
    "    {'utgiftsområde': 4, 'dok_id': 'H9023904'},\n",
    "    {'utgiftsområde': 5, 'dok_id': 'H9023903'},\n",
    "    {'utgiftsområde': 6, 'dok_id': 'H9023902'},\n",
    "    {'utgiftsområde': 7, 'dok_id': 'H9023901'},\n",
    "    {'utgiftsområde': 8, 'dok_id': 'H9023900'},\n",
    "    {'utgiftsområde': 9, 'dok_id': 'H9023899'},\n",
    "    {'utgiftsområde': 10, 'dok_id': 'H9023898'},\n",
    "    {'utgiftsområde': 11, 'dok_id': 'H9023897'},\n",
    "    {'utgiftsområde': 12, 'dok_id': 'H9023896'},\n",
    "    {'utgiftsområde': 13, 'dok_id': 'H9023895'},\n",
    "    {'utgiftsområde': 14, 'dok_id': 'H9023894'},\n",
    "    {'utgiftsområde': 15, 'dok_id': 'H9023893'},\n",
    "    {'utgiftsområde': 16, 'dok_id': 'H9023892'},\n",
    "    {'utgiftsområde': 17, 'dok_id': 'H9023885'},\n",
    "    {'utgiftsområde': 18, 'dok_id': 'H9023886'},\n",
    "    {'utgiftsområde': 20, 'dok_id': 'H9023887'},\n",
    "    {'utgiftsområde': 21, 'dok_id': 'H9023921'},\n",
    "    {'utgiftsområde': 22, 'dok_id': 'H9023888'},\n",
    "    {'utgiftsområde': 23, 'dok_id': 'H9023889'},\n",
    "    {'utgiftsområde': 24, 'dok_id': 'H9023890'},\n",
    "    {'utgiftsområde': 25, 'dok_id': 'H9023891'}]"
   ]
  },
  {
   "cell_type": "code",
   "execution_count": 4,
   "id": "48d7cf18-b2bb-4f96-9f10-e1773868c621",
   "metadata": {},
   "outputs": [],
   "source": [
    "resp = requests.get('https://data.riksdagen.se/dokument/H9023885.html')"
   ]
  },
  {
   "cell_type": "code",
   "execution_count": 6,
   "id": "66110d41-c296-4628-8473-6d0e3f3f59b2",
   "metadata": {},
   "outputs": [],
   "source": [
    "def collect_tables(url):\n",
    "    resp = requests.get(url)\n",
    "    text = resp.text\n",
    "    soup = BeautifulSoup(text)\n",
    "    tables = soup.select('h3+table')\n",
    "    frames = []\n",
    "\n",
    "    for table in tables:\n",
    "        headline = table.findPreviousSibling('h3').text.strip()\n",
    "        if not re.match('\\d+:\\d+', headline):\n",
    "            continue\n",
    "        frame = pd.read_html(StringIO(str(table)), header=0, thousands=' ')[0]\n",
    "        frame['Anslag'] = headline\n",
    "        # Misspelled header\n",
    "        frame = frame.rename(columns={'Beräknat 2023.1': 'Beräknat 2024'})\n",
    "        # Other misspelled header\n",
    "        if 'Förslag 2021' in frame:\n",
    "            frame = frame.rename(columns={'Beräknat 2023': 'Beräknat 2024',\n",
    "                                          'Beräknat 2022': 'Beräknat 2023',\n",
    "                                          'Förslag 2021': 'Förslag 2022'})\n",
    "        frames.append(frame)\n",
    "    \n",
    "    try:\n",
    "        df = pd.concat(frames)\n",
    "    except ValueError:\n",
    "        df = None\n",
    "    return df"
   ]
  },
  {
   "cell_type": "code",
   "execution_count": 7,
   "id": "65a0cbea-f8d9-4745-be39-98a27ebd35ce",
   "metadata": {},
   "outputs": [
    {
     "name": "stdout",
     "output_type": "stream",
     "text": [
      "2\n",
      "3\n",
      "5\n"
     ]
    }
   ],
   "source": [
    "frames = []\n",
    "\n",
    "for doc in docs:\n",
    "    url = f'http://data.riksdagen.se/dokument/{doc[\"dok_id\"]}.html'\n",
    "    frame = collect_tables(url)\n",
    "    if frame is None:\n",
    "        print(doc['utgiftsområde'])\n",
    "        continue\n",
    "    frame['Utgiftsområde'] = doc['utgiftsområde']\n",
    "    frames.append(frame)"
   ]
  },
  {
   "cell_type": "code",
   "execution_count": 21,
   "id": "5674f7ec-caa2-4126-af07-16cf8be58767",
   "metadata": {},
   "outputs": [],
   "source": [
    "df = pd.concat(frames)"
   ]
  },
  {
   "cell_type": "code",
   "execution_count": 31,
   "id": "ce75867f-7288-433d-b93d-3b05d2707dc8",
   "metadata": {},
   "outputs": [],
   "source": [
    "# Fix error\n",
    "df['Beräknat 2024'] = df['Beräknat 2024'].fillna(df['Beräknat 2024 4'])\n",
    "df = df.drop('Beräknat 2024 4', axis=1)"
   ]
  },
  {
   "cell_type": "code",
   "execution_count": 32,
   "id": "b8dbd0ec-3035-426f-a286-832b3b2f6577",
   "metadata": {},
   "outputs": [],
   "source": [
    "# Special case for utgiftsområde 2\n",
    "# https://riksdagen.se/sv/dokument-lagar/dokument/motion/utgiftsomrade-2-samhallsekonomi-och_H9023906\n",
    "df = df.append([{\n",
    "    'Anslag': '1:11 Finansinspektionen',\n",
    "    'Förslag 2022': '5000',\n",
    "    'Beräknat 2023': '5000',\n",
    "    'Beräknat 2024': '5000',\n",
    "    'Utgiftsområde': 2,\n",
    "}])"
   ]
  },
  {
   "cell_type": "code",
   "execution_count": 33,
   "id": "55fb57d1-d2bb-4eb9-918d-6a2757664f15",
   "metadata": {},
   "outputs": [],
   "source": [
    "# Special case for utgiftsområde 3\n",
    "# https://riksdagen.se/sv/dokument-lagar/dokument/motion/utgiftsomrade-3-skatt-tull-och-exekution_H9023905\n",
    "df = df.append([\n",
    "    {\n",
    "        'Anslag': '1:1 Skatteverket',\n",
    "        'Förslag 2022': '415000',\n",
    "        'Beräknat 2023': '350000',\n",
    "        'Beräknat 2024': '271000',\n",
    "        'Utgiftsområde': 3\n",
    "    },\n",
    "    {\n",
    "        'Anslag': '1:2 Tullverket',\n",
    "        'Förslag 2022': '90000',\n",
    "        'Beräknat 2023': '190000',\n",
    "        'Beräknat 2024': '290000',\n",
    "        'Utgiftsområde': 3\n",
    "    },\n",
    "    {\n",
    "        'Anslag': '1:3 Kronofogdemyndigheten',\n",
    "        'Förslag 2022': '50000',\n",
    "        'Beräknat 2023': '50000',\n",
    "        'Beräknat 2024': '50000',\n",
    "        'Utgiftsområde': 3\n",
    "    },\n",
    "    {\n",
    "        'Anslag': '99:1 Folkräkning',\n",
    "        'Förslag 2022': '500000',\n",
    "        'Beräknat 2023': '0',\n",
    "        'Beräknat 2024': '0',\n",
    "        'Utgiftsområde': 3\n",
    "    }])"
   ]
  },
  {
   "cell_type": "code",
   "execution_count": 34,
   "id": "7361a4d9-2d9f-4d45-bc36-cc198223f28f",
   "metadata": {},
   "outputs": [],
   "source": [
    "# Special case for utgiftsområde 5\n",
    "# https://riksdagen.se/sv/dokument-lagar/dokument/motion/utgiftsomrade-2-samhallsekonomi-och_H9023906\n",
    "df = df.append([\n",
    "    {\n",
    "        'Anslag': '1:3 Nordiskt samarbete',\n",
    "        'Förslag 2022': '10000',\n",
    "        'Beräknat 2023': '10000',\n",
    "        'Beräknat 2024': '10000',\n",
    "        'Utgiftsområde': 5\n",
    "    },\n",
    "    {\n",
    "        'Anslag': '1:5 Inspektionen för strategiska produkter',\n",
    "        'Förslag 2022': '1000',\n",
    "        'Beräknat 2023': '1000',\n",
    "        'Beräknat 2024': '1000',\n",
    "        'Utgiftsområde': 5\n",
    "    },\n",
    "    {\n",
    "        'Anslag': '1:9 Svenska institutet',\n",
    "        'Förslag 2022': '10000',\n",
    "        'Beräknat 2023': '10000',\n",
    "        'Beräknat 2024': '10000',\n",
    "        'Utgiftsområde': 5\n",
    "    },])"
   ]
  },
  {
   "cell_type": "code",
   "execution_count": 35,
   "id": "48e34bb9-6967-4e04-9c34-6dae0bdc8aa6",
   "metadata": {},
   "outputs": [],
   "source": [
    "df = df[df['Unnamed: 0'] != 'Avvikelse från regeringen totalt:']"
   ]
  },
  {
   "cell_type": "code",
   "execution_count": 36,
   "id": "fe409a19-7d14-47fa-a6af-cf45769de4ea",
   "metadata": {},
   "outputs": [],
   "source": [
    "# Hack to sum up too detailed rows\n",
    "df = df.drop(['Avvikelse från regeringen', 'Unnamed: 0'], axis=1)\n",
    "df.columns = [x.replace('Förslag ', '').replace('Beräknat ', '') for x in df.columns]\n",
    "for col in ['2022', '2023', '2024']:\n",
    "    df[col] = df[col].fillna(0).astype(str)\n",
    "    df[col] = df[col].str.split('.', expand=True)[0]\n",
    "    df[col] = df[col].str.replace('±0', '0', regex=False)\n",
    "    df[col] = df[col].str.replace('\\s+', '', regex=True)\n",
    "    df[col] = df[col].str.replace('−', '-')\n",
    "    df[col] = df[col].str.replace('–', '-')\n",
    "    df[col] = df[col].astype(int) * multiplier\n",
    "\n",
    "df = df.reset_index(drop=True)\n",
    "_map = df[['Anslag', 'Utgiftsområde']].drop_duplicates().set_index('Anslag')['Utgiftsområde'].to_dict()\n",
    "df = df.groupby('Anslag', as_index=False).sum().drop('Utgiftsområde', axis=1)\n",
    "df['Utgiftsområde'] = df.Anslag.map(_map)\n",
    "df = df.sort_values('Utgiftsområde')"
   ]
  },
  {
   "cell_type": "code",
   "execution_count": 37,
   "id": "f41d709a-bffa-4a5e-a32c-02f55c4d3d23",
   "metadata": {},
   "outputs": [],
   "source": [
    "df['Namn'] = df.Anslag.str.split('\\d+:\\d+', expand=True)[1].str.strip()\n",
    "df['Anslag'] = df.Anslag.str.extract('^(\\d+:\\d+)')"
   ]
  },
  {
   "cell_type": "code",
   "execution_count": 40,
   "id": "27a40c25-4c12-4892-a665-da989d26e9f2",
   "metadata": {},
   "outputs": [],
   "source": [
    "df.to_csv('../data/budgetmotion-2022-sd.csv', index=False)"
   ]
  },
  {
   "cell_type": "code",
   "execution_count": null,
   "id": "ddc2c904-9366-4030-bd30-aee113e7e277",
   "metadata": {},
   "outputs": [],
   "source": []
  }
 ],
 "metadata": {
  "kernelspec": {
   "display_name": "Python 3 (ipykernel)",
   "language": "python",
   "name": "python3"
  },
  "language_info": {
   "codemirror_mode": {
    "name": "ipython",
    "version": 3
   },
   "file_extension": ".py",
   "mimetype": "text/x-python",
   "name": "python",
   "nbconvert_exporter": "python",
   "pygments_lexer": "ipython3",
   "version": "3.9.0"
  }
 },
 "nbformat": 4,
 "nbformat_minor": 5
}
