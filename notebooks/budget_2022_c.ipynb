{
 "cells": [
  {
   "cell_type": "markdown",
   "id": "250a5e22-9768-4f92-8b00-9197d2a8c4b3",
   "metadata": {},
   "source": [
    "https://www.riksdagen.se/sv/dokument-lagar/dokument/motion/centerpartiets-budgetmotion-2022_H9024121"
   ]
  },
  {
   "cell_type": "code",
   "execution_count": 1,
   "id": "867f8a98-1988-4703-adcb-7c7e36be1e38",
   "metadata": {},
   "outputs": [],
   "source": [
    "import pandas as pd\n",
    "import requests\n",
    "\n",
    "pd.options.mode.chained_assignment = None"
   ]
  },
  {
   "cell_type": "code",
   "execution_count": 2,
   "id": "7064bbd6-7789-4cdb-9707-a638211e5d00",
   "metadata": {},
   "outputs": [],
   "source": [
    "multiplier = 1_000_000"
   ]
  },
  {
   "cell_type": "code",
   "execution_count": 3,
   "id": "5dcad677-3fb0-4e61-bf70-5dc0fee2a772",
   "metadata": {},
   "outputs": [],
   "source": [
    "search_url = 'https://data.riksdagen.se/dokumentlista/'\n",
    "params = {\n",
    "    'sok': 'utgiftsområde',\n",
    "    'doktyp': 'mot',\n",
    "    'rm': '2021/22',\n",
    "    'parti': 'C',\n",
    "    'sort': 'rel',\n",
    "    'sortorder': 'desc',\n",
    "    'utformat': 'json',\n",
    "    'a': 's'}\n",
    "\n",
    "resp = requests.get(search_url, params=params)\n",
    "data = resp.json()\n",
    "docs = pd.DataFrame(data['dokumentlista']['dokument'])\n",
    "docs = docs[['titel', 'undertitel', 'rm', 'dokument_url_html']]"
   ]
  },
  {
   "cell_type": "code",
   "execution_count": 4,
   "id": "6159b4ec-5745-49ba-94d4-5a55a4bbd72f",
   "metadata": {},
   "outputs": [],
   "source": [
    "docs['Utgiftsområde'] = docs.titel.str.extract('Utgiftsområde (\\d+)')\n",
    "docs['Utgiftsområde'] = docs['Utgiftsområde'].astype(int)\n",
    "docs = docs.sort_values('Utgiftsområde').reset_index(drop=True)"
   ]
  },
  {
   "cell_type": "code",
   "execution_count": 5,
   "id": "74d71d0f-849d-48c3-9741-6adaeee9645c",
   "metadata": {},
   "outputs": [],
   "source": [
    "def find_matching_table(tables, loc=None):\n",
    "    if loc:\n",
    "        return tables[loc]\n",
    "    for table in tables:\n",
    "        if table.columns.shape == (5,):\n",
    "            break\n",
    "    return table"
   ]
  },
  {
   "cell_type": "code",
   "execution_count": 56,
   "id": "635ea1e5-e7f6-477f-9009-128dbae3264c",
   "metadata": {},
   "outputs": [],
   "source": [
    "def fetch_table(url, area):\n",
    "    url = f'http:{url}'\n",
    "    tables = pd.read_html(url, encoding='utf8', header=2)\n",
    "    cols = ['Anslag', 'Namn', '2022', '2023', '2024']\n",
    "    loc = 3 if area in [14, 24] else None\n",
    "    df = find_matching_table(tables, loc)\n",
    "    df.columns = cols\n",
    "    df = df.dropna(how='all')\n",
    "    df = df[~df.Anslag.str.startswith('Summa', na=False)]\n",
    "    df['Utgiftsområde'] = area\n",
    "    return df"
   ]
  },
  {
   "cell_type": "code",
   "execution_count": 57,
   "id": "e86be06d-eb05-45ab-9840-8a6babd29c45",
   "metadata": {},
   "outputs": [],
   "source": [
    "tables = []\n",
    "\n",
    "for _, row in docs.iterrows():\n",
    "    table = fetch_table(row.dokument_url_html, area=row.Utgiftsområde)\n",
    "    tables.append(table)"
   ]
  },
  {
   "cell_type": "code",
   "execution_count": 58,
   "id": "32400eb4-2e40-435e-bc75-bd449492c764",
   "metadata": {},
   "outputs": [],
   "source": [
    "df = pd.concat(tables, sort=False)"
   ]
  },
  {
   "cell_type": "code",
   "execution_count": 59,
   "id": "806e1a6d-f222-4965-bfec-91649f9b0454",
   "metadata": {},
   "outputs": [],
   "source": [
    "df = df.dropna(how='all')"
   ]
  },
  {
   "cell_type": "code",
   "execution_count": 61,
   "id": "1be8cb99-c430-44df-87d0-ea9c7aa2efe1",
   "metadata": {},
   "outputs": [],
   "source": [
    "for col in ['2022', '2023', '2024']:\n",
    "    df[col] = df[col].astype(str)\n",
    "    df[col] = df[col].str.split('.', expand=True)[0]\n",
    "    df[col] = df[col].str.replace('±0', '0', regex=False)\n",
    "    df[col] = df[col].str.replace('\\s+', '', regex=True)\n",
    "    df[col] = df[col].str.replace('−', '-')\n",
    "    df[col] = df[col].astype(int) * multiplier"
   ]
  },
  {
   "cell_type": "code",
   "execution_count": 62,
   "id": "27a40c25-4c12-4892-a665-da989d26e9f2",
   "metadata": {},
   "outputs": [],
   "source": [
    "df.to_csv('../data/budgetmotion-2022-c.csv', index=False)"
   ]
  },
  {
   "cell_type": "code",
   "execution_count": null,
   "id": "6e440b7c-f1bf-47a8-b54f-a0c84a285f17",
   "metadata": {},
   "outputs": [],
   "source": []
  }
 ],
 "metadata": {
  "kernelspec": {
   "display_name": "Python 3 (ipykernel)",
   "language": "python",
   "name": "python3"
  },
  "language_info": {
   "codemirror_mode": {
    "name": "ipython",
    "version": 3
   },
   "file_extension": ".py",
   "mimetype": "text/x-python",
   "name": "python",
   "nbconvert_exporter": "python",
   "pygments_lexer": "ipython3",
   "version": "3.9.0"
  }
 },
 "nbformat": 4,
 "nbformat_minor": 5
}
