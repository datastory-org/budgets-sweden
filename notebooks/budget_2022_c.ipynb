{
 "cells": [
  {
   "cell_type": "markdown",
   "id": "250a5e22-9768-4f92-8b00-9197d2a8c4b3",
   "metadata": {},
   "source": [
    "https://www.riksdagen.se/sv/dokument-lagar/dokument/motion/centerpartiets-budgetmotion-2022_H9024121"
   ]
  },
  {
   "cell_type": "code",
   "execution_count": 14,
   "id": "867f8a98-1988-4703-adcb-7c7e36be1e38",
   "metadata": {},
   "outputs": [],
   "source": [
    "import pandas as pd\n",
    "import requests\n",
    "\n",
    "pd.options.mode.chained_assignment = None"
   ]
  },
  {
   "cell_type": "code",
   "execution_count": 89,
   "id": "7064bbd6-7789-4cdb-9707-a638211e5d00",
   "metadata": {},
   "outputs": [],
   "source": [
    "multiplier = 1_000"
   ]
  },
  {
   "cell_type": "code",
   "execution_count": 46,
   "id": "5dcad677-3fb0-4e61-bf70-5dc0fee2a772",
   "metadata": {},
   "outputs": [],
   "source": [
    "search_url = 'https://data.riksdagen.se/dokumentlista/'\n",
    "params = {\n",
    "    'sok': 'utgiftsområde',\n",
    "    'doktyp': 'mot',\n",
    "    'rm': '2021/22',\n",
    "    'parti': 'C',\n",
    "    'sort': 'rel',\n",
    "    'sortorder': 'desc',\n",
    "    'utformat': 'json',\n",
    "    'a': 's'}\n",
    "\n",
    "resp = requests.get(search_url, params=params)\n",
    "data = resp.json()\n",
    "docs = pd.DataFrame(data['dokumentlista']['dokument'])\n",
    "docs = docs[['titel', 'undertitel', 'rm', 'dokument_url_html']]"
   ]
  },
  {
   "cell_type": "code",
   "execution_count": 48,
   "id": "6159b4ec-5745-49ba-94d4-5a55a4bbd72f",
   "metadata": {},
   "outputs": [],
   "source": [
    "docs['Utgiftsområde'] = docs.titel.str.extract('Utgiftsområde (\\d+)')\n",
    "docs['Utgiftsområde'] = docs['Utgiftsområde'].astype(int)\n",
    "docs = docs.sort_values('Utgiftsområde').reset_index(drop=True)"
   ]
  },
  {
   "cell_type": "code",
   "execution_count": 74,
   "id": "74d71d0f-849d-48c3-9741-6adaeee9645c",
   "metadata": {},
   "outputs": [],
   "source": [
    "def find_matching_table(tables):\n",
    "    cols = ['Anslag', 'Namn', 'Regeringens förslag', 'Avvikelse från regeringen']\n",
    "    for table in tables:\n",
    "        if table.columns.shape == (4,) and 'Avvikelse från regeringen' in table.columns:\n",
    "            break\n",
    "    return table"
   ]
  },
  {
   "cell_type": "code",
   "execution_count": 75,
   "id": "635ea1e5-e7f6-477f-9009-128dbae3264c",
   "metadata": {},
   "outputs": [],
   "source": [
    "def fetch_table(url, area):\n",
    "    url = f'http:{url}'\n",
    "    tables = pd.read_html(url, encoding='utf8', header=0)\n",
    "    cols = ['Anslag', 'Namn', 'Regeringens förslag', 'Avvikelse från regeringen']\n",
    "    df = find_matching_table(tables)\n",
    "    df.columns = cols\n",
    "    df = df.dropna(how='all')\n",
    "    df = df[~df.Anslag.str.startswith('Summa')]\n",
    "    df['Utgiftsområde'] = area\n",
    "    return df"
   ]
  },
  {
   "cell_type": "code",
   "execution_count": 77,
   "id": "e86be06d-eb05-45ab-9840-8a6babd29c45",
   "metadata": {},
   "outputs": [],
   "source": [
    "tables = []\n",
    "\n",
    "for _, row in docs.iterrows():\n",
    "    table = fetch_table(row.dokument_url_html, area=row.Utgiftsområde)\n",
    "    tables.append(table)"
   ]
  },
  {
   "cell_type": "code",
   "execution_count": 98,
   "id": "32400eb4-2e40-435e-bc75-bd449492c764",
   "metadata": {},
   "outputs": [],
   "source": [
    "df = pd.concat(tables, sort=False)"
   ]
  },
  {
   "cell_type": "code",
   "execution_count": 99,
   "id": "806e1a6d-f222-4965-bfec-91649f9b0454",
   "metadata": {},
   "outputs": [],
   "source": [
    "df = df.dropna(how='all')"
   ]
  },
  {
   "cell_type": "code",
   "execution_count": 100,
   "id": "5c4e586d-9b05-4433-b031-316c60c50482",
   "metadata": {},
   "outputs": [],
   "source": [
    "df = df.replace('±0', '0')\n",
    "df['Regeringens förslag'] = df['Regeringens förslag'].str.replace('\\s+', '', regex=True)\n",
    "df['Avvikelse från regeringen'] = df['Avvikelse från regeringen'].str.replace('\\s+', '', regex=True)\n",
    "df['Regeringens förslag'] = df['Regeringens förslag'].str.replace('−', '-')\n",
    "df['Avvikelse från regeringen'] = df['Avvikelse från regeringen'].str.replace('−', '-')"
   ]
  },
  {
   "cell_type": "code",
   "execution_count": 101,
   "id": "1be8cb99-c430-44df-87d0-ea9c7aa2efe1",
   "metadata": {},
   "outputs": [],
   "source": [
    "df['Regeringens förslag'] = df['Regeringens förslag'].astype(int) * multiplier\n",
    "df['Avvikelse från regeringen'] = df['Avvikelse från regeringen'].astype(int) * multiplier"
   ]
  },
  {
   "cell_type": "code",
   "execution_count": 103,
   "id": "27a40c25-4c12-4892-a665-da989d26e9f2",
   "metadata": {},
   "outputs": [],
   "source": [
    "df.to_csv('../data/budgetmotion-2022-c.csv', index=False)"
   ]
  },
  {
   "cell_type": "code",
   "execution_count": null,
   "id": "b04265c6-f09c-4fa5-97de-f11e626fa680",
   "metadata": {},
   "outputs": [],
   "source": []
  }
 ],
 "metadata": {
  "kernelspec": {
   "display_name": "Python 3 (ipykernel)",
   "language": "python",
   "name": "python3"
  },
  "language_info": {
   "codemirror_mode": {
    "name": "ipython",
    "version": 3
   },
   "file_extension": ".py",
   "mimetype": "text/x-python",
   "name": "python",
   "nbconvert_exporter": "python",
   "pygments_lexer": "ipython3",
   "version": "3.9.0"
  }
 },
 "nbformat": 4,
 "nbformat_minor": 5
}
