{
 "cells": [
  {
   "cell_type": "markdown",
   "id": "250a5e22-9768-4f92-8b00-9197d2a8c4b3",
   "metadata": {},
   "source": [
    "https://www.riksdagen.se/sv/dokument-lagar/dokument/motion/centerpartiets-budgetmotion-2022_H9024121"
   ]
  },
  {
   "cell_type": "code",
   "execution_count": 3,
   "id": "867f8a98-1988-4703-adcb-7c7e36be1e38",
   "metadata": {},
   "outputs": [],
   "source": [
    "import pandas as pd"
   ]
  },
  {
   "cell_type": "code",
   "execution_count": 1,
   "id": "8b817f22-695b-4490-83b3-a49d8da2e3f0",
   "metadata": {},
   "outputs": [],
   "source": [
    "html_url = 'https://www.riksdagen.se/sv/dokument-lagar/dokument/motion/centerpartiets-budgetmotion-2022_H9024121/html'"
   ]
  },
  {
   "cell_type": "code",
   "execution_count": 4,
   "id": "4afddf3f-2a0c-4710-b49e-cca2428849c0",
   "metadata": {},
   "outputs": [],
   "source": [
    "tables = pd.read_html(html_url)"
   ]
  },
  {
   "cell_type": "code",
   "execution_count": 6,
   "id": "9aa06f1a-ce1e-4734-a661-a679a991e779",
   "metadata": {},
   "outputs": [
    {
     "data": {
      "text/html": [
       "<div>\n",
       "<style scoped>\n",
       "    .dataframe tbody tr th:only-of-type {\n",
       "        vertical-align: middle;\n",
       "    }\n",
       "\n",
       "    .dataframe tbody tr th {\n",
       "        vertical-align: top;\n",
       "    }\n",
       "\n",
       "    .dataframe thead th {\n",
       "        text-align: right;\n",
       "    }\n",
       "</style>\n",
       "<table border=\"1\" class=\"dataframe\">\n",
       "  <thead>\n",
       "    <tr style=\"text-align: right;\">\n",
       "      <th></th>\n",
       "      <th>0</th>\n",
       "      <th>1</th>\n",
       "    </tr>\n",
       "  </thead>\n",
       "  <tbody>\n",
       "    <tr>\n",
       "      <th>0</th>\n",
       "      <td>Annie Lööf (C)</td>\n",
       "      <td>NaN</td>\n",
       "    </tr>\n",
       "    <tr>\n",
       "      <th>1</th>\n",
       "      <td>Anders W Jonsson (C)</td>\n",
       "      <td>Martin Ådahl (C)</td>\n",
       "    </tr>\n",
       "    <tr>\n",
       "      <th>2</th>\n",
       "      <td>Alireza Akhondi (C)</td>\n",
       "      <td>Malin Björk (C)</td>\n",
       "    </tr>\n",
       "    <tr>\n",
       "      <th>3</th>\n",
       "      <td>Daniel Bäckström (C)</td>\n",
       "      <td>Jonny Cato (C)</td>\n",
       "    </tr>\n",
       "    <tr>\n",
       "      <th>4</th>\n",
       "      <td>Fredrik Christensson (C)</td>\n",
       "      <td>Catarina Deremar (C)</td>\n",
       "    </tr>\n",
       "    <tr>\n",
       "      <th>5</th>\n",
       "      <td>Magnus Ek (C)</td>\n",
       "      <td>Johan Hedin (C)</td>\n",
       "    </tr>\n",
       "    <tr>\n",
       "      <th>6</th>\n",
       "      <td>Ulrika Heie (C)</td>\n",
       "      <td>Peter Helander (C)</td>\n",
       "    </tr>\n",
       "    <tr>\n",
       "      <th>7</th>\n",
       "      <td>Martina Johansson (C)</td>\n",
       "      <td>Ola Johansson (C)</td>\n",
       "    </tr>\n",
       "    <tr>\n",
       "      <th>8</th>\n",
       "      <td>Mikael Larsson (C)</td>\n",
       "      <td>Helena Lindahl (C)</td>\n",
       "    </tr>\n",
       "    <tr>\n",
       "      <th>9</th>\n",
       "      <td>Kerstin Lundgren (C)</td>\n",
       "      <td>Aphram Melki (C)</td>\n",
       "    </tr>\n",
       "    <tr>\n",
       "      <th>10</th>\n",
       "      <td>Linda Modig (C)</td>\n",
       "      <td>Sofia Nilsson (C)</td>\n",
       "    </tr>\n",
       "    <tr>\n",
       "      <th>11</th>\n",
       "      <td>Rickard Nordin (C)</td>\n",
       "      <td>Niels Paarup-Petersen (C)</td>\n",
       "    </tr>\n",
       "    <tr>\n",
       "      <th>12</th>\n",
       "      <td>Annika Qarlsson (C)</td>\n",
       "      <td>Per Schöldberg (C)</td>\n",
       "    </tr>\n",
       "    <tr>\n",
       "      <th>13</th>\n",
       "      <td>Anne-Li Sjölund (C)</td>\n",
       "      <td>Lars Thomsson (C)</td>\n",
       "    </tr>\n",
       "    <tr>\n",
       "      <th>14</th>\n",
       "      <td>Helena Vilhelmsson (C)</td>\n",
       "      <td>Kristina Yngwe (C)</td>\n",
       "    </tr>\n",
       "    <tr>\n",
       "      <th>15</th>\n",
       "      <td>Anders Åkesson (C)</td>\n",
       "      <td>Per Åsling (C)</td>\n",
       "    </tr>\n",
       "  </tbody>\n",
       "</table>\n",
       "</div>"
      ],
      "text/plain": [
       "                           0                          1\n",
       "0             Annie Lööf (C)                        NaN\n",
       "1       Anders W Jonsson (C)           Martin Ådahl (C)\n",
       "2        Alireza Akhondi (C)            Malin Björk (C)\n",
       "3       Daniel Bäckström (C)             Jonny Cato (C)\n",
       "4   Fredrik Christensson (C)       Catarina Deremar (C)\n",
       "5              Magnus Ek (C)            Johan Hedin (C)\n",
       "6            Ulrika Heie (C)         Peter Helander (C)\n",
       "7      Martina Johansson (C)          Ola Johansson (C)\n",
       "8         Mikael Larsson (C)         Helena Lindahl (C)\n",
       "9       Kerstin Lundgren (C)           Aphram Melki (C)\n",
       "10           Linda Modig (C)          Sofia Nilsson (C)\n",
       "11        Rickard Nordin (C)  Niels Paarup-Petersen (C)\n",
       "12       Annika Qarlsson (C)         Per Schöldberg (C)\n",
       "13       Anne-Li Sjölund (C)          Lars Thomsson (C)\n",
       "14    Helena Vilhelmsson (C)         Kristina Yngwe (C)\n",
       "15        Anders Åkesson (C)             Per Åsling (C)"
      ]
     },
     "execution_count": 6,
     "metadata": {},
     "output_type": "execute_result"
    }
   ],
   "source": [
    "tables[0]"
   ]
  },
  {
   "cell_type": "code",
   "execution_count": 12,
   "id": "2d846d84-5925-4ccd-8ebd-a433321205e4",
   "metadata": {},
   "outputs": [],
   "source": [
    "tables = tables[20:47]"
   ]
  },
  {
   "cell_type": "code",
   "execution_count": 16,
   "id": "677f7ab6-862f-4936-aed0-e15bf1400757",
   "metadata": {},
   "outputs": [],
   "source": [
    "for table in tables:\n",
    "    table.columns = ['Kod', 'Namn', 'Regeringens förslag', 'Avvikelse från regeringen']\n",
    "    table.drop([0], inplace=True)"
   ]
  },
  {
   "cell_type": "code",
   "execution_count": 17,
   "id": "32400eb4-2e40-435e-bc75-bd449492c764",
   "metadata": {},
   "outputs": [],
   "source": [
    "df = pd.concat(tables, sort=False)"
   ]
  },
  {
   "cell_type": "code",
   "execution_count": 18,
   "id": "806e1a6d-f222-4965-bfec-91649f9b0454",
   "metadata": {},
   "outputs": [],
   "source": [
    "df = df.dropna(how='all')"
   ]
  },
  {
   "cell_type": "code",
   "execution_count": 19,
   "id": "47862d6f-5ad1-4f66-b8d0-60b105c9e3b1",
   "metadata": {},
   "outputs": [],
   "source": [
    "df = df[df.Kod != 'Summa']"
   ]
  },
  {
   "cell_type": "code",
   "execution_count": 20,
   "id": "7324f2c1-3b49-4dfd-9e2c-4b2b4c1de42e",
   "metadata": {},
   "outputs": [],
   "source": [
    "df = df[~df.Kod.str.startswith('Ramanslag')]"
   ]
  },
  {
   "cell_type": "code",
   "execution_count": 21,
   "id": "76943c14-9929-4fd6-86b3-bf23016bd8a7",
   "metadata": {},
   "outputs": [],
   "source": [
    "df = df.replace('±0', '0')"
   ]
  },
  {
   "cell_type": "code",
   "execution_count": 23,
   "id": "27a40c25-4c12-4892-a665-da989d26e9f2",
   "metadata": {},
   "outputs": [],
   "source": [
    "df.to_csv('sverigedemokraterna-budgetmotion-2022.csv', index=False)"
   ]
  },
  {
   "cell_type": "code",
   "execution_count": null,
   "id": "cf5dec4c-077f-447d-9fe7-94beac2223c5",
   "metadata": {},
   "outputs": [],
   "source": []
  }
 ],
 "metadata": {
  "kernelspec": {
   "display_name": "Python 3",
   "language": "python",
   "name": "python3"
  },
  "language_info": {
   "codemirror_mode": {
    "name": "ipython",
    "version": 3
   },
   "file_extension": ".py",
   "mimetype": "text/x-python",
   "name": "python",
   "nbconvert_exporter": "python",
   "pygments_lexer": "ipython3",
   "version": "3.7.9"
  }
 },
 "nbformat": 4,
 "nbformat_minor": 5
}
