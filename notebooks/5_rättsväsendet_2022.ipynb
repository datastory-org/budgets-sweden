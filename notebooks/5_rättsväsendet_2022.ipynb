{
 "cells": [
  {
   "cell_type": "markdown",
   "id": "93450cf3-e4c9-4cae-95ce-6ae1d88514fe",
   "metadata": {},
   "source": [
    "# Partiernas satsningar på rättsväsendet\n",
    "\n",
    "Samtliga siffror är miljoner kronor i avvikelse från regeringens budgetproposition."
   ]
  },
  {
   "cell_type": "markdown",
   "id": "ec4d437a-b394-4fee-bdf8-dba01c2ba12a",
   "metadata": {},
   "source": [
    "## Moderaterna\n",
    "\n",
    "https://data.riksdagen.se/fil/6ABA2736-5416-4142-ADA0-E785AC1D57AC"
   ]
  },
  {
   "cell_type": "code",
   "execution_count": 34,
   "id": "826f1836-fbec-4111-8449-14cb58d32a43",
   "metadata": {
    "jupyter": {
     "source_hidden": true
    },
    "tags": []
   },
   "outputs": [
    {
     "data": {
      "text/html": [
       "<div>\n",
       "<style scoped>\n",
       "    .dataframe tbody tr th:only-of-type {\n",
       "        vertical-align: middle;\n",
       "    }\n",
       "\n",
       "    .dataframe tbody tr th {\n",
       "        vertical-align: top;\n",
       "    }\n",
       "\n",
       "    .dataframe thead th {\n",
       "        text-align: right;\n",
       "    }\n",
       "</style>\n",
       "<table border=\"1\" class=\"dataframe\">\n",
       "  <thead>\n",
       "    <tr style=\"text-align: right;\">\n",
       "      <th></th>\n",
       "      <th>Anslag</th>\n",
       "      <th>Namn</th>\n",
       "      <th>2022</th>\n",
       "      <th>2023</th>\n",
       "      <th>2024</th>\n",
       "    </tr>\n",
       "  </thead>\n",
       "  <tbody>\n",
       "    <tr>\n",
       "      <th>0</th>\n",
       "      <td>1:1</td>\n",
       "      <td>Polismyndigheten</td>\n",
       "      <td>863</td>\n",
       "      <td>1058</td>\n",
       "      <td>2858</td>\n",
       "    </tr>\n",
       "    <tr>\n",
       "      <th>1</th>\n",
       "      <td>1:2</td>\n",
       "      <td>Säkerhetspolisen</td>\n",
       "      <td>37</td>\n",
       "      <td>37</td>\n",
       "      <td>37</td>\n",
       "    </tr>\n",
       "    <tr>\n",
       "      <th>2</th>\n",
       "      <td>1:3</td>\n",
       "      <td>Åklagarmyndigheten</td>\n",
       "      <td>76</td>\n",
       "      <td>154</td>\n",
       "      <td>218</td>\n",
       "    </tr>\n",
       "    <tr>\n",
       "      <th>3</th>\n",
       "      <td>1:6</td>\n",
       "      <td>Kriminalvården</td>\n",
       "      <td>645</td>\n",
       "      <td>795</td>\n",
       "      <td>1595</td>\n",
       "    </tr>\n",
       "    <tr>\n",
       "      <th>4</th>\n",
       "      <td>1:10</td>\n",
       "      <td>Ersättning för skador på grund av brott</td>\n",
       "      <td>40</td>\n",
       "      <td>80</td>\n",
       "      <td>80</td>\n",
       "    </tr>\n",
       "    <tr>\n",
       "      <th>5</th>\n",
       "      <td>99:1</td>\n",
       "      <td>Statligt stöd till kommunala ordningsvakter oc...</td>\n",
       "      <td>500</td>\n",
       "      <td>500</td>\n",
       "      <td>500</td>\n",
       "    </tr>\n",
       "  </tbody>\n",
       "</table>\n",
       "</div>"
      ],
      "text/plain": [
       "  Anslag                                               Namn  2022  2023  2024\n",
       "0    1:1                                   Polismyndigheten   863  1058  2858\n",
       "1    1:2                                   Säkerhetspolisen    37    37    37\n",
       "2    1:3                                 Åklagarmyndigheten    76   154   218\n",
       "3    1:6                                     Kriminalvården   645   795  1595\n",
       "4   1:10            Ersättning för skador på grund av brott    40    80    80\n",
       "5   99:1  Statligt stöd till kommunala ordningsvakter oc...   500   500   500"
      ]
     },
     "execution_count": 34,
     "metadata": {},
     "output_type": "execute_result"
    }
   ],
   "source": [
    "data = [['1:1', 'Polismyndigheten', 863, 1058, 2858],\n",
    "['1:2', 'Säkerhetspolisen', 37, 37, 37],\n",
    "['1:3', 'Åklagarmyndigheten', 76, 154, 218],\n",
    "['1:6', 'Kriminalvården', 645, 795, 1595],\n",
    "['1:10', 'Ersättning för skador på grund av brott', 40, 80, 80],\n",
    "['99:1', 'Statligt stöd till kommunala ordningsvakter och lokala trygghetsåtgärder', 500, 500, 500]]\n",
    "\n",
    "cols = ['Anslag', 'Namn', 2022, 2023, 2024]\n",
    "\n",
    "pd.DataFrame(data, columns=cols)"
   ]
  },
  {
   "cell_type": "markdown",
   "id": "49583e00-ef95-4aed-b43a-12b3a7f834e5",
   "metadata": {},
   "source": [
    "- __1:1__: Satsningar för att möjliggöra 10 000 polisanställda till  2024, återrekrytering av seniora utredare och administrativ personal, fler synliga  poliser i yttre tjänst, höjda polislöner, kommunala ordningsvakter för trygghet  här och nu och resurser för avhopparverksamhet. Förstärkning av polisens tekniska förmåga och medel för att möjliggöra utökad kameraövervakning.\n",
    "- __1:2:__ Förstärka myndighetens kapacitet att bekämpa terrorism med mer utredningsresurser.\n",
    "- __1:3:__ Åklagarmyndigheten behöver förstärkas för öka rekryteringen av åklagare så att utbyggnaden av Åklagarmyndigheten kan gå i takt med polisens utökning.\n",
    "- __1:6:__ Säkerställa avsevärt fler häktes- och anstaltsplatser, möta de kriminalpolitiska skärpningar som Moderaterna vill genomföra, införa en särskild enhet för unga inom kriminalvården och för ökade kostnader till följd av Moderaternas förslag om avskaffad ungdomsrabatt.\n",
    "- __1:10:__ Fördubbla nivån på den kränkningsersättning som brottsoffer kan få rätt till.\n",
    "- __99:1:__ Statligt stöd till kommunala ordningsvakter och lokala trygghetsåtgärder."
   ]
  },
  {
   "cell_type": "markdown",
   "id": "acdb5b37-cdc7-4e6d-b2b8-c4118f1ae376",
   "metadata": {},
   "source": [
    "## Vänsterpartiet\n",
    "\n",
    "https://riksdagen.se/sv/dokument-lagar/dokument/motion/utgiftsomrade-4-rattsvasendet_H9023360"
   ]
  },
  {
   "cell_type": "code",
   "execution_count": 36,
   "id": "7da0273d-4816-4c72-9dd2-117747cd9ce5",
   "metadata": {
    "jupyter": {
     "source_hidden": true
    },
    "tags": []
   },
   "outputs": [
    {
     "data": {
      "text/html": [
       "<div>\n",
       "<style scoped>\n",
       "    .dataframe tbody tr th:only-of-type {\n",
       "        vertical-align: middle;\n",
       "    }\n",
       "\n",
       "    .dataframe tbody tr th {\n",
       "        vertical-align: top;\n",
       "    }\n",
       "\n",
       "    .dataframe thead th {\n",
       "        text-align: right;\n",
       "    }\n",
       "</style>\n",
       "<table border=\"1\" class=\"dataframe\">\n",
       "  <thead>\n",
       "    <tr style=\"text-align: right;\">\n",
       "      <th></th>\n",
       "      <th>Anslag</th>\n",
       "      <th>Namn</th>\n",
       "      <th>2022</th>\n",
       "      <th>2023</th>\n",
       "      <th>2024</th>\n",
       "    </tr>\n",
       "  </thead>\n",
       "  <tbody>\n",
       "    <tr>\n",
       "      <th>0</th>\n",
       "      <td>1:1</td>\n",
       "      <td>Polismyndigheten</td>\n",
       "      <td>70</td>\n",
       "      <td>70</td>\n",
       "      <td>70</td>\n",
       "    </tr>\n",
       "    <tr>\n",
       "      <th>1</th>\n",
       "      <td>1:3</td>\n",
       "      <td>Åklagarmyndigheten</td>\n",
       "      <td>10</td>\n",
       "      <td>10</td>\n",
       "      <td>10</td>\n",
       "    </tr>\n",
       "    <tr>\n",
       "      <th>2</th>\n",
       "      <td>1:5</td>\n",
       "      <td>Sveriges domstolar</td>\n",
       "      <td>10</td>\n",
       "      <td>10</td>\n",
       "      <td>10</td>\n",
       "    </tr>\n",
       "  </tbody>\n",
       "</table>\n",
       "</div>"
      ],
      "text/plain": [
       "  Anslag                Namn  2022  2023  2024\n",
       "0    1:1    Polismyndigheten    70    70    70\n",
       "1    1:3  Åklagarmyndigheten    10    10    10\n",
       "2    1:5  Sveriges domstolar    10    10    10"
      ]
     },
     "execution_count": 36,
     "metadata": {},
     "output_type": "execute_result"
    }
   ],
   "source": [
    "data = [['1:1', 'Polismyndigheten', 70, 70, 70],\n",
    "['1:3', 'Åklagarmyndigheten', 10, 10, 10],\n",
    "['1:5', 'Sveriges domstolar', 10, 10, 10]]\n",
    "\n",
    "cols = ['Anslag', 'Namn', 2022, 2023, 2024]\n",
    "\n",
    "pd.DataFrame(data, columns=cols)"
   ]
  },
  {
   "cell_type": "markdown",
   "id": "9807f84a-26c4-4188-842e-aa11994d6e98",
   "metadata": {},
   "source": [
    "- __1:1:__ Vi vill inrätta en särskild akut hjälplinje, som en 112, för kvinnor som utsätts för mäns våld. Vänsterpartiet satsar 20 miljoner kronor på en akut hjälplinje för 2022. NFC behöver extra tillskott av pengar eftersom arbetet annars riskerar att bli en flaskhals i rättsväsendet som leder till att brottsutredningar och rättegångar drar ut på tiden. Vänsterpartiet satsar 40 miljoner kronor på NFC för 2022. \n",
    "- __1:3/1:1/1:5:__ Vi föreslår ett femicid-paket där polis, åklagare och domare ska ingå i syfte att mäns våld mot kvinnor, sexköp och människohandel för sexuella ändamål ska hanteras med ökad våldskompetens, rättssäkerhet och seriositet i hela rättskedjan. Kompetensutvecklingen ska också inkludera hanteringen av det nya barnfridsbrottet"
   ]
  },
  {
   "cell_type": "markdown",
   "id": "5235e58e-11c4-421a-95a1-087e224de208",
   "metadata": {},
   "source": [
    "## Centerpartiet\n",
    "\n",
    "https://riksdagen.se/sv/dokument-lagar/dokument/motion/utgiftsomrade-4-rattsvasendet_H9024143/html"
   ]
  },
  {
   "cell_type": "code",
   "execution_count": 38,
   "id": "eb5628c1-9447-4aee-89b8-1f3eabebb632",
   "metadata": {
    "jupyter": {
     "source_hidden": true
    },
    "tags": []
   },
   "outputs": [
    {
     "data": {
      "text/html": [
       "<div>\n",
       "<style scoped>\n",
       "    .dataframe tbody tr th:only-of-type {\n",
       "        vertical-align: middle;\n",
       "    }\n",
       "\n",
       "    .dataframe tbody tr th {\n",
       "        vertical-align: top;\n",
       "    }\n",
       "\n",
       "    .dataframe thead th {\n",
       "        text-align: right;\n",
       "    }\n",
       "</style>\n",
       "<table border=\"1\" class=\"dataframe\">\n",
       "  <thead>\n",
       "    <tr style=\"text-align: right;\">\n",
       "      <th></th>\n",
       "      <th>Anslag</th>\n",
       "      <th>Namn</th>\n",
       "      <th>2022</th>\n",
       "      <th>2023</th>\n",
       "      <th>2024</th>\n",
       "    </tr>\n",
       "  </thead>\n",
       "  <tbody>\n",
       "    <tr>\n",
       "      <th>0</th>\n",
       "      <td>1:1</td>\n",
       "      <td>Polismyndigheten</td>\n",
       "      <td>321</td>\n",
       "      <td>406</td>\n",
       "      <td>441</td>\n",
       "    </tr>\n",
       "    <tr>\n",
       "      <th>1</th>\n",
       "      <td>1:5</td>\n",
       "      <td>Sveriges domstolar</td>\n",
       "      <td>40</td>\n",
       "      <td>40</td>\n",
       "      <td>50</td>\n",
       "    </tr>\n",
       "  </tbody>\n",
       "</table>\n",
       "</div>"
      ],
      "text/plain": [
       "  Anslag                Namn  2022  2023  2024\n",
       "0    1:1    Polismyndigheten   321   406   441\n",
       "1    1:5  Sveriges domstolar    40    40    50"
      ]
     },
     "execution_count": 38,
     "metadata": {},
     "output_type": "execute_result"
    }
   ],
   "source": [
    "data = [['1:1', 'Polismyndigheten', 321, 406, 441],\n",
    "['1:5', 'Sveriges domstolar', 40, 40, 50]]\n",
    "\n",
    "cols = ['Anslag', 'Namn', 2022, 2023, 2024]\n",
    "\n",
    "pd.DataFrame(data, columns=cols)"
   ]
  },
  {
   "cell_type": "markdown",
   "id": "d250cae2-e52e-40c3-ad8c-d000796c3492",
   "metadata": {},
   "source": [
    "- __1:1:__ 75 miljoner kronor för att möjliggöra anställandet av polisstödsassistenter. Trygghetsvärdar ska anställas. Till följd av detta föreslås anslaget öka med 26,45 miljoner kronor år 2022. Anslaget föreslås öka med 20 miljoner kronor år 2022 i syfte att möjliggöra en särskild satsning på Nationellt forensiskt centrum. Anslaget föreslås öka med 200 miljoner kronor år 2022 till följd av Centerpartiets förslag om en särskild satsning för att stärka arbetsmiljön, inklusive möjligheten till en lönesatsning för de poliser som arbetar direkt mot gängkriminalitet, som är i yttre tjänst och som är områdespoliser.\n",
    "- __1:5:__ Anslaget föreslås öka med 50 miljoner kronor år 2022 till följd av Centerpartiets föreslagna satsning på en effektiv tillståndsprövning och tillsynsvägledning. Inte minst krävs denna resursförstärkning för att hantera miljöprövningar."
   ]
  },
  {
   "cell_type": "markdown",
   "id": "ffef8bef-6eaf-41cb-850c-c1cf45f8d245",
   "metadata": {},
   "source": [
    "## Kristdemokraterna\n",
    "\n",
    "https://riksdagen.se/sv/dokument-lagar/dokument/motion/utgiftsomrade-4-rattsvasendet_H9024192/html"
   ]
  },
  {
   "cell_type": "code",
   "execution_count": 43,
   "id": "933d903e-8565-459a-bd20-8ba9132f2e34",
   "metadata": {
    "jupyter": {
     "source_hidden": true
    },
    "tags": []
   },
   "outputs": [
    {
     "data": {
      "text/html": [
       "<div>\n",
       "<style scoped>\n",
       "    .dataframe tbody tr th:only-of-type {\n",
       "        vertical-align: middle;\n",
       "    }\n",
       "\n",
       "    .dataframe tbody tr th {\n",
       "        vertical-align: top;\n",
       "    }\n",
       "\n",
       "    .dataframe thead th {\n",
       "        text-align: right;\n",
       "    }\n",
       "</style>\n",
       "<table border=\"1\" class=\"dataframe\">\n",
       "  <thead>\n",
       "    <tr style=\"text-align: right;\">\n",
       "      <th></th>\n",
       "      <th>Anslag</th>\n",
       "      <th>Namn</th>\n",
       "      <th>2022</th>\n",
       "      <th>2023</th>\n",
       "      <th>2024</th>\n",
       "    </tr>\n",
       "  </thead>\n",
       "  <tbody>\n",
       "    <tr>\n",
       "      <th>0</th>\n",
       "      <td>1:1</td>\n",
       "      <td>Polismyndigheten</td>\n",
       "      <td>1315</td>\n",
       "      <td>1115</td>\n",
       "      <td>2510</td>\n",
       "    </tr>\n",
       "    <tr>\n",
       "      <th>1</th>\n",
       "      <td>1:2</td>\n",
       "      <td>Säkerhetspolisen</td>\n",
       "      <td>17</td>\n",
       "      <td>90</td>\n",
       "      <td>145</td>\n",
       "    </tr>\n",
       "    <tr>\n",
       "      <th>2</th>\n",
       "      <td>1:3</td>\n",
       "      <td>Åklagarmyndigheten</td>\n",
       "      <td>0</td>\n",
       "      <td>42</td>\n",
       "      <td>69</td>\n",
       "    </tr>\n",
       "    <tr>\n",
       "      <th>3</th>\n",
       "      <td>1:4</td>\n",
       "      <td>Ekobrottsmyndigheten</td>\n",
       "      <td>0</td>\n",
       "      <td>24</td>\n",
       "      <td>37</td>\n",
       "    </tr>\n",
       "    <tr>\n",
       "      <th>4</th>\n",
       "      <td>1:5</td>\n",
       "      <td>Sveriges domstolar</td>\n",
       "      <td>100</td>\n",
       "      <td>200</td>\n",
       "      <td>165</td>\n",
       "    </tr>\n",
       "    <tr>\n",
       "      <th>5</th>\n",
       "      <td>1:6</td>\n",
       "      <td>Kriminalvården</td>\n",
       "      <td>161</td>\n",
       "      <td>349</td>\n",
       "      <td>649</td>\n",
       "    </tr>\n",
       "  </tbody>\n",
       "</table>\n",
       "</div>"
      ],
      "text/plain": [
       "  Anslag                  Namn  2022  2023  2024\n",
       "0    1:1      Polismyndigheten  1315  1115  2510\n",
       "1    1:2      Säkerhetspolisen    17    90   145\n",
       "2    1:3    Åklagarmyndigheten     0    42    69\n",
       "3    1:4  Ekobrottsmyndigheten     0    24    37\n",
       "4    1:5    Sveriges domstolar   100   200   165\n",
       "5    1:6        Kriminalvården   161   349   649"
      ]
     },
     "execution_count": 43,
     "metadata": {},
     "output_type": "execute_result"
    }
   ],
   "source": [
    "data = [['1:1', 'Polismyndigheten',  1315, 1115, 2510],\n",
    "['1:2', 'Säkerhetspolisen', 17, 90, 145],\n",
    "['1:3', 'Åklagarmyndigheten', 0, 42, 69],\n",
    "['1:4', 'Ekobrottsmyndigheten', 0, 24, 37],\n",
    "['1:5', 'Sveriges domstolar', 100, 200, 165],\n",
    "['1:6', 'Kriminalvården', 161, 349, 649]]\n",
    "\n",
    "cols = ['Anslag', 'Namn', 2022, 2023, 2024]\n",
    "\n",
    "pd.DataFrame(data, columns=cols)"
   ]
  },
  {
   "cell_type": "markdown",
   "id": "6c578a35-5ecc-4f82-af94-d6c8e6a5705f",
   "metadata": {},
   "source": [
    "- __1:1:__ Polisstödsassistenter, återrekrytera silvervargarna, polislöner, kvalificerade civila utredare, tekniklyft, NFC, informationskampanj brott mot äldre, Forced marriage unit.\n",
    "- __1:2:__ Svensk säkerhetspolis har under de senaste åren fått ett allt mer angeläget arbete. Globaliseringen medför att extremism och terrorism tagit sig till Sverige. Samtidigt har de inhemska våldsbejakande extremisterna vunnit kraft, både till bland nazister, högerextrema och vänsterextremister.\n",
    "- __1:3:__ Liksom övriga delen av rättsväsendet har Åklagarmyndigheten att hantera allt mer komplexa brottsutredningar, en växande befolkning, grövre brott, mer omfångsrika förundersökningar och internationell samverkan. Myndigheten behöver också en långsiktig planeringshorisont.\n",
    "- __1:4:__ Den ekonomiska brottsligheten är en viktig del av den organiserade brottsligheten. Pengar från ekonomisk brottslighet kan finansiera annan kriminell verksamhet och hjälpa till att tvätta pengar från exempelvis narkotikaförsäljning. Komplexiteten i ärende som Ekobrottsmyndigheten hanterar ökar.\n",
    "- __1:5:__ När fler insatser görs för att komma åt kriminella kommer fler av dem också att behöva hamna i domstol. Den allt hårdare kriminaliteten ställer också högre krav på säkerhet för domstolarna, som kommer behöva förbereda sig på att skydda sig från angrepp från kriminella gäng som drabbar alla delar av rättsväsendet. Att utbilda domare tar lång tid.\n",
    "- __1:6:__ Det troliga är dock att platsbehovet kommer att bli ännu större när satsningarna på polisväsendet får genomslag. Kristdemokraterna har också ambitionen att höja straffen för ett flertal brott. Eftersom brottsutvecklingen de senaste åren varit mycket negativ med fler grova brott kommer fler kriminella också att behöva tillbringa betydligt längre tid på anstalt. [...] Därför anslår Kristdemokraterna 200 miljoner extra till Kriminalvården för att hyra fängelseplatser utomlands 2022 och 400 miljoner 2023."
   ]
  },
  {
   "cell_type": "markdown",
   "id": "0b001998-ecc9-4e35-a83b-23dedcc7caa6",
   "metadata": {},
   "source": [
    "## Liberalerna\n",
    "\n",
    "https://www.riksdagen.se/sv/dokument-lagar/dokument/motion/ny-start-for-sverige---liberalernas-budgetmotion_H9024181/html"
   ]
  },
  {
   "cell_type": "code",
   "execution_count": 45,
   "id": "f05cd1a4-4c40-4c19-90d5-ecfce4891273",
   "metadata": {
    "jupyter": {
     "source_hidden": true
    },
    "tags": []
   },
   "outputs": [
    {
     "data": {
      "text/html": [
       "<div>\n",
       "<style scoped>\n",
       "    .dataframe tbody tr th:only-of-type {\n",
       "        vertical-align: middle;\n",
       "    }\n",
       "\n",
       "    .dataframe tbody tr th {\n",
       "        vertical-align: top;\n",
       "    }\n",
       "\n",
       "    .dataframe thead th {\n",
       "        text-align: right;\n",
       "    }\n",
       "</style>\n",
       "<table border=\"1\" class=\"dataframe\">\n",
       "  <thead>\n",
       "    <tr style=\"text-align: right;\">\n",
       "      <th></th>\n",
       "      <th>Anslag</th>\n",
       "      <th>Namn</th>\n",
       "      <th>2022</th>\n",
       "      <th>2023</th>\n",
       "      <th>2024</th>\n",
       "    </tr>\n",
       "  </thead>\n",
       "  <tbody>\n",
       "    <tr>\n",
       "      <th>0</th>\n",
       "      <td>1:1</td>\n",
       "      <td>Polismyndigheten</td>\n",
       "      <td>400</td>\n",
       "      <td>842</td>\n",
       "      <td>2964</td>\n",
       "    </tr>\n",
       "    <tr>\n",
       "      <th>1</th>\n",
       "      <td>1:3</td>\n",
       "      <td>Åklagarmyndigheten</td>\n",
       "      <td>0</td>\n",
       "      <td>32</td>\n",
       "      <td>57</td>\n",
       "    </tr>\n",
       "    <tr>\n",
       "      <th>2</th>\n",
       "      <td>1:4</td>\n",
       "      <td>Ekobrottsmyndigheten</td>\n",
       "      <td>0</td>\n",
       "      <td>26</td>\n",
       "      <td>38</td>\n",
       "    </tr>\n",
       "    <tr>\n",
       "      <th>3</th>\n",
       "      <td>1:5</td>\n",
       "      <td>Sveriges domstolar</td>\n",
       "      <td>0</td>\n",
       "      <td>197</td>\n",
       "      <td>165</td>\n",
       "    </tr>\n",
       "    <tr>\n",
       "      <th>4</th>\n",
       "      <td>1:6</td>\n",
       "      <td>Kriminalvården</td>\n",
       "      <td>0</td>\n",
       "      <td>0</td>\n",
       "      <td>700</td>\n",
       "    </tr>\n",
       "    <tr>\n",
       "      <th>5</th>\n",
       "      <td>1:14</td>\n",
       "      <td>Lokalt brottsförebyggande arbete</td>\n",
       "      <td>500</td>\n",
       "      <td>600</td>\n",
       "      <td>700</td>\n",
       "    </tr>\n",
       "  </tbody>\n",
       "</table>\n",
       "</div>"
      ],
      "text/plain": [
       "  Anslag                              Namn  2022  2023  2024\n",
       "0    1:1                  Polismyndigheten   400   842  2964\n",
       "1    1:3                Åklagarmyndigheten     0    32    57\n",
       "2    1:4              Ekobrottsmyndigheten     0    26    38\n",
       "3    1:5                Sveriges domstolar     0   197   165\n",
       "4    1:6                    Kriminalvården     0     0   700\n",
       "5   1:14  Lokalt brottsförebyggande arbete   500   600   700"
      ]
     },
     "execution_count": 45,
     "metadata": {},
     "output_type": "execute_result"
    }
   ],
   "source": [
    "data = [['1:1', 'Polismyndigheten',  400, 842, 2964],\n",
    "['1:3', 'Åklagarmyndigheten', 0, 32, 57],\n",
    "['1:4', 'Ekobrottsmyndigheten', 0, 26, 38],\n",
    "['1:5', 'Sveriges domstolar', 0, 197, 165],\n",
    "['1:6', 'Kriminalvården', 0, 0, 700],\n",
    "['1:14', 'Lokalt brottsförebyggande arbete', 500, 600, 700]]\n",
    "\n",
    "cols = ['Anslag', 'Namn', 2022, 2023, 2024]\n",
    "\n",
    "pd.DataFrame(data, columns=cols)"
   ]
  },
  {
   "cell_type": "markdown",
   "id": "8bb2b99c-491b-4786-9d79-67489b89a96f",
   "metadata": {},
   "source": [
    "- __1:1:__ En särskild satsning på höjda polislöner. För ändamålet anslås 400 miljoner kronor 2022, 800 miljoner kronor 2023 och 1 200 miljoner kronor 2024 på anslagspost 1:1. Satsningen motsvarar fullt utbyggt i genomsnitt 2 700 kronor i höjd månadslön för en polis.\n",
    "- __1:3:__ För att ytterligare öka kapaciteten att lagföra brottsmisstänkta vill Liberalerna dessutom tillföra Åklagarmyndigheten 23 miljoner kronor för 2023 och 57 miljoner kronor 2024.\n",
    "- __1:4:__ En långsiktig utbyggnad av Ekobrottsmyndigheten i enlighet med myndighetens bedömningar.\n",
    "- __1:5:__ Det tar lång tid att utbilda domare och det är därför anmärkningsvärt att regeringen blundat för den brist i rättssystemet en domarbrist kommer att innebära. Våra domstolar behöver även på ett allmänt plan ökade resurser för att kunna effektivisera sin verksamhet.\n",
    "- __1:6:__ En långsiktig utbyggnad av Kriminalvården i enlighet med myndighetens bedömningar.\n",
    "- __1:14:__ Samtidigt är förutsättningarna olika och de lokala trygghetsproblemen finns här och nu. Det går inte att vänta tills framtidens poliser är färdigutbildade. Trygghet ska inte vara en fråga om var i landet man bor. På anslag 1:14 avsätter Liberalerna därför 500 miljoner kronor 2022, 600 miljoner kronor 2023 och 700 miljoner kronor 2024 i ett statligt anslag till kommuner som vill satsa på kommunala ordningsvakter."
   ]
  },
  {
   "cell_type": "markdown",
   "id": "d88a4f32-8540-4a83-90d4-6421b2bfdf07",
   "metadata": {},
   "source": [
    "## Sverigedemokraterna\n",
    "\n",
    "https://riksdagen.se/sv/dokument-lagar/dokument/motion/utgiftsomrade-4-rattsvasendet_H9023904/html"
   ]
  },
  {
   "cell_type": "code",
   "execution_count": 46,
   "id": "1cd29d84-e5e4-42af-a413-377fca4884f0",
   "metadata": {
    "jupyter": {
     "source_hidden": true
    },
    "tags": []
   },
   "outputs": [
    {
     "data": {
      "text/html": [
       "<div>\n",
       "<style scoped>\n",
       "    .dataframe tbody tr th:only-of-type {\n",
       "        vertical-align: middle;\n",
       "    }\n",
       "\n",
       "    .dataframe tbody tr th {\n",
       "        vertical-align: top;\n",
       "    }\n",
       "\n",
       "    .dataframe thead th {\n",
       "        text-align: right;\n",
       "    }\n",
       "</style>\n",
       "<table border=\"1\" class=\"dataframe\">\n",
       "  <thead>\n",
       "    <tr style=\"text-align: right;\">\n",
       "      <th></th>\n",
       "      <th>Anslag</th>\n",
       "      <th>Namn</th>\n",
       "      <th>2022</th>\n",
       "      <th>2023</th>\n",
       "      <th>2024</th>\n",
       "    </tr>\n",
       "  </thead>\n",
       "  <tbody>\n",
       "    <tr>\n",
       "      <th>0</th>\n",
       "      <td>1:1</td>\n",
       "      <td>Polismyndigheten</td>\n",
       "      <td>3145</td>\n",
       "      <td>3305</td>\n",
       "      <td>5638</td>\n",
       "    </tr>\n",
       "    <tr>\n",
       "      <th>1</th>\n",
       "      <td>1:2</td>\n",
       "      <td>Säkerhetspolisen</td>\n",
       "      <td>210</td>\n",
       "      <td>210</td>\n",
       "      <td>210</td>\n",
       "    </tr>\n",
       "    <tr>\n",
       "      <th>2</th>\n",
       "      <td>1:3</td>\n",
       "      <td>Åklagarmyndigheten</td>\n",
       "      <td>25</td>\n",
       "      <td>25</td>\n",
       "      <td>25</td>\n",
       "    </tr>\n",
       "    <tr>\n",
       "      <th>3</th>\n",
       "      <td>1:4</td>\n",
       "      <td>Ekobrottsmyndigheten</td>\n",
       "      <td>35</td>\n",
       "      <td>45</td>\n",
       "      <td>40</td>\n",
       "    </tr>\n",
       "    <tr>\n",
       "      <th>4</th>\n",
       "      <td>1:5</td>\n",
       "      <td>Sveriges domstolar</td>\n",
       "      <td>95</td>\n",
       "      <td>60</td>\n",
       "      <td>100</td>\n",
       "    </tr>\n",
       "    <tr>\n",
       "      <th>5</th>\n",
       "      <td>1:6</td>\n",
       "      <td>Kriminalvården</td>\n",
       "      <td>717</td>\n",
       "      <td>620</td>\n",
       "      <td>620</td>\n",
       "    </tr>\n",
       "    <tr>\n",
       "      <th>6</th>\n",
       "      <td>1:10</td>\n",
       "      <td>Ersättning för skador pga brott</td>\n",
       "      <td>175</td>\n",
       "      <td>175</td>\n",
       "      <td>175</td>\n",
       "    </tr>\n",
       "    <tr>\n",
       "      <th>7</th>\n",
       "      <td>1:11</td>\n",
       "      <td>Rättsliga biträden</td>\n",
       "      <td>50</td>\n",
       "      <td>50</td>\n",
       "      <td>50</td>\n",
       "    </tr>\n",
       "  </tbody>\n",
       "</table>\n",
       "</div>"
      ],
      "text/plain": [
       "  Anslag                             Namn  2022  2023  2024\n",
       "0    1:1                 Polismyndigheten  3145  3305  5638\n",
       "1    1:2                 Säkerhetspolisen   210   210   210\n",
       "2    1:3               Åklagarmyndigheten    25    25    25\n",
       "3    1:4             Ekobrottsmyndigheten    35    45    40\n",
       "4    1:5               Sveriges domstolar    95    60   100\n",
       "5    1:6                   Kriminalvården   717   620   620\n",
       "6   1:10  Ersättning för skador pga brott   175   175   175\n",
       "7   1:11               Rättsliga biträden    50    50    50"
      ]
     },
     "execution_count": 46,
     "metadata": {},
     "output_type": "execute_result"
    }
   ],
   "source": [
    "data = [['1:1', 'Polismyndigheten',   3145,  3305,  5638],\n",
    "['1:2', 'Säkerhetspolisen', 210, 210, 210],\n",
    "['1:3', 'Åklagarmyndigheten', 25, 25, 25],\n",
    "['1:4', 'Ekobrottsmyndigheten', 35, 45, 40],\n",
    "['1:5', 'Sveriges domstolar', 95, 60, 100],\n",
    "['1:6', 'Kriminalvården', 717, 620, 620],\n",
    "['1:10', 'Ersättning för skador pga brott', 175, 175, 175],\n",
    "['1:11', 'Rättsliga biträden', 50, 50, 50]]\n",
    "\n",
    "cols = ['Anslag', 'Namn', 2022, 2023, 2024]\n",
    "\n",
    "pd.DataFrame(data, columns=cols)"
   ]
  },
  {
   "cell_type": "markdown",
   "id": "787ea057-3aeb-41a5-b188-775f3a997deb",
   "metadata": {},
   "source": [
    "- __1:1:__ Särskild lönesatsning, 10 000 fler poliser, betald polisutbildning, teknik, återinförande av beredskapspolis, administrativ personal, NFC, gränspolis, minskad sekretess.\n",
    "- __1:2:__ Bemöta ökad terrorism och extremism.\n",
    "- __1:3:__ Anslaget höjs för att stärka Åklagarmyndighetens förmåga vid ett ökat ärendeflöde.\n",
    "- __1:4:__ Ärendeinflödet ökar och enskilda ärenden blir allt mer komplexa.\n",
    "- __1:5:__ Hantera en ökad måltillströmning, kompetensförsörjning och behov av viss digitalisering. Samt anonyma vittnesmål.\n",
    "- __1:6:__ Möta kapacitetsbrist, anstaltsplatser utomlands.\n",
    "- __1:10:__ Statlig skadeståndsgaranti och höjda skadestånd.\n",
    "- __1:11:__  Garanterade målsägandebiträden."
   ]
  },
  {
   "cell_type": "code",
   "execution_count": null,
   "id": "8cb43307-1ed1-431d-876f-cd57b4b9a2c0",
   "metadata": {},
   "outputs": [],
   "source": []
  }
 ],
 "metadata": {
  "kernelspec": {
   "display_name": "Python 3 (ipykernel)",
   "language": "python",
   "name": "python3"
  },
  "language_info": {
   "codemirror_mode": {
    "name": "ipython",
    "version": 3
   },
   "file_extension": ".py",
   "mimetype": "text/x-python",
   "name": "python",
   "nbconvert_exporter": "python",
   "pygments_lexer": "ipython3",
   "version": "3.9.0"
  }
 },
 "nbformat": 4,
 "nbformat_minor": 5
}
