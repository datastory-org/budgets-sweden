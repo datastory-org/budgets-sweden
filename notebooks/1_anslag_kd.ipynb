{
 "cells": [
  {
   "cell_type": "markdown",
   "id": "250a5e22-9768-4f92-8b00-9197d2a8c4b3",
   "metadata": {},
   "source": [
    "# Kristdemokraternas budgetmotion 2022\n",
    "\n",
    "https://www.riksdagen.se/sv/dokument-lagar/dokument/motion/hela-sverige-ska-fungera--kristdemokraternas_H9024221"
   ]
  },
  {
   "cell_type": "code",
   "execution_count": 5,
   "id": "867f8a98-1988-4703-adcb-7c7e36be1e38",
   "metadata": {},
   "outputs": [],
   "source": [
    "import pandas as pd\n",
    "import requests"
   ]
  },
  {
   "cell_type": "code",
   "execution_count": 6,
   "id": "274b4756-c0b1-4d09-8b54-6f3764b44f2e",
   "metadata": {},
   "outputs": [],
   "source": [
    "# currency multiplier used in this budget\n",
    "multiplier = 1_000"
   ]
  },
  {
   "cell_type": "code",
   "execution_count": 115,
   "id": "e7b748df-32cf-4494-afb1-e5b2bc528400",
   "metadata": {},
   "outputs": [],
   "source": [
    "docs = [\n",
    "    {'utgiftsområde': 1, 'dok_id': 'H9024186'},\n",
    "    {'utgiftsområde': 2, 'dok_id': 'H9024200'},\n",
    "    {'utgiftsområde': 3, 'dok_id': 'H9024202'},\n",
    "    {'utgiftsområde': 4, 'dok_id': 'H9024192'},\n",
    "    {'utgiftsområde': 5, 'dok_id': 'H9023883'},\n",
    "    {'utgiftsområde': 6, 'dok_id': 'H9023908'},\n",
    "    {'utgiftsområde': 7, 'dok_id': 'H9023882'},\n",
    "    {'utgiftsområde': 8, 'dok_id': 'H9024214'},\n",
    "    {'utgiftsområde': 9, 'dok_id': 'H9024172'},\n",
    "    {'utgiftsområde': 10, 'dok_id': 'H9024213'},\n",
    "    {'utgiftsområde': 11, 'dok_id': 'H9024215'},\n",
    "    {'utgiftsområde': 12, 'dok_id': 'H9024166'},\n",
    "    {'utgiftsområde': 13, 'dok_id': 'H9024169'},\n",
    "    {'utgiftsområde': 14, 'dok_id': 'H9024198'},\n",
    "    {'utgiftsområde': 15, 'dok_id': 'H9024160'},\n",
    "    {'utgiftsområde': 16, 'dok_id': 'H9024163'},\n",
    "    {'utgiftsområde': 17, 'dok_id': 'H9024162'},\n",
    "    {'utgiftsområde': 18, 'dok_id': 'H9024222'},\n",
    "    {'utgiftsområde': 19, 'dok_id': 'H9024219'},\n",
    "    {'utgiftsområde': 20, 'dok_id': 'H9023881'},\n",
    "    {'utgiftsområde': 21, 'dok_id': 'H9024195'},\n",
    "    {'utgiftsområde': 22, 'dok_id': 'H9023879'},\n",
    "    {'utgiftsområde': 23, 'dok_id': 'H9023880'},\n",
    "    {'utgiftsområde': 24, 'dok_id': 'H9024217'},\n",
    "    {'utgiftsområde': 25, 'dok_id': 'H9024201'}\n",
    "]"
   ]
  },
  {
   "cell_type": "code",
   "execution_count": 116,
   "id": "aafcede7-eb19-4edc-a24f-3e6ab14e6885",
   "metadata": {},
   "outputs": [],
   "source": [
    "def find_matching_table(tables):\n",
    "    cols = ['Anslag', 'Namn', 'Regeringens förslag', 'Avvikelse från regeringen']\n",
    "    for table in tables:\n",
    "        if table.columns.shape == (4,) and 'Avvikelse från regeringen' in table.columns:\n",
    "            break\n",
    "    return table"
   ]
  },
  {
   "cell_type": "code",
   "execution_count": 124,
   "id": "7f2254ec-a325-4552-8893-48e5c451dba8",
   "metadata": {},
   "outputs": [],
   "source": [
    "def fetch_table(url, area):\n",
    "    tables = pd.read_html(url, encoding='utf8', header=0)\n",
    "    cols = ['Anslag', 'Namn', 'Regeringens förslag', 'Avvikelse från regeringen']\n",
    "    df = find_matching_table(tables)\n",
    "    df.columns = cols\n",
    "    df = df.dropna(how='all')\n",
    "    df = df[~df.Anslag.str.startswith('Summa')]\n",
    "    df['Utgiftsområde'] = area\n",
    "    return df"
   ]
  },
  {
   "cell_type": "code",
   "execution_count": 125,
   "id": "ba2b1db2-93f0-4319-a2dd-02d83f962050",
   "metadata": {},
   "outputs": [
    {
     "name": "stdout",
     "output_type": "stream",
     "text": [
      "13\n"
     ]
    }
   ],
   "source": [
    "tables = []\n",
    "\n",
    "for doc in docs:\n",
    "    try:\n",
    "        url = f'http://data.riksdagen.se/dokument/{doc[\"dok_id\"]}.html'\n",
    "        table = fetch_table(url, area=doc['utgiftsområde'])\n",
    "        tables.append(table)\n",
    "    except ValueError:  # missing images...\n",
    "        print(doc['utgiftsområde'])"
   ]
  },
  {
   "cell_type": "code",
   "execution_count": 126,
   "id": "72650126-d712-4ecd-a309-9a1237cb6cd3",
   "metadata": {},
   "outputs": [],
   "source": [
    "df = pd.concat(tables, sort=False)"
   ]
  },
  {
   "cell_type": "code",
   "execution_count": 127,
   "id": "3cb94d8e-102e-4db8-9b32-17fcbbb09325",
   "metadata": {},
   "outputs": [],
   "source": [
    "df = df.dropna(how='all')"
   ]
  },
  {
   "cell_type": "code",
   "execution_count": 128,
   "id": "0614a7b3-9f0b-4838-a898-8569667e529e",
   "metadata": {},
   "outputs": [],
   "source": [
    "df = df.drop('Regeringens förslag', axis=1)"
   ]
  },
  {
   "cell_type": "code",
   "execution_count": 129,
   "id": "4077c50b-b724-4d67-9ee3-55481f49f54c",
   "metadata": {},
   "outputs": [],
   "source": [
    "df = df.replace('±0', '0')\n",
    "df = df.rename(columns={'Avvikelse från regeringen': '2022'})\n",
    "df['2022'] = df['2022'].str.replace('\\s+', '', regex=True)\n",
    "df['2022'] = df['2022'].str.replace('−', '-')"
   ]
  },
  {
   "cell_type": "code",
   "execution_count": 130,
   "id": "98120d7e-4499-4c16-92eb-32b66a44f6c5",
   "metadata": {},
   "outputs": [],
   "source": [
    "df['2022'] = df['2022'].astype(int) * multiplier"
   ]
  },
  {
   "cell_type": "code",
   "execution_count": 137,
   "id": "07de74a8-92f9-44eb-a771-350b2c32d72f",
   "metadata": {},
   "outputs": [
    {
     "data": {
      "text/html": [
       "<div>\n",
       "<style scoped>\n",
       "    .dataframe tbody tr th:only-of-type {\n",
       "        vertical-align: middle;\n",
       "    }\n",
       "\n",
       "    .dataframe tbody tr th {\n",
       "        vertical-align: top;\n",
       "    }\n",
       "\n",
       "    .dataframe thead th {\n",
       "        text-align: right;\n",
       "    }\n",
       "</style>\n",
       "<table border=\"1\" class=\"dataframe\">\n",
       "  <thead>\n",
       "    <tr style=\"text-align: right;\">\n",
       "      <th></th>\n",
       "      <th>Anslag</th>\n",
       "      <th>Namn</th>\n",
       "      <th>2022</th>\n",
       "      <th>Utgiftsområde</th>\n",
       "    </tr>\n",
       "  </thead>\n",
       "  <tbody>\n",
       "    <tr>\n",
       "      <th>0</th>\n",
       "      <td>1:1</td>\n",
       "      <td>Kungliga hov- och slottsstaten</td>\n",
       "      <td>0</td>\n",
       "      <td>1</td>\n",
       "    </tr>\n",
       "    <tr>\n",
       "      <th>1</th>\n",
       "      <td>2:1</td>\n",
       "      <td>Riksdagens ledamöter och partier m.m.</td>\n",
       "      <td>0</td>\n",
       "      <td>1</td>\n",
       "    </tr>\n",
       "    <tr>\n",
       "      <th>2</th>\n",
       "      <td>2:2</td>\n",
       "      <td>Riksdagens förvaltningsanslag</td>\n",
       "      <td>0</td>\n",
       "      <td>1</td>\n",
       "    </tr>\n",
       "    <tr>\n",
       "      <th>3</th>\n",
       "      <td>2:3</td>\n",
       "      <td>Riksdagens fastighetsanslag</td>\n",
       "      <td>0</td>\n",
       "      <td>1</td>\n",
       "    </tr>\n",
       "    <tr>\n",
       "      <th>4</th>\n",
       "      <td>2:4</td>\n",
       "      <td>Riksdagens ombudsmän (JO)</td>\n",
       "      <td>0</td>\n",
       "      <td>1</td>\n",
       "    </tr>\n",
       "    <tr>\n",
       "      <th>...</th>\n",
       "      <td>...</td>\n",
       "      <td>...</td>\n",
       "      <td>...</td>\n",
       "      <td>...</td>\n",
       "    </tr>\n",
       "    <tr>\n",
       "      <th>0</th>\n",
       "      <td>1:1</td>\n",
       "      <td>Kommunalekonomisk utjämning</td>\n",
       "      <td>4824000000</td>\n",
       "      <td>25</td>\n",
       "    </tr>\n",
       "    <tr>\n",
       "      <th>1</th>\n",
       "      <td>1:2</td>\n",
       "      <td>Utjämningsbidrag för LSS-kostnader</td>\n",
       "      <td>0</td>\n",
       "      <td>25</td>\n",
       "    </tr>\n",
       "    <tr>\n",
       "      <th>2</th>\n",
       "      <td>1:3</td>\n",
       "      <td>Bidrag till kommunalekonomiska organisationer</td>\n",
       "      <td>0</td>\n",
       "      <td>25</td>\n",
       "    </tr>\n",
       "    <tr>\n",
       "      <th>3</th>\n",
       "      <td>1:4</td>\n",
       "      <td>Tillfälligt stöd till enskilda kommuner och re...</td>\n",
       "      <td>0</td>\n",
       "      <td>25</td>\n",
       "    </tr>\n",
       "    <tr>\n",
       "      <th>4</th>\n",
       "      <td>1:5</td>\n",
       "      <td>Medel till befolkningsmässigt mindre kommuner</td>\n",
       "      <td>0</td>\n",
       "      <td>25</td>\n",
       "    </tr>\n",
       "  </tbody>\n",
       "</table>\n",
       "<p>513 rows × 4 columns</p>\n",
       "</div>"
      ],
      "text/plain": [
       "   Anslag                                               Namn        2022  \\\n",
       "0     1:1                     Kungliga hov- och slottsstaten           0   \n",
       "1     2:1              Riksdagens ledamöter och partier m.m.           0   \n",
       "2     2:2                      Riksdagens förvaltningsanslag           0   \n",
       "3     2:3                        Riksdagens fastighetsanslag           0   \n",
       "4     2:4                          Riksdagens ombudsmän (JO)           0   \n",
       "..    ...                                                ...         ...   \n",
       "0     1:1                        Kommunalekonomisk utjämning  4824000000   \n",
       "1     1:2                 Utjämningsbidrag för LSS-kostnader           0   \n",
       "2     1:3      Bidrag till kommunalekonomiska organisationer           0   \n",
       "3     1:4  Tillfälligt stöd till enskilda kommuner och re...           0   \n",
       "4     1:5      Medel till befolkningsmässigt mindre kommuner           0   \n",
       "\n",
       "    Utgiftsområde  \n",
       "0               1  \n",
       "1               1  \n",
       "2               1  \n",
       "3               1  \n",
       "4               1  \n",
       "..            ...  \n",
       "0              25  \n",
       "1              25  \n",
       "2              25  \n",
       "3              25  \n",
       "4              25  \n",
       "\n",
       "[513 rows x 4 columns]"
      ]
     },
     "execution_count": 137,
     "metadata": {},
     "output_type": "execute_result"
    }
   ],
   "source": [
    "df"
   ]
  },
  {
   "cell_type": "code",
   "execution_count": 139,
   "id": "9d04ee7e-8a75-4403-850a-9daab8fa7b7f",
   "metadata": {},
   "outputs": [],
   "source": [
    "# Manual addition of utgiftsområde 13 (from PDF)\n",
    "df = df.append([\n",
    "    {\n",
    "        'Anslag': '1:1',\n",
    "        'Namn': 'Etableringsåtgärder',\n",
    "        '2022': 120_000_000,\n",
    "        'Utgiftsområde': 13\n",
    "    },\n",
    "    {\n",
    "        'Anslag': '3:1',\n",
    "        'Namn': 'Särskilda jämställdhetsåtgärder',\n",
    "        '2022': 27_000_000,\n",
    "        'Utgiftsområde': 13\n",
    "    },\n",
    "    {\n",
    "        'Anslag': '3:2',\n",
    "        'Namn': 'Jämställdhetsmyndigheten',\n",
    "        '2022': -26_000_000,\n",
    "        'Utgiftsområde': 13\n",
    "    },\n",
    "    {\n",
    "        'Anslag': '4:1',\n",
    "        'Namn': 'Åtgärder mot segregation',\n",
    "        '2022': -250_000_000,\n",
    "        'Utgiftsområde': 13\n",
    "    },\n",
    "    {\n",
    "        'Anslag': '4:2',\n",
    "        'Namn': 'Delegationen mot segregation',\n",
    "        '2022': -9_000_000,\n",
    "        'Utgiftsområde': 13\n",
    "    },\n",
    "    {\n",
    "        'Anslag': '99:2',\n",
    "        'Namn': 'Inrättande av jämställdhetsdelegation',\n",
    "        '2022': 13_000_000,\n",
    "        'Utgiftsområde': 13\n",
    "    },\n",
    "])\n",
    "\n",
    "df = df.sort_values(['Utgiftsområde', 'Anslag'])"
   ]
  },
  {
   "cell_type": "code",
   "execution_count": 141,
   "id": "27a40c25-4c12-4892-a665-da989d26e9f2",
   "metadata": {},
   "outputs": [],
   "source": [
    "df.to_csv('../data/budgetmotion-2022-kd.csv', index=False)"
   ]
  },
  {
   "cell_type": "code",
   "execution_count": null,
   "id": "0f401772-4e8e-4be8-abd3-834ec71f7321",
   "metadata": {},
   "outputs": [],
   "source": []
  }
 ],
 "metadata": {
  "kernelspec": {
   "display_name": "Python 3 (ipykernel)",
   "language": "python",
   "name": "python3"
  },
  "language_info": {
   "codemirror_mode": {
    "name": "ipython",
    "version": 3
   },
   "file_extension": ".py",
   "mimetype": "text/x-python",
   "name": "python",
   "nbconvert_exporter": "python",
   "pygments_lexer": "ipython3",
   "version": "3.9.0"
  }
 },
 "nbformat": 4,
 "nbformat_minor": 5
}
