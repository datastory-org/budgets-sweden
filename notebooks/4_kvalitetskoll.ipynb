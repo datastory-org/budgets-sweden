{
 "cells": [
  {
   "cell_type": "markdown",
   "id": "431d3821-c4e1-4349-91f1-5f5f9d86a17f",
   "metadata": {},
   "source": [
    "# Kvalitetskontroll av budgetdata 2022"
   ]
  },
  {
   "cell_type": "code",
   "execution_count": 280,
   "id": "5374f505-2575-48a8-b2c5-2c1d07f317dd",
   "metadata": {},
   "outputs": [],
   "source": [
    "import pandas as pd\n",
    "%config InlineBackend.figure_format = 'retina'"
   ]
  },
  {
   "cell_type": "markdown",
   "id": "ae8658cb-0560-49a5-8f4c-693c309da7ff",
   "metadata": {},
   "source": [
    "## Detailed party budgets"
   ]
  },
  {
   "cell_type": "code",
   "execution_count": 281,
   "id": "64e6ba32-fc6d-455a-98dd-7ed45c1fb5a3",
   "metadata": {},
   "outputs": [],
   "source": [
    "opposition_parties = ['c', 'kd', 'l', 'm', 'sd', 'v']\n",
    "data_path = '../data'\n",
    "frames = []\n",
    "\n",
    "for party in opposition_parties:\n",
    "    frame = pd.read_csv(f'{data_path}/budgetmotion-2022-{party}.csv', dtype=str)\n",
    "    frame['Parti'] = party.upper()\n",
    "    frames.append(frame)"
   ]
  },
  {
   "cell_type": "code",
   "execution_count": 282,
   "id": "e9438bda-708b-4756-89ac-1e4e6399a60b",
   "metadata": {},
   "outputs": [],
   "source": [
    "df = pd.concat(frames, sort=False)"
   ]
  },
  {
   "cell_type": "code",
   "execution_count": 283,
   "id": "a5fb60ed-5ca0-44d5-9dbb-e226c6daeb55",
   "metadata": {},
   "outputs": [],
   "source": [
    "df['Utgiftsområde'] = df['Utgiftsområde'].astype(int)\n",
    "df['2022'] = df['2022'].astype(int)\n",
    "df['2023'] = df['2023'].astype(float).astype('Int64')\n",
    "df['2024'] = df['2024'].astype(float).astype('Int64')"
   ]
  },
  {
   "cell_type": "markdown",
   "id": "b42cbe57-ade3-435d-9718-217fb57176b0",
   "metadata": {},
   "source": [
    "## Summary party budgets"
   ]
  },
  {
   "cell_type": "code",
   "execution_count": 284,
   "id": "5a2f40d7-01ba-45a8-bd72-61f66c7ecde2",
   "metadata": {},
   "outputs": [],
   "source": [
    "sums = pd.read_csv('../data/budgetmotion-2022-summor.csv')\n",
    "sums = sums[sums['Utgiftsområde'] < 26]\n",
    "sums = sums.set_index(['Parti', 'Utgiftsområde'])\n",
    "sums = sums.drop('Namn', axis=1)"
   ]
  },
  {
   "cell_type": "code",
   "execution_count": 285,
   "id": "e0bf926c-33e9-4968-9b97-3ecd2476d946",
   "metadata": {},
   "outputs": [],
   "source": [
    "# Sums derived from detailed posts\n",
    "calc_sums = df.groupby(['Parti', 'Utgiftsområde']).sum()"
   ]
  },
  {
   "cell_type": "markdown",
   "id": "e05241d9-86b8-4db1-a3ac-70704364d93c",
   "metadata": {},
   "source": [
    "## Sanity check"
   ]
  },
  {
   "cell_type": "code",
   "execution_count": 286,
   "id": "c5d15922-2bd3-4db7-8014-1b38324cb122",
   "metadata": {},
   "outputs": [],
   "source": [
    "# Convert to MSEK for better overview\n",
    "sums = sums / 1_000_000\n",
    "calc_sums = calc_sums / 1_000_000"
   ]
  },
  {
   "cell_type": "code",
   "execution_count": 287,
   "id": "d74d4b73-d642-4586-ba2d-95c159f754fc",
   "metadata": {},
   "outputs": [
    {
     "data": {
      "text/html": [
       "<div>\n",
       "<style scoped>\n",
       "    .dataframe tbody tr th:only-of-type {\n",
       "        vertical-align: middle;\n",
       "    }\n",
       "\n",
       "    .dataframe tbody tr th {\n",
       "        vertical-align: top;\n",
       "    }\n",
       "\n",
       "    .dataframe thead th {\n",
       "        text-align: right;\n",
       "    }\n",
       "</style>\n",
       "<table border=\"1\" class=\"dataframe\">\n",
       "  <thead>\n",
       "    <tr style=\"text-align: right;\">\n",
       "      <th></th>\n",
       "      <th></th>\n",
       "      <th>2022</th>\n",
       "      <th>2023</th>\n",
       "      <th>2024</th>\n",
       "    </tr>\n",
       "    <tr>\n",
       "      <th>Parti</th>\n",
       "      <th>Utgiftsområde</th>\n",
       "      <th></th>\n",
       "      <th></th>\n",
       "      <th></th>\n",
       "    </tr>\n",
       "  </thead>\n",
       "  <tbody>\n",
       "    <tr>\n",
       "      <th rowspan=\"5\" valign=\"top\">C</th>\n",
       "      <th>1</th>\n",
       "      <td>25.0</td>\n",
       "      <td>-19.0</td>\n",
       "      <td>-15.0</td>\n",
       "    </tr>\n",
       "    <tr>\n",
       "      <th>2</th>\n",
       "      <td>252.0</td>\n",
       "      <td>-39.0</td>\n",
       "      <td>-39.0</td>\n",
       "    </tr>\n",
       "    <tr>\n",
       "      <th>3</th>\n",
       "      <td>27.0</td>\n",
       "      <td>0.0</td>\n",
       "      <td>0.0</td>\n",
       "    </tr>\n",
       "    <tr>\n",
       "      <th>4</th>\n",
       "      <td>361.0</td>\n",
       "      <td>446.0</td>\n",
       "      <td>491.0</td>\n",
       "    </tr>\n",
       "    <tr>\n",
       "      <th>5</th>\n",
       "      <td>4.0</td>\n",
       "      <td>2.0</td>\n",
       "      <td>2.0</td>\n",
       "    </tr>\n",
       "  </tbody>\n",
       "</table>\n",
       "</div>"
      ],
      "text/plain": [
       "                      2022   2023   2024\n",
       "Parti Utgiftsområde                     \n",
       "C     1               25.0  -19.0  -15.0\n",
       "      2              252.0  -39.0  -39.0\n",
       "      3               27.0    0.0    0.0\n",
       "      4              361.0  446.0  491.0\n",
       "      5                4.0    2.0    2.0"
      ]
     },
     "execution_count": 287,
     "metadata": {},
     "output_type": "execute_result"
    }
   ],
   "source": [
    "calc_sums.head()"
   ]
  },
  {
   "cell_type": "code",
   "execution_count": 288,
   "id": "57e2b4b6-40c4-4972-8362-8001564df959",
   "metadata": {},
   "outputs": [
    {
     "data": {
      "text/html": [
       "<div>\n",
       "<style scoped>\n",
       "    .dataframe tbody tr th:only-of-type {\n",
       "        vertical-align: middle;\n",
       "    }\n",
       "\n",
       "    .dataframe tbody tr th {\n",
       "        vertical-align: top;\n",
       "    }\n",
       "\n",
       "    .dataframe thead th {\n",
       "        text-align: right;\n",
       "    }\n",
       "</style>\n",
       "<table border=\"1\" class=\"dataframe\">\n",
       "  <thead>\n",
       "    <tr style=\"text-align: right;\">\n",
       "      <th></th>\n",
       "      <th></th>\n",
       "      <th>2022</th>\n",
       "      <th>2023</th>\n",
       "      <th>2024</th>\n",
       "    </tr>\n",
       "    <tr>\n",
       "      <th>Parti</th>\n",
       "      <th>Utgiftsområde</th>\n",
       "      <th></th>\n",
       "      <th></th>\n",
       "      <th></th>\n",
       "    </tr>\n",
       "  </thead>\n",
       "  <tbody>\n",
       "    <tr>\n",
       "      <th rowspan=\"5\" valign=\"top\">KD</th>\n",
       "      <th>1</th>\n",
       "      <td>-148.5</td>\n",
       "      <td>-192.0</td>\n",
       "      <td>-192.0</td>\n",
       "    </tr>\n",
       "    <tr>\n",
       "      <th>2</th>\n",
       "      <td>137.0</td>\n",
       "      <td>152.0</td>\n",
       "      <td>202.0</td>\n",
       "    </tr>\n",
       "    <tr>\n",
       "      <th>3</th>\n",
       "      <td>130.0</td>\n",
       "      <td>140.0</td>\n",
       "      <td>140.0</td>\n",
       "    </tr>\n",
       "    <tr>\n",
       "      <th>4</th>\n",
       "      <td>1593.0</td>\n",
       "      <td>1920.0</td>\n",
       "      <td>3575.0</td>\n",
       "    </tr>\n",
       "    <tr>\n",
       "      <th>5</th>\n",
       "      <td>-14.0</td>\n",
       "      <td>-16.0</td>\n",
       "      <td>-18.0</td>\n",
       "    </tr>\n",
       "  </tbody>\n",
       "</table>\n",
       "</div>"
      ],
      "text/plain": [
       "                       2022    2023    2024\n",
       "Parti Utgiftsområde                        \n",
       "KD    1              -148.5  -192.0  -192.0\n",
       "      2               137.0   152.0   202.0\n",
       "      3               130.0   140.0   140.0\n",
       "      4              1593.0  1920.0  3575.0\n",
       "      5               -14.0   -16.0   -18.0"
      ]
     },
     "execution_count": 288,
     "metadata": {},
     "output_type": "execute_result"
    }
   ],
   "source": [
    "sums.head()"
   ]
  },
  {
   "cell_type": "code",
   "execution_count": 289,
   "id": "6e68366b-2d85-4ccb-b4e6-690e4efb9040",
   "metadata": {},
   "outputs": [
    {
     "data": {
      "text/plain": [
       "(150, 3)"
      ]
     },
     "execution_count": 289,
     "metadata": {},
     "output_type": "execute_result"
    }
   ],
   "source": [
    "sums.shape"
   ]
  },
  {
   "cell_type": "code",
   "execution_count": 290,
   "id": "8164144e-331d-45c8-9dcb-3248982d59db",
   "metadata": {},
   "outputs": [
    {
     "data": {
      "text/plain": [
       "MultiIndex([( 'C',  7),\n",
       "            ( 'M',  5),\n",
       "            ('SD', 19)],\n",
       "           names=['Parti', 'Utgiftsområde'])"
      ]
     },
     "execution_count": 290,
     "metadata": {},
     "output_type": "execute_result"
    }
   ],
   "source": [
    "sums.index.difference(calc_sums.index)"
   ]
  },
  {
   "cell_type": "code",
   "execution_count": 291,
   "id": "8f839087-4f03-4f5a-8c2d-670e6b41966a",
   "metadata": {},
   "outputs": [],
   "source": [
    "# Drop the diffing rows\n",
    "sums = sums.drop(sums.index.difference(calc_sums.index))"
   ]
  },
  {
   "cell_type": "code",
   "execution_count": 292,
   "id": "12a6d065-e8ff-4351-a766-5caaa5d5a885",
   "metadata": {},
   "outputs": [
    {
     "data": {
      "text/html": [
       "<div>\n",
       "<style scoped>\n",
       "    .dataframe tbody tr th:only-of-type {\n",
       "        vertical-align: middle;\n",
       "    }\n",
       "\n",
       "    .dataframe tbody tr th {\n",
       "        vertical-align: top;\n",
       "    }\n",
       "\n",
       "    .dataframe thead th {\n",
       "        text-align: right;\n",
       "    }\n",
       "</style>\n",
       "<table border=\"1\" class=\"dataframe\">\n",
       "  <thead>\n",
       "    <tr style=\"text-align: right;\">\n",
       "      <th></th>\n",
       "      <th></th>\n",
       "      <th>2022_x</th>\n",
       "      <th>2022_y</th>\n",
       "    </tr>\n",
       "    <tr>\n",
       "      <th>Parti</th>\n",
       "      <th>Utgiftsområde</th>\n",
       "      <th></th>\n",
       "      <th></th>\n",
       "    </tr>\n",
       "  </thead>\n",
       "  <tbody>\n",
       "    <tr>\n",
       "      <th rowspan=\"2\" valign=\"top\">SD</th>\n",
       "      <th>12</th>\n",
       "      <td>51.0</td>\n",
       "      <td>31.0</td>\n",
       "    </tr>\n",
       "    <tr>\n",
       "      <th>14</th>\n",
       "      <td>-5320.0</td>\n",
       "      <td>-5060.0</td>\n",
       "    </tr>\n",
       "  </tbody>\n",
       "</table>\n",
       "</div>"
      ],
      "text/plain": [
       "                     2022_x  2022_y\n",
       "Parti Utgiftsområde                \n",
       "SD    12               51.0    31.0\n",
       "      14            -5320.0 -5060.0"
      ]
     },
     "execution_count": 292,
     "metadata": {},
     "output_type": "execute_result"
    }
   ],
   "source": [
    "# Rows that differ for 2022\n",
    "_ = '2022'\n",
    "calc_sums[(calc_sums[_].abs() - sums[_].abs() > 2)].merge(sums, left_index=True, right_index=True)[[f'{_}_x', f'{_}_y']]"
   ]
  },
  {
   "cell_type": "code",
   "execution_count": 293,
   "id": "3f5c7685-f8fa-4a35-bb89-5819245e9ba8",
   "metadata": {},
   "outputs": [
    {
     "data": {
      "text/html": [
       "<div>\n",
       "<style scoped>\n",
       "    .dataframe tbody tr th:only-of-type {\n",
       "        vertical-align: middle;\n",
       "    }\n",
       "\n",
       "    .dataframe tbody tr th {\n",
       "        vertical-align: top;\n",
       "    }\n",
       "\n",
       "    .dataframe thead th {\n",
       "        text-align: right;\n",
       "    }\n",
       "</style>\n",
       "<table border=\"1\" class=\"dataframe\">\n",
       "  <thead>\n",
       "    <tr style=\"text-align: right;\">\n",
       "      <th></th>\n",
       "      <th></th>\n",
       "      <th>2023_x</th>\n",
       "      <th>2023_y</th>\n",
       "    </tr>\n",
       "    <tr>\n",
       "      <th>Parti</th>\n",
       "      <th>Utgiftsområde</th>\n",
       "      <th></th>\n",
       "      <th></th>\n",
       "    </tr>\n",
       "  </thead>\n",
       "  <tbody>\n",
       "    <tr>\n",
       "      <th>L</th>\n",
       "      <th>16</th>\n",
       "      <td>4422.0</td>\n",
       "      <td>4414.0</td>\n",
       "    </tr>\n",
       "    <tr>\n",
       "      <th rowspan=\"2\" valign=\"top\">SD</th>\n",
       "      <th>8</th>\n",
       "      <td>-3101.0</td>\n",
       "      <td>-2784.0</td>\n",
       "    </tr>\n",
       "    <tr>\n",
       "      <th>14</th>\n",
       "      <td>-6860.34</td>\n",
       "      <td>-6600.0</td>\n",
       "    </tr>\n",
       "  </tbody>\n",
       "</table>\n",
       "</div>"
      ],
      "text/plain": [
       "                      2023_x  2023_y\n",
       "Parti Utgiftsområde                 \n",
       "L     16              4422.0  4414.0\n",
       "SD    8              -3101.0 -2784.0\n",
       "      14            -6860.34 -6600.0"
      ]
     },
     "execution_count": 293,
     "metadata": {},
     "output_type": "execute_result"
    }
   ],
   "source": [
    "# Rows that differ for 2023\n",
    "_ = '2023'\n",
    "calc_sums[(calc_sums[_].abs() - sums[_].abs() > 2)].merge(sums, left_index=True, right_index=True)[[f'{_}_x', f'{_}_y']]"
   ]
  },
  {
   "cell_type": "code",
   "execution_count": 296,
   "id": "c4f4126c-87b1-43d8-92c8-651b44228df6",
   "metadata": {},
   "outputs": [
    {
     "data": {
      "text/html": [
       "<div>\n",
       "<style scoped>\n",
       "    .dataframe tbody tr th:only-of-type {\n",
       "        vertical-align: middle;\n",
       "    }\n",
       "\n",
       "    .dataframe tbody tr th {\n",
       "        vertical-align: top;\n",
       "    }\n",
       "\n",
       "    .dataframe thead th {\n",
       "        text-align: right;\n",
       "    }\n",
       "</style>\n",
       "<table border=\"1\" class=\"dataframe\">\n",
       "  <thead>\n",
       "    <tr style=\"text-align: right;\">\n",
       "      <th></th>\n",
       "      <th></th>\n",
       "      <th>2024_x</th>\n",
       "      <th>2024_y</th>\n",
       "    </tr>\n",
       "    <tr>\n",
       "      <th>Parti</th>\n",
       "      <th>Utgiftsområde</th>\n",
       "      <th></th>\n",
       "      <th></th>\n",
       "    </tr>\n",
       "  </thead>\n",
       "  <tbody>\n",
       "    <tr>\n",
       "      <th rowspan=\"2\" valign=\"top\">L</th>\n",
       "      <th>9</th>\n",
       "      <td>3453.0</td>\n",
       "      <td>3450.0</td>\n",
       "    </tr>\n",
       "    <tr>\n",
       "      <th>16</th>\n",
       "      <td>1759.0</td>\n",
       "      <td>1754.0</td>\n",
       "    </tr>\n",
       "    <tr>\n",
       "      <th rowspan=\"3\" valign=\"top\">SD</th>\n",
       "      <th>8</th>\n",
       "      <td>-4327.0</td>\n",
       "      <td>-3724.0</td>\n",
       "    </tr>\n",
       "    <tr>\n",
       "      <th>12</th>\n",
       "      <td>-147.0</td>\n",
       "      <td>-57.0</td>\n",
       "    </tr>\n",
       "    <tr>\n",
       "      <th>14</th>\n",
       "      <td>-6434.31</td>\n",
       "      <td>-6174.0</td>\n",
       "    </tr>\n",
       "  </tbody>\n",
       "</table>\n",
       "</div>"
      ],
      "text/plain": [
       "                      2024_x  2024_y\n",
       "Parti Utgiftsområde                 \n",
       "L     9               3453.0  3450.0\n",
       "      16              1759.0  1754.0\n",
       "SD    8              -4327.0 -3724.0\n",
       "      12              -147.0   -57.0\n",
       "      14            -6434.31 -6174.0"
      ]
     },
     "execution_count": 296,
     "metadata": {},
     "output_type": "execute_result"
    }
   ],
   "source": [
    "# Rows that differ for 2024\n",
    "_ = '2024'\n",
    "calc_sums[(calc_sums[_].abs() - sums[_].abs() > 2)].merge(sums, left_index=True, right_index=True)[[f'{_}_x', f'{_}_y']]"
   ]
  },
  {
   "cell_type": "code",
   "execution_count": 297,
   "id": "d692b39a-acda-4104-856f-07d2fcf84a88",
   "metadata": {},
   "outputs": [],
   "source": [
    "piv = df.drop(['2023', '2024', 'Namn'], axis=1)"
   ]
  },
  {
   "cell_type": "code",
   "execution_count": 298,
   "id": "4d71aabe-6a9e-480e-84dc-ba21c10eb4be",
   "metadata": {},
   "outputs": [],
   "source": [
    "piv = piv[~piv.Anslag.str.startswith('99', na=False)]"
   ]
  },
  {
   "cell_type": "code",
   "execution_count": 299,
   "id": "bf706dcb-655f-4de2-a65d-6dad1df31bb5",
   "metadata": {},
   "outputs": [],
   "source": [
    "piv['2022'] = piv['2022'].astype(float) / 1_000_000"
   ]
  },
  {
   "cell_type": "code",
   "execution_count": 300,
   "id": "5e034927-edad-4e59-a852-d8955ea10463",
   "metadata": {},
   "outputs": [],
   "source": [
    "piv = piv.pivot_table(index=['Utgiftsområde', 'Anslag'], columns='Parti', values='2022')"
   ]
  },
  {
   "cell_type": "code",
   "execution_count": 301,
   "id": "98f5c187-6a74-46bd-84f7-ebf25a591ae0",
   "metadata": {},
   "outputs": [],
   "source": [
    "piv = piv.fillna(0)"
   ]
  },
  {
   "cell_type": "code",
   "execution_count": 302,
   "id": "2aa50ad8-7b92-4f35-8973-1af21759c3b6",
   "metadata": {},
   "outputs": [
    {
     "data": {
      "text/html": [
       "<div>\n",
       "<style scoped>\n",
       "    .dataframe tbody tr th:only-of-type {\n",
       "        vertical-align: middle;\n",
       "    }\n",
       "\n",
       "    .dataframe tbody tr th {\n",
       "        vertical-align: top;\n",
       "    }\n",
       "\n",
       "    .dataframe thead th {\n",
       "        text-align: right;\n",
       "    }\n",
       "</style>\n",
       "<table border=\"1\" class=\"dataframe\">\n",
       "  <thead>\n",
       "    <tr style=\"text-align: right;\">\n",
       "      <th></th>\n",
       "      <th>Parti</th>\n",
       "      <th>C</th>\n",
       "      <th>KD</th>\n",
       "      <th>L</th>\n",
       "      <th>M</th>\n",
       "      <th>SD</th>\n",
       "      <th>V</th>\n",
       "    </tr>\n",
       "    <tr>\n",
       "      <th>Utgiftsområde</th>\n",
       "      <th>Anslag</th>\n",
       "      <th></th>\n",
       "      <th></th>\n",
       "      <th></th>\n",
       "      <th></th>\n",
       "      <th></th>\n",
       "      <th></th>\n",
       "    </tr>\n",
       "  </thead>\n",
       "  <tbody>\n",
       "    <tr>\n",
       "      <th rowspan=\"5\" valign=\"top\">1</th>\n",
       "      <th>1:1</th>\n",
       "      <td>0.0</td>\n",
       "      <td>0.0</td>\n",
       "      <td>0.0</td>\n",
       "      <td>0.0</td>\n",
       "      <td>3.0</td>\n",
       "      <td>-15.0</td>\n",
       "    </tr>\n",
       "    <tr>\n",
       "      <th>2:1</th>\n",
       "      <td>0.0</td>\n",
       "      <td>0.0</td>\n",
       "      <td>-1.0</td>\n",
       "      <td>0.0</td>\n",
       "      <td>0.0</td>\n",
       "      <td>-131.0</td>\n",
       "    </tr>\n",
       "    <tr>\n",
       "      <th>2:2</th>\n",
       "      <td>0.0</td>\n",
       "      <td>0.0</td>\n",
       "      <td>-2.0</td>\n",
       "      <td>10.0</td>\n",
       "      <td>10.0</td>\n",
       "      <td>0.0</td>\n",
       "    </tr>\n",
       "    <tr>\n",
       "      <th>2:3</th>\n",
       "      <td>0.0</td>\n",
       "      <td>0.0</td>\n",
       "      <td>0.0</td>\n",
       "      <td>0.0</td>\n",
       "      <td>0.0</td>\n",
       "      <td>0.0</td>\n",
       "    </tr>\n",
       "    <tr>\n",
       "      <th>2:4</th>\n",
       "      <td>0.0</td>\n",
       "      <td>0.0</td>\n",
       "      <td>5.0</td>\n",
       "      <td>0.0</td>\n",
       "      <td>0.0</td>\n",
       "      <td>0.0</td>\n",
       "    </tr>\n",
       "    <tr>\n",
       "      <th>...</th>\n",
       "      <th>...</th>\n",
       "      <td>...</td>\n",
       "      <td>...</td>\n",
       "      <td>...</td>\n",
       "      <td>...</td>\n",
       "      <td>...</td>\n",
       "      <td>...</td>\n",
       "    </tr>\n",
       "    <tr>\n",
       "      <th rowspan=\"5\" valign=\"top\">25</th>\n",
       "      <th>1:1</th>\n",
       "      <td>379.0</td>\n",
       "      <td>4824.0</td>\n",
       "      <td>1166.0</td>\n",
       "      <td>5649.0</td>\n",
       "      <td>3000.0</td>\n",
       "      <td>21771.0</td>\n",
       "    </tr>\n",
       "    <tr>\n",
       "      <th>1:2</th>\n",
       "      <td>0.0</td>\n",
       "      <td>0.0</td>\n",
       "      <td>0.0</td>\n",
       "      <td>0.0</td>\n",
       "      <td>0.0</td>\n",
       "      <td>0.0</td>\n",
       "    </tr>\n",
       "    <tr>\n",
       "      <th>1:3</th>\n",
       "      <td>0.0</td>\n",
       "      <td>0.0</td>\n",
       "      <td>0.0</td>\n",
       "      <td>0.0</td>\n",
       "      <td>0.0</td>\n",
       "      <td>0.0</td>\n",
       "    </tr>\n",
       "    <tr>\n",
       "      <th>1:4</th>\n",
       "      <td>0.0</td>\n",
       "      <td>0.0</td>\n",
       "      <td>0.0</td>\n",
       "      <td>0.0</td>\n",
       "      <td>0.0</td>\n",
       "      <td>0.0</td>\n",
       "    </tr>\n",
       "    <tr>\n",
       "      <th>1:5</th>\n",
       "      <td>0.0</td>\n",
       "      <td>0.0</td>\n",
       "      <td>0.0</td>\n",
       "      <td>0.0</td>\n",
       "      <td>0.0</td>\n",
       "      <td>0.0</td>\n",
       "    </tr>\n",
       "  </tbody>\n",
       "</table>\n",
       "<p>492 rows × 6 columns</p>\n",
       "</div>"
      ],
      "text/plain": [
       "Parti                     C      KD       L       M      SD        V\n",
       "Utgiftsområde Anslag                                                \n",
       "1             1:1       0.0     0.0     0.0     0.0     3.0    -15.0\n",
       "              2:1       0.0     0.0    -1.0     0.0     0.0   -131.0\n",
       "              2:2       0.0     0.0    -2.0    10.0    10.0      0.0\n",
       "              2:3       0.0     0.0     0.0     0.0     0.0      0.0\n",
       "              2:4       0.0     0.0     5.0     0.0     0.0      0.0\n",
       "...                     ...     ...     ...     ...     ...      ...\n",
       "25            1:1     379.0  4824.0  1166.0  5649.0  3000.0  21771.0\n",
       "              1:2       0.0     0.0     0.0     0.0     0.0      0.0\n",
       "              1:3       0.0     0.0     0.0     0.0     0.0      0.0\n",
       "              1:4       0.0     0.0     0.0     0.0     0.0      0.0\n",
       "              1:5       0.0     0.0     0.0     0.0     0.0      0.0\n",
       "\n",
       "[492 rows x 6 columns]"
      ]
     },
     "execution_count": 302,
     "metadata": {},
     "output_type": "execute_result"
    }
   ],
   "source": [
    "piv"
   ]
  },
  {
   "cell_type": "code",
   "execution_count": 303,
   "id": "b5b254c3-92f6-44a5-bbe8-2ad206718273",
   "metadata": {},
   "outputs": [
    {
     "data": {
      "text/plain": [
       "<AxesSubplot:ylabel='Parti'>"
      ]
     },
     "execution_count": 303,
     "metadata": {},
     "output_type": "execute_result"
    },
    {
     "data": {
      "image/png": "[encoded data removed]",
      "text/plain": [
       "<Figure size 432x288 with 1 Axes>"
      ]
     },
     "metadata": {
      "image/png": {
       "height": 248,
       "width": 393
      },
      "needs_background": "light"
     },
     "output_type": "display_data"
    }
   ],
   "source": [
    "((piv.apply(lambda x: x == 0, axis=1).sum().sort_values() + 2) / 492 * 100).plot.barh(xlim=(0, 100), grid=True)"
   ]
  },
  {
   "cell_type": "code",
   "execution_count": 304,
   "id": "4204ebb8-5f16-4a61-8339-22f0a3ab9932",
   "metadata": {},
   "outputs": [
    {
     "data": {
      "text/plain": [
       "SD    52\n",
       "KD    30\n",
       "V     23\n",
       "C      5\n",
       "L      5\n",
       "M      4\n",
       "Name: Parti, dtype: int64"
      ]
     },
     "execution_count": 304,
     "metadata": {},
     "output_type": "execute_result"
    }
   ],
   "source": [
    "df[df.Anslag.str.startswith('99', na=False)].Parti.value_counts()"
   ]
  },
  {
   "cell_type": "code",
   "execution_count": null,
   "id": "bea66f22-f8a1-402c-8c43-4be7b4bfda95",
   "metadata": {},
   "outputs": [],
   "source": []
  },
  {
   "cell_type": "code",
   "execution_count": null,
   "id": "2c94a11a-da4c-4129-a7ed-af038874cbe8",
   "metadata": {},
   "outputs": [],
   "source": []
  },
  {
   "cell_type": "code",
   "execution_count": 252,
   "id": "2c694960-5f25-4d41-9f75-e19333b60159",
   "metadata": {},
   "outputs": [],
   "source": [
    "name_map = df[['Utgiftsområde', 'Anslag', 'Namn']].drop_duplicates(subset=['Utgiftsområde', 'Anslag'])"
   ]
  },
  {
   "cell_type": "code",
   "execution_count": 254,
   "id": "1bbe18e5-5486-45f5-9112-9a729133facc",
   "metadata": {},
   "outputs": [],
   "source": [
    "df = (df\n",
    "    .pivot_table(index=['Anslag', 'Utgiftsområde'],\n",
    "                 columns=['Parti'],\n",
    "                 values='2022')\n",
    "    .reset_index())"
   ]
  },
  {
   "cell_type": "code",
   "execution_count": 256,
   "id": "c93d43fc-a5a4-4b30-bec0-97f677f14768",
   "metadata": {},
   "outputs": [],
   "source": [
    "df = df.fillna(0)"
   ]
  },
  {
   "cell_type": "code",
   "execution_count": 209,
   "id": "972a204d-fa02-46af-bc47-bcae2b9c75b5",
   "metadata": {},
   "outputs": [],
   "source": [
    "gov = pd.read_csv('../data/budgetproposition-2022-regering.csv', dtype=str)"
   ]
  },
  {
   "cell_type": "code",
   "execution_count": 226,
   "id": "51e1f83a-2f2c-4bbb-a4fe-4d4984d59c30",
   "metadata": {},
   "outputs": [
    {
     "data": {
      "text/html": [
       "<div>\n",
       "<style scoped>\n",
       "    .dataframe tbody tr th:only-of-type {\n",
       "        vertical-align: middle;\n",
       "    }\n",
       "\n",
       "    .dataframe tbody tr th {\n",
       "        vertical-align: top;\n",
       "    }\n",
       "\n",
       "    .dataframe thead th {\n",
       "        text-align: right;\n",
       "    }\n",
       "</style>\n",
       "<table border=\"1\" class=\"dataframe\">\n",
       "  <thead>\n",
       "    <tr style=\"text-align: right;\">\n",
       "      <th></th>\n",
       "      <th>Utgiftsområde</th>\n",
       "      <th>Underområde</th>\n",
       "      <th>Anslag</th>\n",
       "      <th>Namn</th>\n",
       "      <th>2022</th>\n",
       "    </tr>\n",
       "  </thead>\n",
       "  <tbody>\n",
       "    <tr>\n",
       "      <th>2</th>\n",
       "      <td>1</td>\n",
       "      <td>1</td>\n",
       "      <td>1</td>\n",
       "      <td>Kungliga hov- och slottsstaten</td>\n",
       "      <td>149157000</td>\n",
       "    </tr>\n",
       "    <tr>\n",
       "      <th>4</th>\n",
       "      <td>1</td>\n",
       "      <td>2</td>\n",
       "      <td>1</td>\n",
       "      <td>Riksdagens ledamöter och partier m.m.</td>\n",
       "      <td>981205000</td>\n",
       "    </tr>\n",
       "    <tr>\n",
       "      <th>5</th>\n",
       "      <td>1</td>\n",
       "      <td>2</td>\n",
       "      <td>2</td>\n",
       "      <td>Riksdagens förvaltningsanslag</td>\n",
       "      <td>984675000</td>\n",
       "    </tr>\n",
       "    <tr>\n",
       "      <th>6</th>\n",
       "      <td>1</td>\n",
       "      <td>2</td>\n",
       "      <td>3</td>\n",
       "      <td>Riksdagens fastighetsanslag</td>\n",
       "      <td>120000000</td>\n",
       "    </tr>\n",
       "    <tr>\n",
       "      <th>7</th>\n",
       "      <td>1</td>\n",
       "      <td>2</td>\n",
       "      <td>4</td>\n",
       "      <td>Riksdagens ombudsmän (JO)</td>\n",
       "      <td>123577000</td>\n",
       "    </tr>\n",
       "    <tr>\n",
       "      <th>...</th>\n",
       "      <td>...</td>\n",
       "      <td>...</td>\n",
       "      <td>...</td>\n",
       "      <td>...</td>\n",
       "      <td>...</td>\n",
       "    </tr>\n",
       "    <tr>\n",
       "      <th>570</th>\n",
       "      <td>25</td>\n",
       "      <td>1</td>\n",
       "      <td>1</td>\n",
       "      <td>Kommunalekonomisk utjämning</td>\n",
       "      <td>147046689000</td>\n",
       "    </tr>\n",
       "    <tr>\n",
       "      <th>571</th>\n",
       "      <td>25</td>\n",
       "      <td>1</td>\n",
       "      <td>2</td>\n",
       "      <td>Utjämningsbidrag för LSS-kostnader</td>\n",
       "      <td>4718355000</td>\n",
       "    </tr>\n",
       "    <tr>\n",
       "      <th>572</th>\n",
       "      <td>25</td>\n",
       "      <td>1</td>\n",
       "      <td>3</td>\n",
       "      <td>Bidrag till kommunalekonomiska organisationer</td>\n",
       "      <td>7150000</td>\n",
       "    </tr>\n",
       "    <tr>\n",
       "      <th>573</th>\n",
       "      <td>25</td>\n",
       "      <td>1</td>\n",
       "      <td>4</td>\n",
       "      <td>Tillfälligt stöd till enskilda kommuner och re...</td>\n",
       "      <td>250000000</td>\n",
       "    </tr>\n",
       "    <tr>\n",
       "      <th>574</th>\n",
       "      <td>25</td>\n",
       "      <td>1</td>\n",
       "      <td>5</td>\n",
       "      <td>Medel till befolkningsmässigt mindre kommuner</td>\n",
       "      <td>300000000</td>\n",
       "    </tr>\n",
       "  </tbody>\n",
       "</table>\n",
       "<p>494 rows × 5 columns</p>\n",
       "</div>"
      ],
      "text/plain": [
       "    Utgiftsområde Underområde Anslag  \\\n",
       "2               1           1      1   \n",
       "4               1           2      1   \n",
       "5               1           2      2   \n",
       "6               1           2      3   \n",
       "7               1           2      4   \n",
       "..            ...         ...    ...   \n",
       "570            25           1      1   \n",
       "571            25           1      2   \n",
       "572            25           1      3   \n",
       "573            25           1      4   \n",
       "574            25           1      5   \n",
       "\n",
       "                                                  Namn          2022  \n",
       "2                       Kungliga hov- och slottsstaten     149157000  \n",
       "4                Riksdagens ledamöter och partier m.m.     981205000  \n",
       "5                        Riksdagens förvaltningsanslag     984675000  \n",
       "6                          Riksdagens fastighetsanslag     120000000  \n",
       "7                            Riksdagens ombudsmän (JO)     123577000  \n",
       "..                                                 ...           ...  \n",
       "570                        Kommunalekonomisk utjämning  147046689000  \n",
       "571                 Utjämningsbidrag för LSS-kostnader    4718355000  \n",
       "572      Bidrag till kommunalekonomiska organisationer       7150000  \n",
       "573  Tillfälligt stöd till enskilda kommuner och re...     250000000  \n",
       "574      Medel till befolkningsmässigt mindre kommuner     300000000  \n",
       "\n",
       "[494 rows x 5 columns]"
      ]
     },
     "execution_count": 226,
     "metadata": {},
     "output_type": "execute_result"
    }
   ],
   "source": [
    "gov[gov.Utgiftsområde.astype(int) < 26].dropna(subset=['Anslag', 'Underområde'], how='any')"
   ]
  },
  {
   "cell_type": "code",
   "execution_count": 227,
   "id": "c2a9e976-9d3f-4600-9838-07b60689b500",
   "metadata": {},
   "outputs": [],
   "source": [
    "gov['Anslag'] = gov['Underområde'] + ':' + gov['Anslag']"
   ]
  },
  {
   "cell_type": "code",
   "execution_count": 230,
   "id": "fd3b78d0-b53b-446a-8926-a15e89e57ca9",
   "metadata": {},
   "outputs": [
    {
     "data": {
      "text/html": [
       "<div>\n",
       "<style scoped>\n",
       "    .dataframe tbody tr th:only-of-type {\n",
       "        vertical-align: middle;\n",
       "    }\n",
       "\n",
       "    .dataframe tbody tr th {\n",
       "        vertical-align: top;\n",
       "    }\n",
       "\n",
       "    .dataframe thead th {\n",
       "        text-align: right;\n",
       "    }\n",
       "</style>\n",
       "<table border=\"1\" class=\"dataframe\">\n",
       "  <thead>\n",
       "    <tr style=\"text-align: right;\">\n",
       "      <th></th>\n",
       "      <th>Utgiftsområde</th>\n",
       "      <th>Underområde</th>\n",
       "      <th>Anslag</th>\n",
       "      <th>Namn</th>\n",
       "      <th>2022</th>\n",
       "    </tr>\n",
       "  </thead>\n",
       "  <tbody>\n",
       "  </tbody>\n",
       "</table>\n",
       "</div>"
      ],
      "text/plain": [
       "Empty DataFrame\n",
       "Columns: [Utgiftsområde, Underområde, Anslag, Namn, 2022]\n",
       "Index: []"
      ]
     },
     "execution_count": 230,
     "metadata": {},
     "output_type": "execute_result"
    }
   ],
   "source": [
    "gov[~gov.Anslag.isin(df.Anslag)]"
   ]
  },
  {
   "cell_type": "code",
   "execution_count": 231,
   "id": "0e4f711a-3f03-469f-8bdc-8d76140b3917",
   "metadata": {},
   "outputs": [
    {
     "data": {
      "text/plain": [
       "(157,)"
      ]
     },
     "execution_count": 231,
     "metadata": {},
     "output_type": "execute_result"
    }
   ],
   "source": [
    "gov.Anslag.unique().shape"
   ]
  },
  {
   "cell_type": "code",
   "execution_count": 233,
   "id": "a9e5f4b4-0bce-4cae-95c5-69bf3ae25625",
   "metadata": {},
   "outputs": [],
   "source": [
    "gov['Kod'] = gov['Utgiftsområde'] + ':' + gov.Anslag"
   ]
  },
  {
   "cell_type": "code",
   "execution_count": 237,
   "id": "54a0b69d-8fb0-412b-b0b6-c3646a3f041a",
   "metadata": {},
   "outputs": [],
   "source": [
    "df['Kod'] = df['Utgiftsområde'].astype(str) + ':' + df.Anslag"
   ]
  },
  {
   "cell_type": "code",
   "execution_count": 239,
   "id": "ea9be7f3-d7a8-4128-9879-fd0a9ed08c55",
   "metadata": {},
   "outputs": [
    {
     "data": {
      "text/html": [
       "<div>\n",
       "<style scoped>\n",
       "    .dataframe tbody tr th:only-of-type {\n",
       "        vertical-align: middle;\n",
       "    }\n",
       "\n",
       "    .dataframe tbody tr th {\n",
       "        vertical-align: top;\n",
       "    }\n",
       "\n",
       "    .dataframe thead th {\n",
       "        text-align: right;\n",
       "    }\n",
       "</style>\n",
       "<table border=\"1\" class=\"dataframe\">\n",
       "  <thead>\n",
       "    <tr style=\"text-align: right;\">\n",
       "      <th></th>\n",
       "      <th>Utgiftsområde</th>\n",
       "      <th>Underområde</th>\n",
       "      <th>Anslag</th>\n",
       "      <th>Namn</th>\n",
       "      <th>2022</th>\n",
       "      <th>Kod</th>\n",
       "    </tr>\n",
       "  </thead>\n",
       "  <tbody>\n",
       "    <tr>\n",
       "      <th>200</th>\n",
       "      <td>13</td>\n",
       "      <td>2</td>\n",
       "      <td>2:2</td>\n",
       "      <td>Åtgärder mot diskriminering och rasism m.m.</td>\n",
       "      <td>100919000</td>\n",
       "      <td>13:2:2</td>\n",
       "    </tr>\n",
       "    <tr>\n",
       "      <th>204</th>\n",
       "      <td>13</td>\n",
       "      <td>3</td>\n",
       "      <td>3:3</td>\n",
       "      <td>Bidrag för kvinnors organisering</td>\n",
       "      <td>28163000</td>\n",
       "      <td>13:3:3</td>\n",
       "    </tr>\n",
       "    <tr>\n",
       "      <th>576</th>\n",
       "      <td>26</td>\n",
       "      <td>1</td>\n",
       "      <td>1:1</td>\n",
       "      <td>Räntor på statsskulden</td>\n",
       "      <td>12000000000</td>\n",
       "      <td>26:1:1</td>\n",
       "    </tr>\n",
       "    <tr>\n",
       "      <th>577</th>\n",
       "      <td>26</td>\n",
       "      <td>1</td>\n",
       "      <td>1:2</td>\n",
       "      <td>Oförutsedda utgifter</td>\n",
       "      <td>10000000</td>\n",
       "      <td>26:1:2</td>\n",
       "    </tr>\n",
       "    <tr>\n",
       "      <th>578</th>\n",
       "      <td>26</td>\n",
       "      <td>1</td>\n",
       "      <td>1:3</td>\n",
       "      <td>Riksgäldskontorets provisionsutgifter</td>\n",
       "      <td>145200000</td>\n",
       "      <td>26:1:3</td>\n",
       "    </tr>\n",
       "    <tr>\n",
       "      <th>580</th>\n",
       "      <td>27</td>\n",
       "      <td>1</td>\n",
       "      <td>1:1</td>\n",
       "      <td>Avgiften till Europeiska unionen</td>\n",
       "      <td>47836848000</td>\n",
       "      <td>27:1:1</td>\n",
       "    </tr>\n",
       "  </tbody>\n",
       "</table>\n",
       "</div>"
      ],
      "text/plain": [
       "    Utgiftsområde Underområde Anslag  \\\n",
       "200            13           2    2:2   \n",
       "204            13           3    3:3   \n",
       "576            26           1    1:1   \n",
       "577            26           1    1:2   \n",
       "578            26           1    1:3   \n",
       "580            27           1    1:1   \n",
       "\n",
       "                                            Namn         2022     Kod  \n",
       "200  Åtgärder mot diskriminering och rasism m.m.    100919000  13:2:2  \n",
       "204             Bidrag för kvinnors organisering     28163000  13:3:3  \n",
       "576                       Räntor på statsskulden  12000000000  26:1:1  \n",
       "577                         Oförutsedda utgifter     10000000  26:1:2  \n",
       "578        Riksgäldskontorets provisionsutgifter    145200000  26:1:3  \n",
       "580             Avgiften till Europeiska unionen  47836848000  27:1:1  "
      ]
     },
     "execution_count": 239,
     "metadata": {},
     "output_type": "execute_result"
    }
   ],
   "source": [
    "gov[~gov.Kod.isin(df.Kod)]"
   ]
  },
  {
   "cell_type": "code",
   "execution_count": null,
   "id": "7563a626-d2d2-4707-a850-95fde3c71d25",
   "metadata": {},
   "outputs": [],
   "source": []
  },
  {
   "cell_type": "code",
   "execution_count": 259,
   "id": "713fcb9f-2bf6-482c-a929-862942715a7b",
   "metadata": {},
   "outputs": [],
   "source": [
    "gov = gov.rename(columns={'2022': 'Regeringen'})"
   ]
  },
  {
   "cell_type": "code",
   "execution_count": 260,
   "id": "e45f549f-2629-479b-8027-ab8d02018bd3",
   "metadata": {},
   "outputs": [],
   "source": [
    "gov = gov.dropna(subset=['Anslag'])"
   ]
  },
  {
   "cell_type": "code",
   "execution_count": 262,
   "id": "11ea30f0-4b2a-4f33-97eb-f6bea302d9b1",
   "metadata": {},
   "outputs": [],
   "source": [
    "df = df.merge(gov[['Anslag', 'Utgiftsområde', 'Regeringen', 'Namn']], on=['Utgiftsområde', 'Anslag'], how='left')"
   ]
  },
  {
   "cell_type": "code",
   "execution_count": 263,
   "id": "c95801ca-2ae5-46d4-b415-aa9bf6011496",
   "metadata": {},
   "outputs": [],
   "source": [
    "df = df[['Utgiftsområde', 'Anslag', 'Namn', 'Regeringen', 'C', 'KD', 'L', 'M', 'SD', 'V']]"
   ]
  },
  {
   "cell_type": "code",
   "execution_count": 264,
   "id": "b9698ec9-c733-4d34-961a-e7acaa9a85ff",
   "metadata": {},
   "outputs": [],
   "source": [
    "df = df.fillna(0)"
   ]
  },
  {
   "cell_type": "code",
   "execution_count": 265,
   "id": "bf3676c5-3330-4498-9f6f-dc09e2775bf3",
   "metadata": {},
   "outputs": [],
   "source": [
    "df.Regeringen = df.Regeringen.astype(float)"
   ]
  },
  {
   "cell_type": "code",
   "execution_count": 266,
   "id": "7bcfb985-6748-4ddd-b0f2-a8cde7446e5e",
   "metadata": {},
   "outputs": [
    {
     "data": {
      "text/plain": [
       "(563, 10)"
      ]
     },
     "execution_count": 266,
     "metadata": {},
     "output_type": "execute_result"
    }
   ],
   "source": [
    "df.shape"
   ]
  },
  {
   "cell_type": "code",
   "execution_count": 267,
   "id": "c8305343-0dbf-48af-b01f-594c804943d9",
   "metadata": {},
   "outputs": [
    {
     "name": "stdout",
     "output_type": "stream",
     "text": [
      "V\n"
     ]
    }
   ],
   "source": [
    "for col in ['C', 'KD', 'L', 'M', 'SD', 'V']:\n",
    "    if not df[(df[col].abs() > df.Regeringen) & (df[col] < 0)].empty:\n",
    "        print(col)"
   ]
  },
  {
   "cell_type": "code",
   "execution_count": 268,
   "id": "f9c8b605-9234-4a14-87b3-25598d172017",
   "metadata": {},
   "outputs": [
    {
     "data": {
      "text/html": [
       "<div>\n",
       "<style scoped>\n",
       "    .dataframe tbody tr th:only-of-type {\n",
       "        vertical-align: middle;\n",
       "    }\n",
       "\n",
       "    .dataframe tbody tr th {\n",
       "        vertical-align: top;\n",
       "    }\n",
       "\n",
       "    .dataframe thead th {\n",
       "        text-align: right;\n",
       "    }\n",
       "</style>\n",
       "<table border=\"1\" class=\"dataframe\">\n",
       "  <thead>\n",
       "    <tr style=\"text-align: right;\">\n",
       "      <th></th>\n",
       "      <th>Utgiftsområde</th>\n",
       "      <th>Anslag</th>\n",
       "      <th>Namn</th>\n",
       "      <th>Regeringen</th>\n",
       "      <th>C</th>\n",
       "      <th>KD</th>\n",
       "      <th>L</th>\n",
       "      <th>M</th>\n",
       "      <th>SD</th>\n",
       "      <th>V</th>\n",
       "    </tr>\n",
       "  </thead>\n",
       "  <tbody>\n",
       "    <tr>\n",
       "      <th>253</th>\n",
       "      <td>10</td>\n",
       "      <td>1:7</td>\n",
       "      <td>Ersättning för höga sjuklönekostnader</td>\n",
       "      <td>282000000.0</td>\n",
       "      <td>0.0</td>\n",
       "      <td>0.0</td>\n",
       "      <td>0.0</td>\n",
       "      <td>0.0</td>\n",
       "      <td>0.0</td>\n",
       "      <td>-400000000.0</td>\n",
       "    </tr>\n",
       "  </tbody>\n",
       "</table>\n",
       "</div>"
      ],
      "text/plain": [
       "    Utgiftsområde Anslag                                   Namn   Regeringen  \\\n",
       "253            10    1:7  Ersättning för höga sjuklönekostnader  282000000.0   \n",
       "\n",
       "       C   KD    L    M   SD            V  \n",
       "253  0.0  0.0  0.0  0.0  0.0 -400000000.0  "
      ]
     },
     "execution_count": 268,
     "metadata": {},
     "output_type": "execute_result"
    }
   ],
   "source": [
    "df[(df['V'].abs() > df.Regeringen) & (df['V'] < 0)]"
   ]
  },
  {
   "cell_type": "code",
   "execution_count": 269,
   "id": "9bafb721-d827-42c2-b7f4-ba4d04fb129d",
   "metadata": {},
   "outputs": [],
   "source": [
    "df.to_csv('../data/budgetmotion-2022-main.csv', index=False)"
   ]
  },
  {
   "cell_type": "code",
   "execution_count": 270,
   "id": "3209d8db-07b8-42b5-952e-7ed8d7775833",
   "metadata": {},
   "outputs": [],
   "source": [
    "for col in ['C', 'KD', 'L', 'M', 'SD', 'V']:\n",
    "    df[col] = df[col].astype(int) / 1_000_000"
   ]
  },
  {
   "cell_type": "code",
   "execution_count": 271,
   "id": "faad2684-651b-4fb3-8873-9a084c2f0062",
   "metadata": {},
   "outputs": [],
   "source": [
    "for col in ['Regeringen']:\n",
    "    df[col] = df[col].astype(float) / 1_000_000"
   ]
  },
  {
   "cell_type": "code",
   "execution_count": 272,
   "id": "24b37881-758b-495b-9339-d1db934f73f0",
   "metadata": {},
   "outputs": [],
   "source": [
    "for col in ['C', 'KD', 'L', 'M', 'SD', 'V']:\n",
    "    df[f'{col}_prc'] = df[col] / df['Regeringen']"
   ]
  },
  {
   "cell_type": "code",
   "execution_count": 278,
   "id": "d88b0002-6529-4edb-a0e3-a645dd3ef84a",
   "metadata": {},
   "outputs": [
    {
     "data": {
      "text/html": [
       "<div>\n",
       "<style scoped>\n",
       "    .dataframe tbody tr th:only-of-type {\n",
       "        vertical-align: middle;\n",
       "    }\n",
       "\n",
       "    .dataframe tbody tr th {\n",
       "        vertical-align: top;\n",
       "    }\n",
       "\n",
       "    .dataframe thead th {\n",
       "        text-align: right;\n",
       "    }\n",
       "</style>\n",
       "<table border=\"1\" class=\"dataframe\">\n",
       "  <thead>\n",
       "    <tr style=\"text-align: right;\">\n",
       "      <th></th>\n",
       "      <th>Utgiftsområde</th>\n",
       "      <th>Anslag</th>\n",
       "      <th>Namn</th>\n",
       "      <th>Regeringen</th>\n",
       "      <th>C</th>\n",
       "      <th>KD</th>\n",
       "      <th>L</th>\n",
       "      <th>M</th>\n",
       "      <th>SD</th>\n",
       "      <th>V</th>\n",
       "      <th>C_prc</th>\n",
       "      <th>KD_prc</th>\n",
       "      <th>L_prc</th>\n",
       "      <th>M_prc</th>\n",
       "      <th>SD_prc</th>\n",
       "      <th>V_prc</th>\n",
       "    </tr>\n",
       "  </thead>\n",
       "  <tbody>\n",
       "    <tr>\n",
       "      <th>0</th>\n",
       "      <td>17</td>\n",
       "      <td>10:1</td>\n",
       "      <td>Filmstöd</td>\n",
       "      <td>608.444</td>\n",
       "      <td>0.0</td>\n",
       "      <td>-155.0</td>\n",
       "      <td>0.0</td>\n",
       "      <td>0.0</td>\n",
       "      <td>-155.0</td>\n",
       "      <td>10.0</td>\n",
       "      <td>0.0</td>\n",
       "      <td>-0.254748</td>\n",
       "      <td>0.0</td>\n",
       "      <td>0.0</td>\n",
       "      <td>-0.254748</td>\n",
       "      <td>0.016435</td>\n",
       "    </tr>\n",
       "    <tr>\n",
       "      <th>1</th>\n",
       "      <td>17</td>\n",
       "      <td>11:1</td>\n",
       "      <td>Sändningar av TV Finland</td>\n",
       "      <td>9.721</td>\n",
       "      <td>0.0</td>\n",
       "      <td>0.0</td>\n",
       "      <td>0.0</td>\n",
       "      <td>0.0</td>\n",
       "      <td>0.0</td>\n",
       "      <td>0.0</td>\n",
       "      <td>0.0</td>\n",
       "      <td>0.000000</td>\n",
       "      <td>0.0</td>\n",
       "      <td>0.0</td>\n",
       "      <td>0.000000</td>\n",
       "      <td>0.000000</td>\n",
       "    </tr>\n",
       "    <tr>\n",
       "      <th>2</th>\n",
       "      <td>17</td>\n",
       "      <td>11:2</td>\n",
       "      <td>Forskning och dokumentation om medieutvecklingen</td>\n",
       "      <td>3.471</td>\n",
       "      <td>0.0</td>\n",
       "      <td>0.0</td>\n",
       "      <td>0.0</td>\n",
       "      <td>0.0</td>\n",
       "      <td>0.0</td>\n",
       "      <td>0.0</td>\n",
       "      <td>0.0</td>\n",
       "      <td>0.000000</td>\n",
       "      <td>0.0</td>\n",
       "      <td>0.0</td>\n",
       "      <td>0.000000</td>\n",
       "      <td>0.000000</td>\n",
       "    </tr>\n",
       "    <tr>\n",
       "      <th>3</th>\n",
       "      <td>17</td>\n",
       "      <td>11:3</td>\n",
       "      <td>Avgift till europeiska audiovisuella observato...</td>\n",
       "      <td>0.483</td>\n",
       "      <td>0.0</td>\n",
       "      <td>0.0</td>\n",
       "      <td>0.0</td>\n",
       "      <td>0.0</td>\n",
       "      <td>0.0</td>\n",
       "      <td>0.0</td>\n",
       "      <td>0.0</td>\n",
       "      <td>0.000000</td>\n",
       "      <td>0.0</td>\n",
       "      <td>0.0</td>\n",
       "      <td>0.000000</td>\n",
       "      <td>0.000000</td>\n",
       "    </tr>\n",
       "    <tr>\n",
       "      <th>4</th>\n",
       "      <td>17</td>\n",
       "      <td>11:4</td>\n",
       "      <td>Statens medieråd</td>\n",
       "      <td>24.144</td>\n",
       "      <td>0.0</td>\n",
       "      <td>0.0</td>\n",
       "      <td>0.0</td>\n",
       "      <td>0.0</td>\n",
       "      <td>-15.0</td>\n",
       "      <td>0.0</td>\n",
       "      <td>0.0</td>\n",
       "      <td>0.000000</td>\n",
       "      <td>0.0</td>\n",
       "      <td>0.0</td>\n",
       "      <td>-0.621272</td>\n",
       "      <td>0.000000</td>\n",
       "    </tr>\n",
       "    <tr>\n",
       "      <th>...</th>\n",
       "      <td>...</td>\n",
       "      <td>...</td>\n",
       "      <td>...</td>\n",
       "      <td>...</td>\n",
       "      <td>...</td>\n",
       "      <td>...</td>\n",
       "      <td>...</td>\n",
       "      <td>...</td>\n",
       "      <td>...</td>\n",
       "      <td>...</td>\n",
       "      <td>...</td>\n",
       "      <td>...</td>\n",
       "      <td>...</td>\n",
       "      <td>...</td>\n",
       "      <td>...</td>\n",
       "      <td>...</td>\n",
       "    </tr>\n",
       "    <tr>\n",
       "      <th>558</th>\n",
       "      <td>17</td>\n",
       "      <td>99:9</td>\n",
       "      <td>0</td>\n",
       "      <td>0.000</td>\n",
       "      <td>0.0</td>\n",
       "      <td>0.0</td>\n",
       "      <td>0.0</td>\n",
       "      <td>0.0</td>\n",
       "      <td>300.0</td>\n",
       "      <td>0.0</td>\n",
       "      <td>NaN</td>\n",
       "      <td>NaN</td>\n",
       "      <td>NaN</td>\n",
       "      <td>NaN</td>\n",
       "      <td>inf</td>\n",
       "      <td>NaN</td>\n",
       "    </tr>\n",
       "    <tr>\n",
       "      <th>559</th>\n",
       "      <td>23</td>\n",
       "      <td>99:9</td>\n",
       "      <td>0</td>\n",
       "      <td>0.000</td>\n",
       "      <td>0.0</td>\n",
       "      <td>0.0</td>\n",
       "      <td>0.0</td>\n",
       "      <td>0.0</td>\n",
       "      <td>900.0</td>\n",
       "      <td>0.0</td>\n",
       "      <td>NaN</td>\n",
       "      <td>NaN</td>\n",
       "      <td>NaN</td>\n",
       "      <td>NaN</td>\n",
       "      <td>inf</td>\n",
       "      <td>NaN</td>\n",
       "    </tr>\n",
       "    <tr>\n",
       "      <th>560</th>\n",
       "      <td>1</td>\n",
       "      <td>9:1</td>\n",
       "      <td>Svenska institutet för europapolitiska studier...</td>\n",
       "      <td>31.550</td>\n",
       "      <td>0.0</td>\n",
       "      <td>0.0</td>\n",
       "      <td>0.0</td>\n",
       "      <td>0.0</td>\n",
       "      <td>-19.0</td>\n",
       "      <td>0.0</td>\n",
       "      <td>0.0</td>\n",
       "      <td>0.000000</td>\n",
       "      <td>0.0</td>\n",
       "      <td>0.0</td>\n",
       "      <td>-0.602219</td>\n",
       "      <td>0.000000</td>\n",
       "    </tr>\n",
       "    <tr>\n",
       "      <th>561</th>\n",
       "      <td>17</td>\n",
       "      <td>9:1</td>\n",
       "      <td>Myndigheten för stöd till trossamfund</td>\n",
       "      <td>16.327</td>\n",
       "      <td>0.0</td>\n",
       "      <td>0.0</td>\n",
       "      <td>0.0</td>\n",
       "      <td>0.0</td>\n",
       "      <td>3.0</td>\n",
       "      <td>0.0</td>\n",
       "      <td>0.0</td>\n",
       "      <td>0.000000</td>\n",
       "      <td>0.0</td>\n",
       "      <td>0.0</td>\n",
       "      <td>0.183745</td>\n",
       "      <td>0.000000</td>\n",
       "    </tr>\n",
       "    <tr>\n",
       "      <th>562</th>\n",
       "      <td>17</td>\n",
       "      <td>9:2</td>\n",
       "      <td>Stöd till trossamfund</td>\n",
       "      <td>81.919</td>\n",
       "      <td>0.0</td>\n",
       "      <td>55.0</td>\n",
       "      <td>0.0</td>\n",
       "      <td>0.0</td>\n",
       "      <td>-25.0</td>\n",
       "      <td>0.0</td>\n",
       "      <td>0.0</td>\n",
       "      <td>0.671395</td>\n",
       "      <td>0.0</td>\n",
       "      <td>0.0</td>\n",
       "      <td>-0.305180</td>\n",
       "      <td>0.000000</td>\n",
       "    </tr>\n",
       "  </tbody>\n",
       "</table>\n",
       "<p>563 rows × 16 columns</p>\n",
       "</div>"
      ],
      "text/plain": [
       "    Utgiftsområde Anslag                                               Namn  \\\n",
       "0              17   10:1                                           Filmstöd   \n",
       "1              17   11:1                           Sändningar av TV Finland   \n",
       "2              17   11:2   Forskning och dokumentation om medieutvecklingen   \n",
       "3              17   11:3  Avgift till europeiska audiovisuella observato...   \n",
       "4              17   11:4                                   Statens medieråd   \n",
       "..            ...    ...                                                ...   \n",
       "558            17   99:9                                                  0   \n",
       "559            23   99:9                                                  0   \n",
       "560             1    9:1  Svenska institutet för europapolitiska studier...   \n",
       "561            17    9:1              Myndigheten för stöd till trossamfund   \n",
       "562            17    9:2                              Stöd till trossamfund   \n",
       "\n",
       "     Regeringen    C     KD    L    M     SD     V  C_prc    KD_prc  L_prc  \\\n",
       "0       608.444  0.0 -155.0  0.0  0.0 -155.0  10.0    0.0 -0.254748    0.0   \n",
       "1         9.721  0.0    0.0  0.0  0.0    0.0   0.0    0.0  0.000000    0.0   \n",
       "2         3.471  0.0    0.0  0.0  0.0    0.0   0.0    0.0  0.000000    0.0   \n",
       "3         0.483  0.0    0.0  0.0  0.0    0.0   0.0    0.0  0.000000    0.0   \n",
       "4        24.144  0.0    0.0  0.0  0.0  -15.0   0.0    0.0  0.000000    0.0   \n",
       "..          ...  ...    ...  ...  ...    ...   ...    ...       ...    ...   \n",
       "558       0.000  0.0    0.0  0.0  0.0  300.0   0.0    NaN       NaN    NaN   \n",
       "559       0.000  0.0    0.0  0.0  0.0  900.0   0.0    NaN       NaN    NaN   \n",
       "560      31.550  0.0    0.0  0.0  0.0  -19.0   0.0    0.0  0.000000    0.0   \n",
       "561      16.327  0.0    0.0  0.0  0.0    3.0   0.0    0.0  0.000000    0.0   \n",
       "562      81.919  0.0   55.0  0.0  0.0  -25.0   0.0    0.0  0.671395    0.0   \n",
       "\n",
       "     M_prc    SD_prc     V_prc  \n",
       "0      0.0 -0.254748  0.016435  \n",
       "1      0.0  0.000000  0.000000  \n",
       "2      0.0  0.000000  0.000000  \n",
       "3      0.0  0.000000  0.000000  \n",
       "4      0.0 -0.621272  0.000000  \n",
       "..     ...       ...       ...  \n",
       "558    NaN       inf       NaN  \n",
       "559    NaN       inf       NaN  \n",
       "560    0.0 -0.602219  0.000000  \n",
       "561    0.0  0.183745  0.000000  \n",
       "562    0.0 -0.305180  0.000000  \n",
       "\n",
       "[563 rows x 16 columns]"
      ]
     },
     "execution_count": 278,
     "metadata": {},
     "output_type": "execute_result"
    }
   ],
   "source": [
    "df"
   ]
  },
  {
   "cell_type": "code",
   "execution_count": 276,
   "id": "f951e90f-8e37-4f7a-b897-6db678ecc2f6",
   "metadata": {},
   "outputs": [],
   "source": [
    "p = df[df.Namn == 'Polismyndigheten']"
   ]
  },
  {
   "cell_type": "code",
   "execution_count": 277,
   "id": "c18855b0-4b01-4b36-9f38-c43d8930d335",
   "metadata": {},
   "outputs": [
    {
     "data": {
      "text/html": [
       "<div>\n",
       "<style scoped>\n",
       "    .dataframe tbody tr th:only-of-type {\n",
       "        vertical-align: middle;\n",
       "    }\n",
       "\n",
       "    .dataframe tbody tr th {\n",
       "        vertical-align: top;\n",
       "    }\n",
       "\n",
       "    .dataframe thead th {\n",
       "        text-align: right;\n",
       "    }\n",
       "</style>\n",
       "<table border=\"1\" class=\"dataframe\">\n",
       "  <thead>\n",
       "    <tr style=\"text-align: right;\">\n",
       "      <th></th>\n",
       "      <th>Utgiftsområde</th>\n",
       "      <th>Anslag</th>\n",
       "      <th>Namn</th>\n",
       "      <th>Regeringen</th>\n",
       "      <th>C</th>\n",
       "      <th>KD</th>\n",
       "      <th>L</th>\n",
       "      <th>M</th>\n",
       "      <th>SD</th>\n",
       "      <th>V</th>\n",
       "      <th>C_prc</th>\n",
       "      <th>KD_prc</th>\n",
       "      <th>L_prc</th>\n",
       "      <th>M_prc</th>\n",
       "      <th>SD_prc</th>\n",
       "      <th>V_prc</th>\n",
       "    </tr>\n",
       "  </thead>\n",
       "  <tbody>\n",
       "    <tr>\n",
       "      <th>38</th>\n",
       "      <td>4</td>\n",
       "      <td>1:1</td>\n",
       "      <td>Polismyndigheten</td>\n",
       "      <td>32985.967</td>\n",
       "      <td>321.0</td>\n",
       "      <td>1315.0</td>\n",
       "      <td>400.0</td>\n",
       "      <td>863.0</td>\n",
       "      <td>3145.0</td>\n",
       "      <td>70.0</td>\n",
       "      <td>0.009731</td>\n",
       "      <td>0.039865</td>\n",
       "      <td>0.012126</td>\n",
       "      <td>0.026163</td>\n",
       "      <td>0.095344</td>\n",
       "      <td>0.002122</td>\n",
       "    </tr>\n",
       "  </tbody>\n",
       "</table>\n",
       "</div>"
      ],
      "text/plain": [
       "   Utgiftsområde Anslag              Namn  Regeringen      C      KD      L  \\\n",
       "38             4    1:1  Polismyndigheten   32985.967  321.0  1315.0  400.0   \n",
       "\n",
       "        M      SD     V     C_prc    KD_prc     L_prc     M_prc    SD_prc  \\\n",
       "38  863.0  3145.0  70.0  0.009731  0.039865  0.012126  0.026163  0.095344   \n",
       "\n",
       "       V_prc  \n",
       "38  0.002122  "
      ]
     },
     "execution_count": 277,
     "metadata": {},
     "output_type": "execute_result"
    }
   ],
   "source": [
    "p"
   ]
  },
  {
   "cell_type": "code",
   "execution_count": 116,
   "id": "872bb041-8d04-4c48-9b23-35eee7e79452",
   "metadata": {},
   "outputs": [
    {
     "data": {
      "text/html": [
       "<div>\n",
       "<style scoped>\n",
       "    .dataframe tbody tr th:only-of-type {\n",
       "        vertical-align: middle;\n",
       "    }\n",
       "\n",
       "    .dataframe tbody tr th {\n",
       "        vertical-align: top;\n",
       "    }\n",
       "\n",
       "    .dataframe thead th {\n",
       "        text-align: right;\n",
       "    }\n",
       "</style>\n",
       "<table border=\"1\" class=\"dataframe\">\n",
       "  <thead>\n",
       "    <tr style=\"text-align: right;\">\n",
       "      <th></th>\n",
       "      <th>Utgiftsområde</th>\n",
       "      <th>Anslag</th>\n",
       "      <th>Namn</th>\n",
       "      <th>Regeringen</th>\n",
       "      <th>C</th>\n",
       "      <th>KD</th>\n",
       "      <th>L</th>\n",
       "      <th>M</th>\n",
       "      <th>SD</th>\n",
       "      <th>V</th>\n",
       "      <th>C_prc</th>\n",
       "      <th>KD_prc</th>\n",
       "      <th>L_prc</th>\n",
       "      <th>M_prc</th>\n",
       "      <th>SD_prc</th>\n",
       "      <th>V_prc</th>\n",
       "    </tr>\n",
       "  </thead>\n",
       "  <tbody>\n",
       "    <tr>\n",
       "      <th>29</th>\n",
       "      <td>4</td>\n",
       "      <td>1:1</td>\n",
       "      <td>Polismyndigheten</td>\n",
       "      <td>32985.967</td>\n",
       "      <td>321.0</td>\n",
       "      <td>1315.0</td>\n",
       "      <td>400.0</td>\n",
       "      <td>863.0</td>\n",
       "      <td>3145.0</td>\n",
       "      <td>70.0</td>\n",
       "      <td>0.009731</td>\n",
       "      <td>0.039865</td>\n",
       "      <td>0.012126</td>\n",
       "      <td>0.026163</td>\n",
       "      <td>0.095344</td>\n",
       "      <td>0.002122</td>\n",
       "    </tr>\n",
       "  </tbody>\n",
       "</table>\n",
       "</div>"
      ],
      "text/plain": [
       "   Utgiftsområde Anslag              Namn  Regeringen      C      KD      L  \\\n",
       "29             4    1:1  Polismyndigheten   32985.967  321.0  1315.0  400.0   \n",
       "\n",
       "        M      SD     V     C_prc    KD_prc     L_prc     M_prc    SD_prc  \\\n",
       "29  863.0  3145.0  70.0  0.009731  0.039865  0.012126  0.026163  0.095344   \n",
       "\n",
       "       V_prc  \n",
       "29  0.002122  "
      ]
     },
     "execution_count": 116,
     "metadata": {},
     "output_type": "execute_result"
    }
   ],
   "source": [
    "p"
   ]
  },
  {
   "cell_type": "code",
   "execution_count": 118,
   "id": "2db69a97-6015-4998-a73f-e4ae80a94883",
   "metadata": {},
   "outputs": [
    {
     "data": {
      "text/plain": [
       "<matplotlib.lines.Line2D at 0x119b770d0>"
      ]
     },
     "execution_count": 118,
     "metadata": {},
     "output_type": "execute_result"
    },
    {
     "data": {
      "image/png": "[encoded data removed]",
      "text/plain": [
       "<Figure size 432x288 with 1 Axes>"
      ]
     },
     "metadata": {
      "image/png": {
       "height": 248,
       "width": 370
      },
      "needs_background": "light"
     },
     "output_type": "display_data"
    }
   ],
   "source": [
    "ax = p[['C', 'KD', 'L', 'M', 'SD', 'V']].T.sort_values(29).plot.barh(legend=False)\n",
    "ax.axvline(1, c='#000000')"
   ]
  },
  {
   "cell_type": "code",
   "execution_count": null,
   "id": "a8cfd353-319d-4272-8c78-292899d553c4",
   "metadata": {},
   "outputs": [],
   "source": []
  }
 ],
 "metadata": {
  "kernelspec": {
   "display_name": "Python 3 (ipykernel)",
   "language": "python",
   "name": "python3"
  },
  "language_info": {
   "codemirror_mode": {
    "name": "ipython",
    "version": 3
   },
   "file_extension": ".py",
   "mimetype": "text/x-python",
   "name": "python",
   "nbconvert_exporter": "python",
   "pygments_lexer": "ipython3",
   "version": "3.9.0"
  }
 },
 "nbformat": 4,
 "nbformat_minor": 5
}
