{
 "cells": [
  {
   "cell_type": "markdown",
   "id": "b34cbbff-d47b-4268-8665-214c77813a0f",
   "metadata": {},
   "source": [
    "# Sammanställning av utgiftsramar 2022"
   ]
  },
  {
   "cell_type": "code",
   "execution_count": 2,
   "id": "66bcfab1-5de0-4a0c-9503-73fdc7ee499c",
   "metadata": {},
   "outputs": [],
   "source": [
    "import requests\n",
    "import pandas as pd"
   ]
  },
  {
   "cell_type": "code",
   "execution_count": 3,
   "id": "07e9421a-c1d9-407f-aa33-81ef751080c8",
   "metadata": {},
   "outputs": [],
   "source": [
    "def fetch_summary_tables(party, dok_id, idx):\n",
    "    url = f'https://www.riksdagen.se/sv/dokument-lagar/dokument/motion/{dok_id}/html'\n",
    "    tables = pd.read_html(url, header=0)\n",
    "\n",
    "    a = tables[idx]    # 2022\n",
    "    b = tables[idx+1]  # 2023-2024\n",
    "\n",
    "    a = a.drop('Regeringens förslag', axis=1)\n",
    "    a.columns = ['Utgiftsområde', 'Namn', '2022']\n",
    "\n",
    "    b = b.dropna(subset=['Utgiftsområde'])\n",
    "    b.columns = ['Utgiftsområde', 'Namn', '2023', '2024']\n",
    "    b = b.drop('Namn', axis=1)\n",
    "\n",
    "    df = pd.merge(a, b, on='Utgiftsområde')\n",
    "    df = df.head(27)\n",
    "    \n",
    "    df['Parti'] = party\n",
    "    \n",
    "    for col in ['2022', '2023', '2024']:\n",
    "        df[col] = df[col].fillna(0).astype(str)\n",
    "        df[col] = df[col].str.split('.', expand=True)[0]\n",
    "        df[col] = df[col].str.replace('±0', '0', regex=False)\n",
    "        df[col] = df[col].str.replace('\\s+', '', regex=True)\n",
    "        df[col] = df[col].str.replace('−', '-')\n",
    "        df[col] = df[col].str.replace('–', '-')\n",
    "        df[col] = df[col].astype(int)\n",
    "        if col in ['2023', '2024']:\n",
    "            df[col] = df[col] * 1_000_000\n",
    "        else:\n",
    "            df[col] = df[col] * 1_000\n",
    "    \n",
    "    return df"
   ]
  },
  {
   "cell_type": "code",
   "execution_count": 4,
   "id": "6b6bde60-8047-4f31-92db-b119679314de",
   "metadata": {},
   "outputs": [],
   "source": [
    "config = [\n",
    "    {'party': 'KD', 'dok_id': 'hela-sverige-ska-fungera---kristdemokraternas_H9024221', 'idx': 10},\n",
    "    {'party': 'L', 'dok_id': 'ny-start-for-sverige---liberalernas-budgetmotion_H9024181', 'idx': 4},\n",
    "    {'party': 'M', 'dok_id': 'okad-trygghet-och-fler-som-arbetar---moderaternas_H9024040', 'idx': 6},\n",
    "    {'party': 'SD', 'dok_id': 'nu-ar-det-dags-for-sverige---sverigedemokraternas_H9023938', 'idx': 52},\n",
    "    {'party': 'V', 'dok_id': 'rod-politik-for-en-gron-omstallning_H9023278', 'idx': 8},\n",
    "]"
   ]
  },
  {
   "cell_type": "code",
   "execution_count": 5,
   "id": "935e63d1-d5a0-4e83-bbef-52a352ffe4d6",
   "metadata": {},
   "outputs": [],
   "source": [
    "frames = []\n",
    "\n",
    "for item in config:\n",
    "    frames.append(fetch_summary_tables(**item))"
   ]
  },
  {
   "cell_type": "code",
   "execution_count": 6,
   "id": "cc3f082e-08a7-4e96-b0e7-fec88f490f7f",
   "metadata": {},
   "outputs": [],
   "source": [
    "df = pd.concat(frames, sort=False)"
   ]
  },
  {
   "cell_type": "markdown",
   "id": "94febb02-7031-42fe-8d05-8d63ca5be8b5",
   "metadata": {},
   "source": [
    "**Centerpartiet**\n",
    "\n",
    "Centerpartiet has included their budget tables as images in the motions, so we transcribe this manually."
   ]
  },
  {
   "cell_type": "code",
   "execution_count": 13,
   "id": "37af164e-2a12-4b87-82a8-e996fb6661f6",
   "metadata": {},
   "outputs": [],
   "source": [
    "c_data = [\n",
    "    {'Utgiftsområde': 1, 'Namn': 'Rikets styrelse', '2022': 25_054, '2023': -20, '2024': -15, 'Parti': 'C'},\n",
    "    {'Utgiftsområde': 2, 'Namn': 'Samhällsekonomi och finansförvaltning', '2022': 250_925, '2023': -40, '2024': -40, 'Parti': 'C'},\n",
    "    {'Utgiftsområde': 3, 'Namn': 'Skatt, tull och exekution', '2022': 27_319, '2023': 0, '2024': 0, 'Parti': 'C'},\n",
    "    {'Utgiftsområde': 4, 'Namn': 'Rättsväsendet', '2022': 361_450, '2023': 446, '2024': 491, 'Parti': 'C'},\n",
    "    {'Utgiftsområde': 5, 'Namn': 'Internationell samverkan', '2022': 3_610, '2023': 3, '2024': 3, 'Parti': 'C'},\n",
    "    {'Utgiftsområde': 6, 'Namn': 'Försvar och samhällets krisberedskap', '2022': 369_000, '2023': 369, '2024': 369, 'Parti': 'C'},\n",
    "    {'Utgiftsområde': 7, 'Namn': 'Internationellt bistånd', '2022': 0, '2023': 0, '2024': 0, 'Parti': 'C'},\n",
    "    {'Utgiftsområde': 8, 'Namn': 'Migration', '2022': -10_236, '2023': -29, '2024': -29, 'Parti': 'C'},\n",
    "    {'Utgiftsområde': 9, 'Namn': 'Hälsovård, sjukvård och social omsorg', '2022': 400_983, '2023': 715, '2024': 565, 'Parti': 'C'},\n",
    "    {'Utgiftsområde': 10, 'Namn': 'Ekonomisk trygghet vid sjukdom och funktionsnedsättning', '2022': -2_015_655, '2023': -2_201, '2024': -2_199, 'Parti': 'C'},\n",
    "    {'Utgiftsområde': 11, 'Namn': 'Ekonomisk trygghet vid ålderdom', '2022': -501_045, '2023': -504, '2024': -504, 'Parti': 'C'},\n",
    "    {'Utgiftsområde': 12, 'Namn': 'Ekonomisk trygghet för familjer och barn', '2022': -3_094_000, '2023': -3_810, '2024': -3_888, 'Parti': 'C'},\n",
    "    {'Utgiftsområde': 13, 'Namn': 'Jämställdhet och nyanlända invandrares etablering', '2022': 14_194, '2023': 21, '2024': 21, 'Parti': 'C'},\n",
    "    {'Utgiftsområde': 14, 'Namn': 'Arbetsmarknad och arbetsliv', '2022': -2_407_904, '2023': 1_635, '2024': 50, 'Parti': 'C'},\n",
    "    {'Utgiftsområde': 15, 'Namn': 'Studiestöd', '2022': -1_180, '2023': -5, '2024': -5, 'Parti': 'C'},\n",
    "    {'Utgiftsområde': 16, 'Namn': 'Utbildning och universitetsforskning', '2022': -1_244_134, '2023': -492, '2024': -690, 'Parti': 'C'},\n",
    "    {'Utgiftsområde': 17, 'Namn': 'Kultur, medier, trossamfund och fritid', '2022': -220_420, '2023': -42, '2024': -42, 'Parti': 'C'},\n",
    "    {'Utgiftsområde': 18, 'Namn': 'Samhällsplanering, bostadsförsörjning och byggande samt konsumentpolitik', '2022': -1_917_695, '2023': -1_518, '2024': -4_112, 'Parti': 'C'},\n",
    "    {'Utgiftsområde': 19, 'Namn': 'Regional utveckling', '2022': -350_000, '2023': 0, '2024': 0, 'Parti': 'C'},\n",
    "    {'Utgiftsområde': 20, 'Namn': 'Allmän miljö- och naturvård', '2022': -973_225, '2023': -470, '2024': -407, 'Parti': 'C'},\n",
    "    {'Utgiftsområde': 21, 'Namn': 'Energi', '2022': -5_952, '2023': 62, '2024': 102, 'Parti': 'C'},\n",
    "    {'Utgiftsområde': 22, 'Namn': 'Kommunikationer', '2022': 1_001_026, '2023': 1_386, '2024': 1_986, 'Parti': 'C'},\n",
    "    {'Utgiftsområde': 23, 'Namn': 'Areella näringar, landsbygd och livsmedel', '2022': 1_008_979, '2023': 995, '2024': 995, 'Parti': 'C'},\n",
    "    {'Utgiftsområde': 24, 'Namn': 'Näringsliv', '2022': 54_429, '2023': 231, '2024': 221, 'Parti': 'C'},\n",
    "    {'Utgiftsområde': 25, 'Namn': 'Allmänna bidrag till kommuner', '2022': 378_500, '2023': -1_257, '2024': -1_165, 'Parti': 'C'},\n",
    "    {'Utgiftsområde': 26, 'Namn': 'Statsskuldsräntor m.m.', '2022': 0, '2023': 0, '2024': 0, 'Parti': 'C'},\n",
    "    {'Utgiftsområde': 27, 'Namn': 'Avgiften till Europeiska unionen', '2022': 0, '2023': 0, '2024': 0, 'Parti': 'C'},\n",
    "]"
   ]
  },
  {
   "cell_type": "code",
   "execution_count": 24,
   "id": "3ea69ecb-3d7e-4c47-86db-3d988f557615",
   "metadata": {},
   "outputs": [],
   "source": [
    "c = pd.DataFrame(c_data)\n",
    "\n",
    "c['2022'] = c['2022'] * 1_000\n",
    "c['2023'] = c['2023'] * 1_000_000\n",
    "c['2024'] = c['2024'] * 1_000_000"
   ]
  },
  {
   "cell_type": "code",
   "execution_count": 26,
   "id": "b6a9308b-a988-4d13-8267-5d51c931f3aa",
   "metadata": {},
   "outputs": [],
   "source": [
    "df = pd.concat([df, c], sort=False)"
   ]
  },
  {
   "cell_type": "code",
   "execution_count": 28,
   "id": "edb384d0-4fbe-4ec5-b447-f37c991926b7",
   "metadata": {},
   "outputs": [],
   "source": [
    "df.to_csv('../data/budgetmotion-2022-summor.csv', index=False)"
   ]
  },
  {
   "cell_type": "code",
   "execution_count": null,
   "id": "ef1f474f-adaf-4fc9-b26b-143565bcfa8f",
   "metadata": {},
   "outputs": [],
   "source": []
  }
 ],
 "metadata": {
  "kernelspec": {
   "display_name": "Python 3 (ipykernel)",
   "language": "python",
   "name": "python3"
  },
  "language_info": {
   "codemirror_mode": {
    "name": "ipython",
    "version": 3
   },
   "file_extension": ".py",
   "mimetype": "text/x-python",
   "name": "python",
   "nbconvert_exporter": "python",
   "pygments_lexer": "ipython3",
   "version": "3.9.0"
  }
 },
 "nbformat": 4,
 "nbformat_minor": 5
}
