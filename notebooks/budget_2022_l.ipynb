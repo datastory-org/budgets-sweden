{
 "cells": [
  {
   "cell_type": "markdown",
   "id": "250a5e22-9768-4f92-8b00-9197d2a8c4b3",
   "metadata": {},
   "source": [
    "https://www.riksdagen.se/sv/dokument-lagar/dokument/motion/ny-start-for-sverige--liberalernas-budgetmotion_H9024181"
   ]
  },
  {
   "cell_type": "code",
   "execution_count": 19,
   "id": "867f8a98-1988-4703-adcb-7c7e36be1e38",
   "metadata": {},
   "outputs": [],
   "source": [
    "import pandas as pd"
   ]
  },
  {
   "cell_type": "code",
   "execution_count": 20,
   "id": "a793b9e9-a2ae-4708-9312-c904f2353079",
   "metadata": {},
   "outputs": [],
   "source": [
    "# currency multiplier used in this budget\n",
    "multiplier = 1_000"
   ]
  },
  {
   "cell_type": "code",
   "execution_count": 21,
   "id": "8b817f22-695b-4490-83b3-a49d8da2e3f0",
   "metadata": {},
   "outputs": [],
   "source": [
    "html_url = 'https://www.riksdagen.se/sv/dokument-lagar/dokument/motion/ny-start-for-sverige--liberalernas-budgetmotion_H9024181/html'"
   ]
  },
  {
   "cell_type": "code",
   "execution_count": 22,
   "id": "4afddf3f-2a0c-4710-b49e-cca2428849c0",
   "metadata": {},
   "outputs": [],
   "source": [
    "tables = pd.read_html(html_url)"
   ]
  },
  {
   "cell_type": "code",
   "execution_count": 23,
   "id": "9aa06f1a-ce1e-4734-a661-a679a991e779",
   "metadata": {},
   "outputs": [
    {
     "data": {
      "text/plain": [
       "54"
      ]
     },
     "execution_count": 23,
     "metadata": {},
     "output_type": "execute_result"
    }
   ],
   "source": [
    "len(tables)"
   ]
  },
  {
   "cell_type": "code",
   "execution_count": 24,
   "id": "2d846d84-5925-4ccd-8ebd-a433321205e4",
   "metadata": {},
   "outputs": [],
   "source": [
    "tables = tables[13:38]"
   ]
  },
  {
   "cell_type": "code",
   "execution_count": 25,
   "id": "677f7ab6-862f-4936-aed0-e15bf1400757",
   "metadata": {},
   "outputs": [],
   "source": [
    "for table in tables:\n",
    "    table.columns = ['Kod', 'Namn', '2022', '2023', '2024']\n",
    "    table.drop([0, 1], inplace=True)"
   ]
  },
  {
   "cell_type": "code",
   "execution_count": 26,
   "id": "32400eb4-2e40-435e-bc75-bd449492c764",
   "metadata": {},
   "outputs": [],
   "source": [
    "df = pd.concat(tables, sort=False)"
   ]
  },
  {
   "cell_type": "code",
   "execution_count": 27,
   "id": "806e1a6d-f222-4965-bfec-91649f9b0454",
   "metadata": {},
   "outputs": [],
   "source": [
    "df = df.dropna(how='all')"
   ]
  },
  {
   "cell_type": "code",
   "execution_count": 28,
   "id": "47862d6f-5ad1-4f66-b8d0-60b105c9e3b1",
   "metadata": {},
   "outputs": [],
   "source": [
    "df = df[df.Kod != 'Summa']"
   ]
  },
  {
   "cell_type": "code",
   "execution_count": 29,
   "id": "7324f2c1-3b49-4dfd-9e2c-4b2b4c1de42e",
   "metadata": {},
   "outputs": [],
   "source": [
    "df = df[~df.Kod.str.startswith('Utgiftsområde')]"
   ]
  },
  {
   "cell_type": "code",
   "execution_count": 30,
   "id": "76943c14-9929-4fd6-86b3-bf23016bd8a7",
   "metadata": {},
   "outputs": [],
   "source": [
    "df = df.replace('±0', '0')"
   ]
  },
  {
   "cell_type": "code",
   "execution_count": 31,
   "id": "faf83fe4-2b59-4116-bf92-7e3f5e807e55",
   "metadata": {},
   "outputs": [],
   "source": [
    "df = df.drop(['2023', '2024'], axis=1)"
   ]
  },
  {
   "cell_type": "code",
   "execution_count": 32,
   "id": "3dbe7224-6014-499f-8f05-623b8cacddf0",
   "metadata": {},
   "outputs": [],
   "source": [
    "df['2022'] = df['2022'].str.replace('−', '-')\n",
    "df['2022'] = df['2022'].astype(int) * multiplier"
   ]
  },
  {
   "cell_type": "code",
   "execution_count": 33,
   "id": "6d5cd78d-ac95-489a-be3a-61eb0f1ec610",
   "metadata": {},
   "outputs": [],
   "source": [
    "df = df.rename(columns={'2022': 'Avvikelse från regeringen'})"
   ]
  },
  {
   "cell_type": "code",
   "execution_count": 37,
   "id": "10adfa85-e3ad-4eff-abbe-7b2d77d4dede",
   "metadata": {},
   "outputs": [],
   "source": [
    "df = df.rename(columns={'Kod': 'Utgiftsområde'})"
   ]
  },
  {
   "cell_type": "code",
   "execution_count": 39,
   "id": "27a40c25-4c12-4892-a665-da989d26e9f2",
   "metadata": {},
   "outputs": [],
   "source": [
    "df.to_csv('../data/budgetmotion-2022-l.csv', index=False)"
   ]
  },
  {
   "cell_type": "code",
   "execution_count": null,
   "id": "cf5dec4c-077f-447d-9fe7-94beac2223c5",
   "metadata": {},
   "outputs": [],
   "source": []
  }
 ],
 "metadata": {
  "kernelspec": {
   "display_name": "Python 3 (ipykernel)",
   "language": "python",
   "name": "python3"
  },
  "language_info": {
   "codemirror_mode": {
    "name": "ipython",
    "version": 3
   },
   "file_extension": ".py",
   "mimetype": "text/x-python",
   "name": "python",
   "nbconvert_exporter": "python",
   "pygments_lexer": "ipython3",
   "version": "3.9.0"
  }
 },
 "nbformat": 4,
 "nbformat_minor": 5
}
