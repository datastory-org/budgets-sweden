{
 "cells": [
  {
   "cell_type": "markdown",
   "id": "250a5e22-9768-4f92-8b00-9197d2a8c4b3",
   "metadata": {},
   "source": [
    "https://www.riksdagen.se/sv/dokument-lagar/dokument/motion/okad-trygghet-och-fler-som-arbetar--moderaternas_H9024040"
   ]
  },
  {
   "cell_type": "code",
   "execution_count": 31,
   "id": "867f8a98-1988-4703-adcb-7c7e36be1e38",
   "metadata": {},
   "outputs": [],
   "source": [
    "import pandas as pd"
   ]
  },
  {
   "cell_type": "code",
   "execution_count": 32,
   "id": "54c57f3d-d36b-479a-8270-6707a9a0c569",
   "metadata": {},
   "outputs": [],
   "source": [
    "multiplier = 1_000_000"
   ]
  },
  {
   "cell_type": "code",
   "execution_count": 33,
   "id": "8b817f22-695b-4490-83b3-a49d8da2e3f0",
   "metadata": {},
   "outputs": [],
   "source": [
    "html_url = 'https://www.riksdagen.se/sv/dokument-lagar/dokument/motion/okad-trygghet-och-fler-som-arbetar--moderaternas_H9024040/html'"
   ]
  },
  {
   "cell_type": "code",
   "execution_count": 34,
   "id": "4afddf3f-2a0c-4710-b49e-cca2428849c0",
   "metadata": {},
   "outputs": [],
   "source": [
    "tables = pd.read_html(html_url)"
   ]
  },
  {
   "cell_type": "code",
   "execution_count": 35,
   "id": "9aa06f1a-ce1e-4734-a661-a679a991e779",
   "metadata": {},
   "outputs": [
    {
     "data": {
      "text/plain": [
       "40"
      ]
     },
     "execution_count": 35,
     "metadata": {},
     "output_type": "execute_result"
    }
   ],
   "source": [
    "len(tables)"
   ]
  },
  {
   "cell_type": "code",
   "execution_count": 36,
   "id": "cf5ac12a-1c6b-4106-9cf7-a7b58b8a1112",
   "metadata": {},
   "outputs": [],
   "source": [
    "tables = tables[15:-1]"
   ]
  },
  {
   "cell_type": "code",
   "execution_count": 37,
   "id": "677f7ab6-862f-4936-aed0-e15bf1400757",
   "metadata": {},
   "outputs": [],
   "source": [
    "for table in tables:\n",
    "    table.columns = ['Kod', 'Namn', '2022', '2023', '2024']\n",
    "    table.drop([0, 1], inplace=True)"
   ]
  },
  {
   "cell_type": "code",
   "execution_count": 38,
   "id": "32400eb4-2e40-435e-bc75-bd449492c764",
   "metadata": {},
   "outputs": [],
   "source": [
    "df = pd.concat(tables, sort=False)"
   ]
  },
  {
   "cell_type": "code",
   "execution_count": 39,
   "id": "806e1a6d-f222-4965-bfec-91649f9b0454",
   "metadata": {},
   "outputs": [],
   "source": [
    "df = df.dropna(how='all')"
   ]
  },
  {
   "cell_type": "code",
   "execution_count": 40,
   "id": "47862d6f-5ad1-4f66-b8d0-60b105c9e3b1",
   "metadata": {},
   "outputs": [],
   "source": [
    "df = df[df.Kod != 'Summa']"
   ]
  },
  {
   "cell_type": "code",
   "execution_count": 41,
   "id": "7324f2c1-3b49-4dfd-9e2c-4b2b4c1de42e",
   "metadata": {},
   "outputs": [],
   "source": [
    "df = df[~df.Kod.str.startswith('Utgiftsområde')]"
   ]
  },
  {
   "cell_type": "code",
   "execution_count": 42,
   "id": "76943c14-9929-4fd6-86b3-bf23016bd8a7",
   "metadata": {},
   "outputs": [],
   "source": [
    "df = df.replace('±0', '0')"
   ]
  },
  {
   "cell_type": "code",
   "execution_count": 43,
   "id": "b14799e9-a506-4201-8239-111afe1175e5",
   "metadata": {},
   "outputs": [],
   "source": [
    "df = df.drop(['2023', '2024'], axis=1)\n",
    "df = df.rename(columns={'2022': 'Avvikelse från regeringen'})"
   ]
  },
  {
   "cell_type": "code",
   "execution_count": 44,
   "id": "8197eb21-e919-4dd4-82d2-2bcaef537664",
   "metadata": {},
   "outputs": [],
   "source": [
    "df['Avvikelse från regeringen'] = df['Avvikelse från regeringen'].str.replace('−', '-')\n",
    "df['Avvikelse från regeringen'] = df['Avvikelse från regeringen'].astype(int)\n",
    "df['Avvikelse från regeringen'] = df['Avvikelse från regeringen'] * multiplier"
   ]
  },
  {
   "cell_type": "code",
   "execution_count": 46,
   "id": "cf70ab20-3b45-46f5-b32b-12e5bc65f8ac",
   "metadata": {},
   "outputs": [],
   "source": [
    "df = df.rename(columns={'Kod': 'Utgiftsområde'})"
   ]
  },
  {
   "cell_type": "code",
   "execution_count": 48,
   "id": "27a40c25-4c12-4892-a665-da989d26e9f2",
   "metadata": {},
   "outputs": [],
   "source": [
    "df.to_csv('../data/budgetmotion-2022-m.csv', index=False)"
   ]
  },
  {
   "cell_type": "code",
   "execution_count": null,
   "id": "cf5dec4c-077f-447d-9fe7-94beac2223c5",
   "metadata": {},
   "outputs": [],
   "source": []
  }
 ],
 "metadata": {
  "kernelspec": {
   "display_name": "Python 3 (ipykernel)",
   "language": "python",
   "name": "python3"
  },
  "language_info": {
   "codemirror_mode": {
    "name": "ipython",
    "version": 3
   },
   "file_extension": ".py",
   "mimetype": "text/x-python",
   "name": "python",
   "nbconvert_exporter": "python",
   "pygments_lexer": "ipython3",
   "version": "3.9.0"
  }
 },
 "nbformat": 4,
 "nbformat_minor": 5
}
