{
 "cells": [
  {
   "cell_type": "markdown",
   "id": "250a5e22-9768-4f92-8b00-9197d2a8c4b3",
   "metadata": {},
   "source": [
    "https://www.riksdagen.se/sv/dokument-lagar/dokument/motion/rod-politik-for-en-gron-omstallning_H9023278"
   ]
  },
  {
   "cell_type": "code",
   "execution_count": 1,
   "id": "867f8a98-1988-4703-adcb-7c7e36be1e38",
   "metadata": {},
   "outputs": [],
   "source": [
    "import pandas as pd"
   ]
  },
  {
   "cell_type": "code",
   "execution_count": 2,
   "id": "463a9659-8892-41df-9d39-a1c727ef20ad",
   "metadata": {},
   "outputs": [],
   "source": [
    "multiplier = 1_000_000"
   ]
  },
  {
   "cell_type": "code",
   "execution_count": 3,
   "id": "8b817f22-695b-4490-83b3-a49d8da2e3f0",
   "metadata": {},
   "outputs": [],
   "source": [
    "html_url = 'https://www.riksdagen.se/sv/dokument-lagar/dokument/motion/rod-politik-for-en-gron-omstallning_H9023278/html'"
   ]
  },
  {
   "cell_type": "code",
   "execution_count": 4,
   "id": "4afddf3f-2a0c-4710-b49e-cca2428849c0",
   "metadata": {},
   "outputs": [],
   "source": [
    "tables = pd.read_html(html_url)"
   ]
  },
  {
   "cell_type": "code",
   "execution_count": 5,
   "id": "9aa06f1a-ce1e-4734-a661-a679a991e779",
   "metadata": {},
   "outputs": [
    {
     "data": {
      "text/plain": [
       "49"
      ]
     },
     "execution_count": 5,
     "metadata": {},
     "output_type": "execute_result"
    }
   ],
   "source": [
    "len(tables)"
   ]
  },
  {
   "cell_type": "code",
   "execution_count": 6,
   "id": "2d846d84-5925-4ccd-8ebd-a433321205e4",
   "metadata": {},
   "outputs": [],
   "source": [
    "tables = tables[10:37]"
   ]
  },
  {
   "cell_type": "code",
   "execution_count": 7,
   "id": "677f7ab6-862f-4936-aed0-e15bf1400757",
   "metadata": {},
   "outputs": [],
   "source": [
    "for table in tables:\n",
    "    table.columns = ['Kod', 'Namn', '2022', '2023', '2024']\n",
    "    table.drop([0, 1], inplace=True)"
   ]
  },
  {
   "cell_type": "code",
   "execution_count": 8,
   "id": "32400eb4-2e40-435e-bc75-bd449492c764",
   "metadata": {},
   "outputs": [],
   "source": [
    "df = pd.concat(tables, sort=False)"
   ]
  },
  {
   "cell_type": "code",
   "execution_count": 9,
   "id": "806e1a6d-f222-4965-bfec-91649f9b0454",
   "metadata": {},
   "outputs": [],
   "source": [
    "df = df.dropna(how='all')"
   ]
  },
  {
   "cell_type": "code",
   "execution_count": 10,
   "id": "47862d6f-5ad1-4f66-b8d0-60b105c9e3b1",
   "metadata": {},
   "outputs": [],
   "source": [
    "df = df[df.Kod != 'Summa']"
   ]
  },
  {
   "cell_type": "code",
   "execution_count": 11,
   "id": "7324f2c1-3b49-4dfd-9e2c-4b2b4c1de42e",
   "metadata": {},
   "outputs": [],
   "source": [
    "df = df[~df.Kod.str.startswith('Utgiftsområde')]"
   ]
  },
  {
   "cell_type": "code",
   "execution_count": 12,
   "id": "76943c14-9929-4fd6-86b3-bf23016bd8a7",
   "metadata": {},
   "outputs": [],
   "source": [
    "df = df.replace('±0', '0')"
   ]
  },
  {
   "cell_type": "code",
   "execution_count": 14,
   "id": "370e1de5-689b-49ab-9a83-556b909b1d7a",
   "metadata": {},
   "outputs": [],
   "source": [
    "df = df.drop(['2023', '2024'], axis=1)\n",
    "df = df.rename(columns={'2022': 'Avvikelse från regeringen'})"
   ]
  },
  {
   "cell_type": "code",
   "execution_count": 16,
   "id": "61b5be66-48f0-4c1a-8d66-5b0eb2a2ff3b",
   "metadata": {},
   "outputs": [],
   "source": [
    "df['Avvikelse från regeringen'] = df['Avvikelse från regeringen'].str.replace('−', '-')\n",
    "df['Avvikelse från regeringen'] = df['Avvikelse från regeringen'].astype(int)\n",
    "df['Avvikelse från regeringen'] = df['Avvikelse från regeringen'] * multiplier"
   ]
  },
  {
   "cell_type": "code",
   "execution_count": 18,
   "id": "27a40c25-4c12-4892-a665-da989d26e9f2",
   "metadata": {},
   "outputs": [],
   "source": [
    "df.to_csv('../data/budgetmotion-2022-v.csv', index=False)"
   ]
  },
  {
   "cell_type": "code",
   "execution_count": null,
   "id": "cf5dec4c-077f-447d-9fe7-94beac2223c5",
   "metadata": {},
   "outputs": [],
   "source": []
  }
 ],
 "metadata": {
  "kernelspec": {
   "display_name": "Python 3 (ipykernel)",
   "language": "python",
   "name": "python3"
  },
  "language_info": {
   "codemirror_mode": {
    "name": "ipython",
    "version": 3
   },
   "file_extension": ".py",
   "mimetype": "text/x-python",
   "name": "python",
   "nbconvert_exporter": "python",
   "pygments_lexer": "ipython3",
   "version": "3.9.0"
  }
 },
 "nbformat": 4,
 "nbformat_minor": 5
}
